{
 "cells": [
  {
   "cell_type": "code",
   "execution_count": 1,
   "metadata": {},
   "outputs": [
    {
     "name": "stdout",
     "output_type": "stream",
     "text": [
      "Using matplotlib backend: nbAgg\n",
      "Populating the interactive namespace from numpy and matplotlib\n"
     ]
    }
   ],
   "source": [
    "%matplotlib nbagg\n",
    "%pylab"
   ]
  },
  {
   "cell_type": "markdown",
   "metadata": {},
   "source": [
    "# Load the data"
   ]
  },
  {
   "cell_type": "code",
   "execution_count": 2,
   "metadata": {},
   "outputs": [],
   "source": [
    "import pandas as pd\n",
    "from datetime import datetime"
   ]
  },
  {
   "cell_type": "code",
   "execution_count": 62,
   "metadata": {},
   "outputs": [],
   "source": [
    "import csv\n",
    "with open('csse_covid_19_data/csse_covid_19_time_series/time_series_19-covid-Confirmed.csv') as f:\n",
    "    docs = list(csv.DictReader(f))"
   ]
  },
  {
   "cell_type": "markdown",
   "metadata": {},
   "source": [
    "## Reformat it so is pandas friendly"
   ]
  },
  {
   "cell_type": "code",
   "execution_count": 63,
   "metadata": {},
   "outputs": [],
   "source": [
    "new_docs = []\n",
    "for doc in docs:\n",
    "    meta = {k: doc[k] for k in ['Province/State', 'Country/Region', 'Lat', 'Long']}\n",
    "    for k, v in doc.items():\n",
    "        if k in meta: continue\n",
    "        new_doc = meta.copy()\n",
    "        new_doc['date'] = datetime.strptime(k, '%m/%d/%y')\n",
    "        new_doc['cnt'] = int(v)\n",
    "        new_docs.append(new_doc)\n",
    "        "
   ]
  },
  {
   "cell_type": "code",
   "execution_count": 64,
   "metadata": {},
   "outputs": [],
   "source": [
    "df = (\n",
    "    pd.DataFrame(new_docs)\n",
    "      .rename(\n",
    "          columns={\n",
    "              'Province/State': 'province',\n",
    "              'Country/Region': 'country',\n",
    "              'Lat': 'lat', 'Long': 'long'\n",
    "          }\n",
    "      )\n",
    ")"
   ]
  },
  {
   "cell_type": "code",
   "execution_count": 98,
   "metadata": {},
   "outputs": [],
   "source": [
    "def get_rate(df, min_cnt=100, rolling_win=7):\n",
    "    s = df.groupby('date').cnt.sum().sort_index().rolling(rolling_win).mean()\n",
    "    s = s[s >= min_cnt]\n",
    "    return s / s.shift(1) \n",
    "\n",
    "def plot_rate(fig, rate, name, line=None, opacity=None):\n",
    "    fig.add_trace(\n",
    "        go.Scatter(\n",
    "            x=rate.index,\n",
    "            y=rate.values,\n",
    "            name=name,\n",
    "            line=line,\n",
    "            opacity=opacity\n",
    "        )\n",
    "    )"
   ]
  },
  {
   "cell_type": "markdown",
   "metadata": {},
   "source": [
    "# Start plotting"
   ]
  },
  {
   "cell_type": "markdown",
   "metadata": {},
   "source": [
    "## Current status"
   ]
  },
  {
   "cell_type": "code",
   "execution_count": 36,
   "metadata": {},
   "outputs": [
    {
     "data": {
      "application/javascript": [
       "/* Put everything inside the global mpl namespace */\n",
       "window.mpl = {};\n",
       "\n",
       "\n",
       "mpl.get_websocket_type = function() {\n",
       "    if (typeof(WebSocket) !== 'undefined') {\n",
       "        return WebSocket;\n",
       "    } else if (typeof(MozWebSocket) !== 'undefined') {\n",
       "        return MozWebSocket;\n",
       "    } else {\n",
       "        alert('Your browser does not have WebSocket support. ' +\n",
       "              'Please try Chrome, Safari or Firefox ≥ 6. ' +\n",
       "              'Firefox 4 and 5 are also supported but you ' +\n",
       "              'have to enable WebSockets in about:config.');\n",
       "    };\n",
       "}\n",
       "\n",
       "mpl.figure = function(figure_id, websocket, ondownload, parent_element) {\n",
       "    this.id = figure_id;\n",
       "\n",
       "    this.ws = websocket;\n",
       "\n",
       "    this.supports_binary = (this.ws.binaryType != undefined);\n",
       "\n",
       "    if (!this.supports_binary) {\n",
       "        var warnings = document.getElementById(\"mpl-warnings\");\n",
       "        if (warnings) {\n",
       "            warnings.style.display = 'block';\n",
       "            warnings.textContent = (\n",
       "                \"This browser does not support binary websocket messages. \" +\n",
       "                    \"Performance may be slow.\");\n",
       "        }\n",
       "    }\n",
       "\n",
       "    this.imageObj = new Image();\n",
       "\n",
       "    this.context = undefined;\n",
       "    this.message = undefined;\n",
       "    this.canvas = undefined;\n",
       "    this.rubberband_canvas = undefined;\n",
       "    this.rubberband_context = undefined;\n",
       "    this.format_dropdown = undefined;\n",
       "\n",
       "    this.image_mode = 'full';\n",
       "\n",
       "    this.root = $('<div/>');\n",
       "    this._root_extra_style(this.root)\n",
       "    this.root.attr('style', 'display: inline-block');\n",
       "\n",
       "    $(parent_element).append(this.root);\n",
       "\n",
       "    this._init_header(this);\n",
       "    this._init_canvas(this);\n",
       "    this._init_toolbar(this);\n",
       "\n",
       "    var fig = this;\n",
       "\n",
       "    this.waiting = false;\n",
       "\n",
       "    this.ws.onopen =  function () {\n",
       "            fig.send_message(\"supports_binary\", {value: fig.supports_binary});\n",
       "            fig.send_message(\"send_image_mode\", {});\n",
       "            if (mpl.ratio != 1) {\n",
       "                fig.send_message(\"set_dpi_ratio\", {'dpi_ratio': mpl.ratio});\n",
       "            }\n",
       "            fig.send_message(\"refresh\", {});\n",
       "        }\n",
       "\n",
       "    this.imageObj.onload = function() {\n",
       "            if (fig.image_mode == 'full') {\n",
       "                // Full images could contain transparency (where diff images\n",
       "                // almost always do), so we need to clear the canvas so that\n",
       "                // there is no ghosting.\n",
       "                fig.context.clearRect(0, 0, fig.canvas.width, fig.canvas.height);\n",
       "            }\n",
       "            fig.context.drawImage(fig.imageObj, 0, 0);\n",
       "        };\n",
       "\n",
       "    this.imageObj.onunload = function() {\n",
       "        fig.ws.close();\n",
       "    }\n",
       "\n",
       "    this.ws.onmessage = this._make_on_message_function(this);\n",
       "\n",
       "    this.ondownload = ondownload;\n",
       "}\n",
       "\n",
       "mpl.figure.prototype._init_header = function() {\n",
       "    var titlebar = $(\n",
       "        '<div class=\"ui-dialog-titlebar ui-widget-header ui-corner-all ' +\n",
       "        'ui-helper-clearfix\"/>');\n",
       "    var titletext = $(\n",
       "        '<div class=\"ui-dialog-title\" style=\"width: 100%; ' +\n",
       "        'text-align: center; padding: 3px;\"/>');\n",
       "    titlebar.append(titletext)\n",
       "    this.root.append(titlebar);\n",
       "    this.header = titletext[0];\n",
       "}\n",
       "\n",
       "\n",
       "\n",
       "mpl.figure.prototype._canvas_extra_style = function(canvas_div) {\n",
       "\n",
       "}\n",
       "\n",
       "\n",
       "mpl.figure.prototype._root_extra_style = function(canvas_div) {\n",
       "\n",
       "}\n",
       "\n",
       "mpl.figure.prototype._init_canvas = function() {\n",
       "    var fig = this;\n",
       "\n",
       "    var canvas_div = $('<div/>');\n",
       "\n",
       "    canvas_div.attr('style', 'position: relative; clear: both; outline: 0');\n",
       "\n",
       "    function canvas_keyboard_event(event) {\n",
       "        return fig.key_event(event, event['data']);\n",
       "    }\n",
       "\n",
       "    canvas_div.keydown('key_press', canvas_keyboard_event);\n",
       "    canvas_div.keyup('key_release', canvas_keyboard_event);\n",
       "    this.canvas_div = canvas_div\n",
       "    this._canvas_extra_style(canvas_div)\n",
       "    this.root.append(canvas_div);\n",
       "\n",
       "    var canvas = $('<canvas/>');\n",
       "    canvas.addClass('mpl-canvas');\n",
       "    canvas.attr('style', \"left: 0; top: 0; z-index: 0; outline: 0\")\n",
       "\n",
       "    this.canvas = canvas[0];\n",
       "    this.context = canvas[0].getContext(\"2d\");\n",
       "\n",
       "    var backingStore = this.context.backingStorePixelRatio ||\n",
       "\tthis.context.webkitBackingStorePixelRatio ||\n",
       "\tthis.context.mozBackingStorePixelRatio ||\n",
       "\tthis.context.msBackingStorePixelRatio ||\n",
       "\tthis.context.oBackingStorePixelRatio ||\n",
       "\tthis.context.backingStorePixelRatio || 1;\n",
       "\n",
       "    mpl.ratio = (window.devicePixelRatio || 1) / backingStore;\n",
       "\n",
       "    var rubberband = $('<canvas/>');\n",
       "    rubberband.attr('style', \"position: absolute; left: 0; top: 0; z-index: 1;\")\n",
       "\n",
       "    var pass_mouse_events = true;\n",
       "\n",
       "    canvas_div.resizable({\n",
       "        start: function(event, ui) {\n",
       "            pass_mouse_events = false;\n",
       "        },\n",
       "        resize: function(event, ui) {\n",
       "            fig.request_resize(ui.size.width, ui.size.height);\n",
       "        },\n",
       "        stop: function(event, ui) {\n",
       "            pass_mouse_events = true;\n",
       "            fig.request_resize(ui.size.width, ui.size.height);\n",
       "        },\n",
       "    });\n",
       "\n",
       "    function mouse_event_fn(event) {\n",
       "        if (pass_mouse_events)\n",
       "            return fig.mouse_event(event, event['data']);\n",
       "    }\n",
       "\n",
       "    rubberband.mousedown('button_press', mouse_event_fn);\n",
       "    rubberband.mouseup('button_release', mouse_event_fn);\n",
       "    // Throttle sequential mouse events to 1 every 20ms.\n",
       "    rubberband.mousemove('motion_notify', mouse_event_fn);\n",
       "\n",
       "    rubberband.mouseenter('figure_enter', mouse_event_fn);\n",
       "    rubberband.mouseleave('figure_leave', mouse_event_fn);\n",
       "\n",
       "    canvas_div.on(\"wheel\", function (event) {\n",
       "        event = event.originalEvent;\n",
       "        event['data'] = 'scroll'\n",
       "        if (event.deltaY < 0) {\n",
       "            event.step = 1;\n",
       "        } else {\n",
       "            event.step = -1;\n",
       "        }\n",
       "        mouse_event_fn(event);\n",
       "    });\n",
       "\n",
       "    canvas_div.append(canvas);\n",
       "    canvas_div.append(rubberband);\n",
       "\n",
       "    this.rubberband = rubberband;\n",
       "    this.rubberband_canvas = rubberband[0];\n",
       "    this.rubberband_context = rubberband[0].getContext(\"2d\");\n",
       "    this.rubberband_context.strokeStyle = \"#000000\";\n",
       "\n",
       "    this._resize_canvas = function(width, height) {\n",
       "        // Keep the size of the canvas, canvas container, and rubber band\n",
       "        // canvas in synch.\n",
       "        canvas_div.css('width', width)\n",
       "        canvas_div.css('height', height)\n",
       "\n",
       "        canvas.attr('width', width * mpl.ratio);\n",
       "        canvas.attr('height', height * mpl.ratio);\n",
       "        canvas.attr('style', 'width: ' + width + 'px; height: ' + height + 'px;');\n",
       "\n",
       "        rubberband.attr('width', width);\n",
       "        rubberband.attr('height', height);\n",
       "    }\n",
       "\n",
       "    // Set the figure to an initial 600x600px, this will subsequently be updated\n",
       "    // upon first draw.\n",
       "    this._resize_canvas(600, 600);\n",
       "\n",
       "    // Disable right mouse context menu.\n",
       "    $(this.rubberband_canvas).bind(\"contextmenu\",function(e){\n",
       "        return false;\n",
       "    });\n",
       "\n",
       "    function set_focus () {\n",
       "        canvas.focus();\n",
       "        canvas_div.focus();\n",
       "    }\n",
       "\n",
       "    window.setTimeout(set_focus, 100);\n",
       "}\n",
       "\n",
       "mpl.figure.prototype._init_toolbar = function() {\n",
       "    var fig = this;\n",
       "\n",
       "    var nav_element = $('<div/>');\n",
       "    nav_element.attr('style', 'width: 100%');\n",
       "    this.root.append(nav_element);\n",
       "\n",
       "    // Define a callback function for later on.\n",
       "    function toolbar_event(event) {\n",
       "        return fig.toolbar_button_onclick(event['data']);\n",
       "    }\n",
       "    function toolbar_mouse_event(event) {\n",
       "        return fig.toolbar_button_onmouseover(event['data']);\n",
       "    }\n",
       "\n",
       "    for(var toolbar_ind in mpl.toolbar_items) {\n",
       "        var name = mpl.toolbar_items[toolbar_ind][0];\n",
       "        var tooltip = mpl.toolbar_items[toolbar_ind][1];\n",
       "        var image = mpl.toolbar_items[toolbar_ind][2];\n",
       "        var method_name = mpl.toolbar_items[toolbar_ind][3];\n",
       "\n",
       "        if (!name) {\n",
       "            // put a spacer in here.\n",
       "            continue;\n",
       "        }\n",
       "        var button = $('<button/>');\n",
       "        button.addClass('ui-button ui-widget ui-state-default ui-corner-all ' +\n",
       "                        'ui-button-icon-only');\n",
       "        button.attr('role', 'button');\n",
       "        button.attr('aria-disabled', 'false');\n",
       "        button.click(method_name, toolbar_event);\n",
       "        button.mouseover(tooltip, toolbar_mouse_event);\n",
       "\n",
       "        var icon_img = $('<span/>');\n",
       "        icon_img.addClass('ui-button-icon-primary ui-icon');\n",
       "        icon_img.addClass(image);\n",
       "        icon_img.addClass('ui-corner-all');\n",
       "\n",
       "        var tooltip_span = $('<span/>');\n",
       "        tooltip_span.addClass('ui-button-text');\n",
       "        tooltip_span.html(tooltip);\n",
       "\n",
       "        button.append(icon_img);\n",
       "        button.append(tooltip_span);\n",
       "\n",
       "        nav_element.append(button);\n",
       "    }\n",
       "\n",
       "    var fmt_picker_span = $('<span/>');\n",
       "\n",
       "    var fmt_picker = $('<select/>');\n",
       "    fmt_picker.addClass('mpl-toolbar-option ui-widget ui-widget-content');\n",
       "    fmt_picker_span.append(fmt_picker);\n",
       "    nav_element.append(fmt_picker_span);\n",
       "    this.format_dropdown = fmt_picker[0];\n",
       "\n",
       "    for (var ind in mpl.extensions) {\n",
       "        var fmt = mpl.extensions[ind];\n",
       "        var option = $(\n",
       "            '<option/>', {selected: fmt === mpl.default_extension}).html(fmt);\n",
       "        fmt_picker.append(option);\n",
       "    }\n",
       "\n",
       "    // Add hover states to the ui-buttons\n",
       "    $( \".ui-button\" ).hover(\n",
       "        function() { $(this).addClass(\"ui-state-hover\");},\n",
       "        function() { $(this).removeClass(\"ui-state-hover\");}\n",
       "    );\n",
       "\n",
       "    var status_bar = $('<span class=\"mpl-message\"/>');\n",
       "    nav_element.append(status_bar);\n",
       "    this.message = status_bar[0];\n",
       "}\n",
       "\n",
       "mpl.figure.prototype.request_resize = function(x_pixels, y_pixels) {\n",
       "    // Request matplotlib to resize the figure. Matplotlib will then trigger a resize in the client,\n",
       "    // which will in turn request a refresh of the image.\n",
       "    this.send_message('resize', {'width': x_pixels, 'height': y_pixels});\n",
       "}\n",
       "\n",
       "mpl.figure.prototype.send_message = function(type, properties) {\n",
       "    properties['type'] = type;\n",
       "    properties['figure_id'] = this.id;\n",
       "    this.ws.send(JSON.stringify(properties));\n",
       "}\n",
       "\n",
       "mpl.figure.prototype.send_draw_message = function() {\n",
       "    if (!this.waiting) {\n",
       "        this.waiting = true;\n",
       "        this.ws.send(JSON.stringify({type: \"draw\", figure_id: this.id}));\n",
       "    }\n",
       "}\n",
       "\n",
       "\n",
       "mpl.figure.prototype.handle_save = function(fig, msg) {\n",
       "    var format_dropdown = fig.format_dropdown;\n",
       "    var format = format_dropdown.options[format_dropdown.selectedIndex].value;\n",
       "    fig.ondownload(fig, format);\n",
       "}\n",
       "\n",
       "\n",
       "mpl.figure.prototype.handle_resize = function(fig, msg) {\n",
       "    var size = msg['size'];\n",
       "    if (size[0] != fig.canvas.width || size[1] != fig.canvas.height) {\n",
       "        fig._resize_canvas(size[0], size[1]);\n",
       "        fig.send_message(\"refresh\", {});\n",
       "    };\n",
       "}\n",
       "\n",
       "mpl.figure.prototype.handle_rubberband = function(fig, msg) {\n",
       "    var x0 = msg['x0'] / mpl.ratio;\n",
       "    var y0 = (fig.canvas.height - msg['y0']) / mpl.ratio;\n",
       "    var x1 = msg['x1'] / mpl.ratio;\n",
       "    var y1 = (fig.canvas.height - msg['y1']) / mpl.ratio;\n",
       "    x0 = Math.floor(x0) + 0.5;\n",
       "    y0 = Math.floor(y0) + 0.5;\n",
       "    x1 = Math.floor(x1) + 0.5;\n",
       "    y1 = Math.floor(y1) + 0.5;\n",
       "    var min_x = Math.min(x0, x1);\n",
       "    var min_y = Math.min(y0, y1);\n",
       "    var width = Math.abs(x1 - x0);\n",
       "    var height = Math.abs(y1 - y0);\n",
       "\n",
       "    fig.rubberband_context.clearRect(\n",
       "        0, 0, fig.canvas.width / mpl.ratio, fig.canvas.height / mpl.ratio);\n",
       "\n",
       "    fig.rubberband_context.strokeRect(min_x, min_y, width, height);\n",
       "}\n",
       "\n",
       "mpl.figure.prototype.handle_figure_label = function(fig, msg) {\n",
       "    // Updates the figure title.\n",
       "    fig.header.textContent = msg['label'];\n",
       "}\n",
       "\n",
       "mpl.figure.prototype.handle_cursor = function(fig, msg) {\n",
       "    var cursor = msg['cursor'];\n",
       "    switch(cursor)\n",
       "    {\n",
       "    case 0:\n",
       "        cursor = 'pointer';\n",
       "        break;\n",
       "    case 1:\n",
       "        cursor = 'default';\n",
       "        break;\n",
       "    case 2:\n",
       "        cursor = 'crosshair';\n",
       "        break;\n",
       "    case 3:\n",
       "        cursor = 'move';\n",
       "        break;\n",
       "    }\n",
       "    fig.rubberband_canvas.style.cursor = cursor;\n",
       "}\n",
       "\n",
       "mpl.figure.prototype.handle_message = function(fig, msg) {\n",
       "    fig.message.textContent = msg['message'];\n",
       "}\n",
       "\n",
       "mpl.figure.prototype.handle_draw = function(fig, msg) {\n",
       "    // Request the server to send over a new figure.\n",
       "    fig.send_draw_message();\n",
       "}\n",
       "\n",
       "mpl.figure.prototype.handle_image_mode = function(fig, msg) {\n",
       "    fig.image_mode = msg['mode'];\n",
       "}\n",
       "\n",
       "mpl.figure.prototype.updated_canvas_event = function() {\n",
       "    // Called whenever the canvas gets updated.\n",
       "    this.send_message(\"ack\", {});\n",
       "}\n",
       "\n",
       "// A function to construct a web socket function for onmessage handling.\n",
       "// Called in the figure constructor.\n",
       "mpl.figure.prototype._make_on_message_function = function(fig) {\n",
       "    return function socket_on_message(evt) {\n",
       "        if (evt.data instanceof Blob) {\n",
       "            /* FIXME: We get \"Resource interpreted as Image but\n",
       "             * transferred with MIME type text/plain:\" errors on\n",
       "             * Chrome.  But how to set the MIME type?  It doesn't seem\n",
       "             * to be part of the websocket stream */\n",
       "            evt.data.type = \"image/png\";\n",
       "\n",
       "            /* Free the memory for the previous frames */\n",
       "            if (fig.imageObj.src) {\n",
       "                (window.URL || window.webkitURL).revokeObjectURL(\n",
       "                    fig.imageObj.src);\n",
       "            }\n",
       "\n",
       "            fig.imageObj.src = (window.URL || window.webkitURL).createObjectURL(\n",
       "                evt.data);\n",
       "            fig.updated_canvas_event();\n",
       "            fig.waiting = false;\n",
       "            return;\n",
       "        }\n",
       "        else if (typeof evt.data === 'string' && evt.data.slice(0, 21) == \"data:image/png;base64\") {\n",
       "            fig.imageObj.src = evt.data;\n",
       "            fig.updated_canvas_event();\n",
       "            fig.waiting = false;\n",
       "            return;\n",
       "        }\n",
       "\n",
       "        var msg = JSON.parse(evt.data);\n",
       "        var msg_type = msg['type'];\n",
       "\n",
       "        // Call the  \"handle_{type}\" callback, which takes\n",
       "        // the figure and JSON message as its only arguments.\n",
       "        try {\n",
       "            var callback = fig[\"handle_\" + msg_type];\n",
       "        } catch (e) {\n",
       "            console.log(\"No handler for the '\" + msg_type + \"' message type: \", msg);\n",
       "            return;\n",
       "        }\n",
       "\n",
       "        if (callback) {\n",
       "            try {\n",
       "                // console.log(\"Handling '\" + msg_type + \"' message: \", msg);\n",
       "                callback(fig, msg);\n",
       "            } catch (e) {\n",
       "                console.log(\"Exception inside the 'handler_\" + msg_type + \"' callback:\", e, e.stack, msg);\n",
       "            }\n",
       "        }\n",
       "    };\n",
       "}\n",
       "\n",
       "// from http://stackoverflow.com/questions/1114465/getting-mouse-location-in-canvas\n",
       "mpl.findpos = function(e) {\n",
       "    //this section is from http://www.quirksmode.org/js/events_properties.html\n",
       "    var targ;\n",
       "    if (!e)\n",
       "        e = window.event;\n",
       "    if (e.target)\n",
       "        targ = e.target;\n",
       "    else if (e.srcElement)\n",
       "        targ = e.srcElement;\n",
       "    if (targ.nodeType == 3) // defeat Safari bug\n",
       "        targ = targ.parentNode;\n",
       "\n",
       "    // jQuery normalizes the pageX and pageY\n",
       "    // pageX,Y are the mouse positions relative to the document\n",
       "    // offset() returns the position of the element relative to the document\n",
       "    var x = e.pageX - $(targ).offset().left;\n",
       "    var y = e.pageY - $(targ).offset().top;\n",
       "\n",
       "    return {\"x\": x, \"y\": y};\n",
       "};\n",
       "\n",
       "/*\n",
       " * return a copy of an object with only non-object keys\n",
       " * we need this to avoid circular references\n",
       " * http://stackoverflow.com/a/24161582/3208463\n",
       " */\n",
       "function simpleKeys (original) {\n",
       "  return Object.keys(original).reduce(function (obj, key) {\n",
       "    if (typeof original[key] !== 'object')\n",
       "        obj[key] = original[key]\n",
       "    return obj;\n",
       "  }, {});\n",
       "}\n",
       "\n",
       "mpl.figure.prototype.mouse_event = function(event, name) {\n",
       "    var canvas_pos = mpl.findpos(event)\n",
       "\n",
       "    if (name === 'button_press')\n",
       "    {\n",
       "        this.canvas.focus();\n",
       "        this.canvas_div.focus();\n",
       "    }\n",
       "\n",
       "    var x = canvas_pos.x * mpl.ratio;\n",
       "    var y = canvas_pos.y * mpl.ratio;\n",
       "\n",
       "    this.send_message(name, {x: x, y: y, button: event.button,\n",
       "                             step: event.step,\n",
       "                             guiEvent: simpleKeys(event)});\n",
       "\n",
       "    /* This prevents the web browser from automatically changing to\n",
       "     * the text insertion cursor when the button is pressed.  We want\n",
       "     * to control all of the cursor setting manually through the\n",
       "     * 'cursor' event from matplotlib */\n",
       "    event.preventDefault();\n",
       "    return false;\n",
       "}\n",
       "\n",
       "mpl.figure.prototype._key_event_extra = function(event, name) {\n",
       "    // Handle any extra behaviour associated with a key event\n",
       "}\n",
       "\n",
       "mpl.figure.prototype.key_event = function(event, name) {\n",
       "\n",
       "    // Prevent repeat events\n",
       "    if (name == 'key_press')\n",
       "    {\n",
       "        if (event.which === this._key)\n",
       "            return;\n",
       "        else\n",
       "            this._key = event.which;\n",
       "    }\n",
       "    if (name == 'key_release')\n",
       "        this._key = null;\n",
       "\n",
       "    var value = '';\n",
       "    if (event.ctrlKey && event.which != 17)\n",
       "        value += \"ctrl+\";\n",
       "    if (event.altKey && event.which != 18)\n",
       "        value += \"alt+\";\n",
       "    if (event.shiftKey && event.which != 16)\n",
       "        value += \"shift+\";\n",
       "\n",
       "    value += 'k';\n",
       "    value += event.which.toString();\n",
       "\n",
       "    this._key_event_extra(event, name);\n",
       "\n",
       "    this.send_message(name, {key: value,\n",
       "                             guiEvent: simpleKeys(event)});\n",
       "    return false;\n",
       "}\n",
       "\n",
       "mpl.figure.prototype.toolbar_button_onclick = function(name) {\n",
       "    if (name == 'download') {\n",
       "        this.handle_save(this, null);\n",
       "    } else {\n",
       "        this.send_message(\"toolbar_button\", {name: name});\n",
       "    }\n",
       "};\n",
       "\n",
       "mpl.figure.prototype.toolbar_button_onmouseover = function(tooltip) {\n",
       "    this.message.textContent = tooltip;\n",
       "};\n",
       "mpl.toolbar_items = [[\"Home\", \"Reset original view\", \"fa fa-home icon-home\", \"home\"], [\"Back\", \"Back to previous view\", \"fa fa-arrow-left icon-arrow-left\", \"back\"], [\"Forward\", \"Forward to next view\", \"fa fa-arrow-right icon-arrow-right\", \"forward\"], [\"\", \"\", \"\", \"\"], [\"Pan\", \"Pan axes with left mouse, zoom with right\", \"fa fa-arrows icon-move\", \"pan\"], [\"Zoom\", \"Zoom to rectangle\", \"fa fa-square-o icon-check-empty\", \"zoom\"], [\"\", \"\", \"\", \"\"], [\"Download\", \"Download plot\", \"fa fa-floppy-o icon-save\", \"download\"]];\n",
       "\n",
       "mpl.extensions = [\"eps\", \"jpeg\", \"pdf\", \"png\", \"ps\", \"raw\", \"svg\", \"tif\"];\n",
       "\n",
       "mpl.default_extension = \"png\";var comm_websocket_adapter = function(comm) {\n",
       "    // Create a \"websocket\"-like object which calls the given IPython comm\n",
       "    // object with the appropriate methods. Currently this is a non binary\n",
       "    // socket, so there is still some room for performance tuning.\n",
       "    var ws = {};\n",
       "\n",
       "    ws.close = function() {\n",
       "        comm.close()\n",
       "    };\n",
       "    ws.send = function(m) {\n",
       "        //console.log('sending', m);\n",
       "        comm.send(m);\n",
       "    };\n",
       "    // Register the callback with on_msg.\n",
       "    comm.on_msg(function(msg) {\n",
       "        //console.log('receiving', msg['content']['data'], msg);\n",
       "        // Pass the mpl event to the overridden (by mpl) onmessage function.\n",
       "        ws.onmessage(msg['content']['data'])\n",
       "    });\n",
       "    return ws;\n",
       "}\n",
       "\n",
       "mpl.mpl_figure_comm = function(comm, msg) {\n",
       "    // This is the function which gets called when the mpl process\n",
       "    // starts-up an IPython Comm through the \"matplotlib\" channel.\n",
       "\n",
       "    var id = msg.content.data.id;\n",
       "    // Get hold of the div created by the display call when the Comm\n",
       "    // socket was opened in Python.\n",
       "    var element = $(\"#\" + id);\n",
       "    var ws_proxy = comm_websocket_adapter(comm)\n",
       "\n",
       "    function ondownload(figure, format) {\n",
       "        window.open(figure.imageObj.src);\n",
       "    }\n",
       "\n",
       "    var fig = new mpl.figure(id, ws_proxy,\n",
       "                           ondownload,\n",
       "                           element.get(0));\n",
       "\n",
       "    // Call onopen now - mpl needs it, as it is assuming we've passed it a real\n",
       "    // web socket which is closed, not our websocket->open comm proxy.\n",
       "    ws_proxy.onopen();\n",
       "\n",
       "    fig.parent_element = element.get(0);\n",
       "    fig.cell_info = mpl.find_output_cell(\"<div id='\" + id + \"'></div>\");\n",
       "    if (!fig.cell_info) {\n",
       "        console.error(\"Failed to find cell for figure\", id, fig);\n",
       "        return;\n",
       "    }\n",
       "\n",
       "    var output_index = fig.cell_info[2]\n",
       "    var cell = fig.cell_info[0];\n",
       "\n",
       "};\n",
       "\n",
       "mpl.figure.prototype.handle_close = function(fig, msg) {\n",
       "    var width = fig.canvas.width/mpl.ratio\n",
       "    fig.root.unbind('remove')\n",
       "\n",
       "    // Update the output cell to use the data from the current canvas.\n",
       "    fig.push_to_output();\n",
       "    var dataURL = fig.canvas.toDataURL();\n",
       "    // Re-enable the keyboard manager in IPython - without this line, in FF,\n",
       "    // the notebook keyboard shortcuts fail.\n",
       "    IPython.keyboard_manager.enable()\n",
       "    $(fig.parent_element).html('<img src=\"' + dataURL + '\" width=\"' + width + '\">');\n",
       "    fig.close_ws(fig, msg);\n",
       "}\n",
       "\n",
       "mpl.figure.prototype.close_ws = function(fig, msg){\n",
       "    fig.send_message('closing', msg);\n",
       "    // fig.ws.close()\n",
       "}\n",
       "\n",
       "mpl.figure.prototype.push_to_output = function(remove_interactive) {\n",
       "    // Turn the data on the canvas into data in the output cell.\n",
       "    var width = this.canvas.width/mpl.ratio\n",
       "    var dataURL = this.canvas.toDataURL();\n",
       "    this.cell_info[1]['text/html'] = '<img src=\"' + dataURL + '\" width=\"' + width + '\">';\n",
       "}\n",
       "\n",
       "mpl.figure.prototype.updated_canvas_event = function() {\n",
       "    // Tell IPython that the notebook contents must change.\n",
       "    IPython.notebook.set_dirty(true);\n",
       "    this.send_message(\"ack\", {});\n",
       "    var fig = this;\n",
       "    // Wait a second, then push the new image to the DOM so\n",
       "    // that it is saved nicely (might be nice to debounce this).\n",
       "    setTimeout(function () { fig.push_to_output() }, 1000);\n",
       "}\n",
       "\n",
       "mpl.figure.prototype._init_toolbar = function() {\n",
       "    var fig = this;\n",
       "\n",
       "    var nav_element = $('<div/>');\n",
       "    nav_element.attr('style', 'width: 100%');\n",
       "    this.root.append(nav_element);\n",
       "\n",
       "    // Define a callback function for later on.\n",
       "    function toolbar_event(event) {\n",
       "        return fig.toolbar_button_onclick(event['data']);\n",
       "    }\n",
       "    function toolbar_mouse_event(event) {\n",
       "        return fig.toolbar_button_onmouseover(event['data']);\n",
       "    }\n",
       "\n",
       "    for(var toolbar_ind in mpl.toolbar_items){\n",
       "        var name = mpl.toolbar_items[toolbar_ind][0];\n",
       "        var tooltip = mpl.toolbar_items[toolbar_ind][1];\n",
       "        var image = mpl.toolbar_items[toolbar_ind][2];\n",
       "        var method_name = mpl.toolbar_items[toolbar_ind][3];\n",
       "\n",
       "        if (!name) { continue; };\n",
       "\n",
       "        var button = $('<button class=\"btn btn-default\" href=\"#\" title=\"' + name + '\"><i class=\"fa ' + image + ' fa-lg\"></i></button>');\n",
       "        button.click(method_name, toolbar_event);\n",
       "        button.mouseover(tooltip, toolbar_mouse_event);\n",
       "        nav_element.append(button);\n",
       "    }\n",
       "\n",
       "    // Add the status bar.\n",
       "    var status_bar = $('<span class=\"mpl-message\" style=\"text-align:right; float: right;\"/>');\n",
       "    nav_element.append(status_bar);\n",
       "    this.message = status_bar[0];\n",
       "\n",
       "    // Add the close button to the window.\n",
       "    var buttongrp = $('<div class=\"btn-group inline pull-right\"></div>');\n",
       "    var button = $('<button class=\"btn btn-mini btn-primary\" href=\"#\" title=\"Stop Interaction\"><i class=\"fa fa-power-off icon-remove icon-large\"></i></button>');\n",
       "    button.click(function (evt) { fig.handle_close(fig, {}); } );\n",
       "    button.mouseover('Stop Interaction', toolbar_mouse_event);\n",
       "    buttongrp.append(button);\n",
       "    var titlebar = this.root.find($('.ui-dialog-titlebar'));\n",
       "    titlebar.prepend(buttongrp);\n",
       "}\n",
       "\n",
       "mpl.figure.prototype._root_extra_style = function(el){\n",
       "    var fig = this\n",
       "    el.on(\"remove\", function(){\n",
       "\tfig.close_ws(fig, {});\n",
       "    });\n",
       "}\n",
       "\n",
       "mpl.figure.prototype._canvas_extra_style = function(el){\n",
       "    // this is important to make the div 'focusable\n",
       "    el.attr('tabindex', 0)\n",
       "    // reach out to IPython and tell the keyboard manager to turn it's self\n",
       "    // off when our div gets focus\n",
       "\n",
       "    // location in version 3\n",
       "    if (IPython.notebook.keyboard_manager) {\n",
       "        IPython.notebook.keyboard_manager.register_events(el);\n",
       "    }\n",
       "    else {\n",
       "        // location in version 2\n",
       "        IPython.keyboard_manager.register_events(el);\n",
       "    }\n",
       "\n",
       "}\n",
       "\n",
       "mpl.figure.prototype._key_event_extra = function(event, name) {\n",
       "    var manager = IPython.notebook.keyboard_manager;\n",
       "    if (!manager)\n",
       "        manager = IPython.keyboard_manager;\n",
       "\n",
       "    // Check for shift+enter\n",
       "    if (event.shiftKey && event.which == 13) {\n",
       "        this.canvas_div.blur();\n",
       "        event.shiftKey = false;\n",
       "        // Send a \"J\" for go to next cell\n",
       "        event.which = 74;\n",
       "        event.keyCode = 74;\n",
       "        manager.command_mode();\n",
       "        manager.handle_keydown(event);\n",
       "    }\n",
       "}\n",
       "\n",
       "mpl.figure.prototype.handle_save = function(fig, msg) {\n",
       "    fig.ondownload(fig, null);\n",
       "}\n",
       "\n",
       "\n",
       "mpl.find_output_cell = function(html_output) {\n",
       "    // Return the cell and output element which can be found *uniquely* in the notebook.\n",
       "    // Note - this is a bit hacky, but it is done because the \"notebook_saving.Notebook\"\n",
       "    // IPython event is triggered only after the cells have been serialised, which for\n",
       "    // our purposes (turning an active figure into a static one), is too late.\n",
       "    var cells = IPython.notebook.get_cells();\n",
       "    var ncells = cells.length;\n",
       "    for (var i=0; i<ncells; i++) {\n",
       "        var cell = cells[i];\n",
       "        if (cell.cell_type === 'code'){\n",
       "            for (var j=0; j<cell.output_area.outputs.length; j++) {\n",
       "                var data = cell.output_area.outputs[j];\n",
       "                if (data.data) {\n",
       "                    // IPython >= 3 moved mimebundle to data attribute of output\n",
       "                    data = data.data;\n",
       "                }\n",
       "                if (data['text/html'] == html_output) {\n",
       "                    return [cell, data, j];\n",
       "                }\n",
       "            }\n",
       "        }\n",
       "    }\n",
       "}\n",
       "\n",
       "// Register the function which deals with the matplotlib target/channel.\n",
       "// The kernel may be null if the page has been refreshed.\n",
       "if (IPython.notebook.kernel != null) {\n",
       "    IPython.notebook.kernel.comm_manager.register_target('matplotlib', mpl.mpl_figure_comm);\n",
       "}\n"
      ],
      "text/plain": [
       "<IPython.core.display.Javascript object>"
      ]
     },
     "metadata": {},
     "output_type": "display_data"
    },
    {
     "data": {
      "text/html": [
       "<img src=\"data:image/png;base64,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\" width=\"1000\">"
      ],
      "text/plain": [
       "<IPython.core.display.HTML object>"
      ]
     },
     "metadata": {},
     "output_type": "display_data"
    }
   ],
   "source": [
    "import seaborn as sns\n",
    "\n",
    "figure(figsize=(10,5))\n",
    "cnt_by_country = df.groupby('country').cnt.sum().sort_values(ascending=False)\n",
    "df_wtotal = (\n",
    "    df.merge(cnt_by_country.reset_index().rename(columns=dict(cnt='total')), on='country')\n",
    "      .sort_values('total', ascending=False)\n",
    ")\n",
    "sns.barplot(\n",
    "    data=df_wtotal[df_wtotal.country.isin(cnt_by_country[:30].index)], \n",
    "    x='country', \n",
    "    y='cnt', \n",
    "    estimator=np.sum,\n",
    "    ci=None\n",
    ")\n",
    "plt.xticks(rotation=65)\n",
    "gca().set_yscale('log')\n",
    "title('Totals by country')\n",
    "plt.tight_layout()"
   ]
  },
  {
   "cell_type": "markdown",
   "metadata": {},
   "source": [
    "## Total number of reported cases per country"
   ]
  },
  {
   "cell_type": "code",
   "execution_count": 66,
   "metadata": {},
   "outputs": [
    {
     "data": {
      "text/plain": [
       "(2.568201724066995, 6.459607922793618)"
      ]
     },
     "execution_count": 66,
     "metadata": {},
     "output_type": "execute_result"
    }
   ],
   "source": [
    "to_plot = df.groupby('country').cnt.sum().sort_values(ascending=False)[:50]\n",
    "m, M = np.log10(to_plot.min()), np.log10(to_plot.max())\n",
    "m, M"
   ]
  },
  {
   "cell_type": "code",
   "execution_count": 127,
   "metadata": {},
   "outputs": [],
   "source": [
    "def get_current_rate(df, window=7):\n",
    "    dates = sorted(df.date.unique())\n",
    "    current_df = df[df.date >= dates[-window]]\n",
    "    res = {\n",
    "        c: get_rate(current_df[current_df.country==c], rolling_win=5, min_cnt=10).mean() \n",
    "        for c in current_df.country.unique()\n",
    "    }\n",
    "    return {k: v for k, v in res.items() if not np.isnan(v)}"
   ]
  },
  {
   "cell_type": "code",
   "execution_count": 136,
   "metadata": {},
   "outputs": [
    {
     "data": {
      "text/markdown": [
       "\n",
       "## Confirmed cases evolution by country\n",
       "The lines that are most red correspond to countries that have the most rate of growth of COVID-19\n"
      ],
      "text/plain": [
       "<IPython.core.display.Markdown object>"
      ]
     },
     "metadata": {},
     "output_type": "display_data"
    },
    {
     "data": {
      "application/vnd.plotly.v1+json": {
       "config": {
        "plotlyServerURL": "https://plot.ly"
       },
       "data": [
        {
         "line": {
          "color": "hsla(10, 0%, 50%, 0.5)"
         },
         "name": "China",
         "opacity": 0.8,
         "type": "scatter",
         "x": [
          "2020-01-22T00:00:00",
          "2020-01-23T00:00:00",
          "2020-01-24T00:00:00",
          "2020-01-25T00:00:00",
          "2020-01-26T00:00:00",
          "2020-01-27T00:00:00",
          "2020-01-28T00:00:00",
          "2020-01-29T00:00:00",
          "2020-01-30T00:00:00",
          "2020-01-31T00:00:00",
          "2020-02-01T00:00:00",
          "2020-02-02T00:00:00",
          "2020-02-03T00:00:00",
          "2020-02-04T00:00:00",
          "2020-02-05T00:00:00",
          "2020-02-06T00:00:00",
          "2020-02-07T00:00:00",
          "2020-02-08T00:00:00",
          "2020-02-09T00:00:00",
          "2020-02-10T00:00:00",
          "2020-02-11T00:00:00",
          "2020-02-12T00:00:00",
          "2020-02-13T00:00:00",
          "2020-02-14T00:00:00",
          "2020-02-15T00:00:00",
          "2020-02-16T00:00:00",
          "2020-02-17T00:00:00",
          "2020-02-18T00:00:00",
          "2020-02-19T00:00:00",
          "2020-02-20T00:00:00",
          "2020-02-21T00:00:00",
          "2020-02-22T00:00:00",
          "2020-02-23T00:00:00",
          "2020-02-24T00:00:00",
          "2020-02-25T00:00:00",
          "2020-02-26T00:00:00",
          "2020-02-27T00:00:00",
          "2020-02-28T00:00:00",
          "2020-02-29T00:00:00",
          "2020-03-01T00:00:00",
          "2020-03-02T00:00:00",
          "2020-03-03T00:00:00",
          "2020-03-04T00:00:00",
          "2020-03-05T00:00:00",
          "2020-03-06T00:00:00",
          "2020-03-07T00:00:00",
          "2020-03-08T00:00:00",
          "2020-03-09T00:00:00",
          "2020-03-10T00:00:00",
          "2020-03-11T00:00:00",
          "2020-03-12T00:00:00",
          "2020-03-13T00:00:00",
          "2020-03-14T00:00:00",
          "2020-03-15T00:00:00"
         ],
         "y": [
          548,
          643,
          920,
          1406,
          2075,
          2877,
          5509,
          6087,
          8141,
          9802,
          11891,
          16630,
          19716,
          23707,
          27440,
          30587,
          34110,
          36814,
          39829,
          42354,
          44386,
          44759,
          59895,
          66358,
          68413,
          70513,
          72434,
          74211,
          74619,
          75077,
          75550,
          77001,
          77022,
          77241,
          77754,
          78166,
          78600,
          78928,
          79356,
          79932,
          80136,
          80261,
          80386,
          80537,
          80690,
          80770,
          80823,
          80860,
          80887,
          80921,
          80932,
          80945,
          80977,
          81003
         ]
        },
        {
         "line": {
          "color": "hsla(10, 26%, 50%, 0.5)"
         },
         "name": "Italy",
         "opacity": 0.8,
         "type": "scatter",
         "x": [
          "2020-01-31T00:00:00",
          "2020-02-01T00:00:00",
          "2020-02-02T00:00:00",
          "2020-02-03T00:00:00",
          "2020-02-04T00:00:00",
          "2020-02-05T00:00:00",
          "2020-02-06T00:00:00",
          "2020-02-07T00:00:00",
          "2020-02-08T00:00:00",
          "2020-02-09T00:00:00",
          "2020-02-10T00:00:00",
          "2020-02-11T00:00:00",
          "2020-02-12T00:00:00",
          "2020-02-13T00:00:00",
          "2020-02-14T00:00:00",
          "2020-02-15T00:00:00",
          "2020-02-16T00:00:00",
          "2020-02-17T00:00:00",
          "2020-02-18T00:00:00",
          "2020-02-19T00:00:00",
          "2020-02-20T00:00:00",
          "2020-02-21T00:00:00",
          "2020-02-22T00:00:00",
          "2020-02-23T00:00:00",
          "2020-02-24T00:00:00",
          "2020-02-25T00:00:00",
          "2020-02-26T00:00:00",
          "2020-02-27T00:00:00",
          "2020-02-28T00:00:00",
          "2020-02-29T00:00:00",
          "2020-03-01T00:00:00",
          "2020-03-02T00:00:00",
          "2020-03-03T00:00:00",
          "2020-03-04T00:00:00",
          "2020-03-05T00:00:00",
          "2020-03-06T00:00:00",
          "2020-03-07T00:00:00",
          "2020-03-08T00:00:00",
          "2020-03-09T00:00:00",
          "2020-03-10T00:00:00",
          "2020-03-11T00:00:00",
          "2020-03-12T00:00:00",
          "2020-03-13T00:00:00",
          "2020-03-14T00:00:00",
          "2020-03-15T00:00:00"
         ],
         "y": [
          2,
          2,
          2,
          2,
          2,
          2,
          2,
          3,
          3,
          3,
          3,
          3,
          3,
          3,
          3,
          3,
          3,
          3,
          3,
          3,
          3,
          20,
          62,
          155,
          229,
          322,
          453,
          655,
          888,
          1128,
          1694,
          2036,
          2502,
          3089,
          3858,
          4636,
          5883,
          7375,
          9172,
          10149,
          12462,
          12462,
          17660,
          21157,
          24747
         ]
        },
        {
         "line": {
          "color": "hsla(10, 2%, 50%, 0.5)"
         },
         "name": "Korea, South",
         "opacity": 0.8,
         "type": "scatter",
         "x": [
          "2020-01-22T00:00:00",
          "2020-01-23T00:00:00",
          "2020-01-24T00:00:00",
          "2020-01-25T00:00:00",
          "2020-01-26T00:00:00",
          "2020-01-27T00:00:00",
          "2020-01-28T00:00:00",
          "2020-01-29T00:00:00",
          "2020-01-30T00:00:00",
          "2020-01-31T00:00:00",
          "2020-02-01T00:00:00",
          "2020-02-02T00:00:00",
          "2020-02-03T00:00:00",
          "2020-02-04T00:00:00",
          "2020-02-05T00:00:00",
          "2020-02-06T00:00:00",
          "2020-02-07T00:00:00",
          "2020-02-08T00:00:00",
          "2020-02-09T00:00:00",
          "2020-02-10T00:00:00",
          "2020-02-11T00:00:00",
          "2020-02-12T00:00:00",
          "2020-02-13T00:00:00",
          "2020-02-14T00:00:00",
          "2020-02-15T00:00:00",
          "2020-02-16T00:00:00",
          "2020-02-17T00:00:00",
          "2020-02-18T00:00:00",
          "2020-02-19T00:00:00",
          "2020-02-20T00:00:00",
          "2020-02-21T00:00:00",
          "2020-02-22T00:00:00",
          "2020-02-23T00:00:00",
          "2020-02-24T00:00:00",
          "2020-02-25T00:00:00",
          "2020-02-26T00:00:00",
          "2020-02-27T00:00:00",
          "2020-02-28T00:00:00",
          "2020-02-29T00:00:00",
          "2020-03-01T00:00:00",
          "2020-03-02T00:00:00",
          "2020-03-03T00:00:00",
          "2020-03-04T00:00:00",
          "2020-03-05T00:00:00",
          "2020-03-06T00:00:00",
          "2020-03-07T00:00:00",
          "2020-03-08T00:00:00",
          "2020-03-09T00:00:00",
          "2020-03-10T00:00:00",
          "2020-03-11T00:00:00",
          "2020-03-12T00:00:00",
          "2020-03-13T00:00:00",
          "2020-03-14T00:00:00",
          "2020-03-15T00:00:00"
         ],
         "y": [
          1,
          1,
          2,
          2,
          3,
          4,
          4,
          4,
          4,
          11,
          12,
          15,
          15,
          16,
          19,
          23,
          24,
          24,
          25,
          27,
          28,
          28,
          28,
          28,
          28,
          29,
          30,
          31,
          31,
          104,
          204,
          433,
          602,
          833,
          977,
          1261,
          1766,
          2337,
          3150,
          3736,
          4335,
          5186,
          5621,
          6088,
          6593,
          7041,
          7314,
          7478,
          7513,
          7755,
          7869,
          7979,
          8086,
          8162
         ]
        },
        {
         "line": {
          "color": "hsla(10, 16%, 50%, 0.5)"
         },
         "name": "Iran",
         "opacity": 0.8,
         "type": "scatter",
         "x": [
          "2020-02-19T00:00:00",
          "2020-02-20T00:00:00",
          "2020-02-21T00:00:00",
          "2020-02-22T00:00:00",
          "2020-02-23T00:00:00",
          "2020-02-24T00:00:00",
          "2020-02-25T00:00:00",
          "2020-02-26T00:00:00",
          "2020-02-27T00:00:00",
          "2020-02-28T00:00:00",
          "2020-02-29T00:00:00",
          "2020-03-01T00:00:00",
          "2020-03-02T00:00:00",
          "2020-03-03T00:00:00",
          "2020-03-04T00:00:00",
          "2020-03-05T00:00:00",
          "2020-03-06T00:00:00",
          "2020-03-07T00:00:00",
          "2020-03-08T00:00:00",
          "2020-03-09T00:00:00",
          "2020-03-10T00:00:00",
          "2020-03-11T00:00:00",
          "2020-03-12T00:00:00",
          "2020-03-13T00:00:00",
          "2020-03-14T00:00:00",
          "2020-03-15T00:00:00"
         ],
         "y": [
          2,
          5,
          18,
          28,
          43,
          61,
          95,
          139,
          245,
          388,
          593,
          978,
          1501,
          2336,
          2922,
          3513,
          4747,
          5823,
          6566,
          7161,
          8042,
          9000,
          10075,
          11364,
          12729,
          13938
         ]
        },
        {
         "line": {
          "color": "hsla(10, 52%, 50%, 0.5)"
         },
         "name": "Spain",
         "opacity": 0.8,
         "type": "scatter",
         "x": [
          "2020-02-01T00:00:00",
          "2020-02-02T00:00:00",
          "2020-02-03T00:00:00",
          "2020-02-04T00:00:00",
          "2020-02-05T00:00:00",
          "2020-02-06T00:00:00",
          "2020-02-07T00:00:00",
          "2020-02-08T00:00:00",
          "2020-02-09T00:00:00",
          "2020-02-10T00:00:00",
          "2020-02-11T00:00:00",
          "2020-02-12T00:00:00",
          "2020-02-13T00:00:00",
          "2020-02-14T00:00:00",
          "2020-02-15T00:00:00",
          "2020-02-16T00:00:00",
          "2020-02-17T00:00:00",
          "2020-02-18T00:00:00",
          "2020-02-19T00:00:00",
          "2020-02-20T00:00:00",
          "2020-02-21T00:00:00",
          "2020-02-22T00:00:00",
          "2020-02-23T00:00:00",
          "2020-02-24T00:00:00",
          "2020-02-25T00:00:00",
          "2020-02-26T00:00:00",
          "2020-02-27T00:00:00",
          "2020-02-28T00:00:00",
          "2020-02-29T00:00:00",
          "2020-03-01T00:00:00",
          "2020-03-02T00:00:00",
          "2020-03-03T00:00:00",
          "2020-03-04T00:00:00",
          "2020-03-05T00:00:00",
          "2020-03-06T00:00:00",
          "2020-03-07T00:00:00",
          "2020-03-08T00:00:00",
          "2020-03-09T00:00:00",
          "2020-03-10T00:00:00",
          "2020-03-11T00:00:00",
          "2020-03-12T00:00:00",
          "2020-03-13T00:00:00",
          "2020-03-14T00:00:00",
          "2020-03-15T00:00:00"
         ],
         "y": [
          1,
          1,
          1,
          1,
          1,
          1,
          1,
          1,
          2,
          2,
          2,
          2,
          2,
          2,
          2,
          2,
          2,
          2,
          2,
          2,
          2,
          2,
          2,
          2,
          6,
          13,
          15,
          32,
          45,
          84,
          120,
          165,
          222,
          259,
          400,
          500,
          673,
          1073,
          1695,
          2277,
          2277,
          5232,
          6391,
          7798
         ]
        },
        {
         "line": {
          "color": "hsla(10, 44%, 50%, 0.5)"
         },
         "name": "Germany",
         "opacity": 0.8,
         "type": "scatter",
         "x": [
          "2020-01-27T00:00:00",
          "2020-01-28T00:00:00",
          "2020-01-29T00:00:00",
          "2020-01-30T00:00:00",
          "2020-01-31T00:00:00",
          "2020-02-01T00:00:00",
          "2020-02-02T00:00:00",
          "2020-02-03T00:00:00",
          "2020-02-04T00:00:00",
          "2020-02-05T00:00:00",
          "2020-02-06T00:00:00",
          "2020-02-07T00:00:00",
          "2020-02-08T00:00:00",
          "2020-02-09T00:00:00",
          "2020-02-10T00:00:00",
          "2020-02-11T00:00:00",
          "2020-02-12T00:00:00",
          "2020-02-13T00:00:00",
          "2020-02-14T00:00:00",
          "2020-02-15T00:00:00",
          "2020-02-16T00:00:00",
          "2020-02-17T00:00:00",
          "2020-02-18T00:00:00",
          "2020-02-19T00:00:00",
          "2020-02-20T00:00:00",
          "2020-02-21T00:00:00",
          "2020-02-22T00:00:00",
          "2020-02-23T00:00:00",
          "2020-02-24T00:00:00",
          "2020-02-25T00:00:00",
          "2020-02-26T00:00:00",
          "2020-02-27T00:00:00",
          "2020-02-28T00:00:00",
          "2020-02-29T00:00:00",
          "2020-03-01T00:00:00",
          "2020-03-02T00:00:00",
          "2020-03-03T00:00:00",
          "2020-03-04T00:00:00",
          "2020-03-05T00:00:00",
          "2020-03-06T00:00:00",
          "2020-03-07T00:00:00",
          "2020-03-08T00:00:00",
          "2020-03-09T00:00:00",
          "2020-03-10T00:00:00",
          "2020-03-11T00:00:00",
          "2020-03-12T00:00:00",
          "2020-03-13T00:00:00",
          "2020-03-14T00:00:00",
          "2020-03-15T00:00:00"
         ],
         "y": [
          1,
          4,
          4,
          4,
          5,
          8,
          10,
          12,
          12,
          12,
          12,
          13,
          13,
          14,
          14,
          16,
          16,
          16,
          16,
          16,
          16,
          16,
          16,
          16,
          16,
          16,
          16,
          16,
          16,
          17,
          27,
          46,
          48,
          79,
          130,
          159,
          196,
          262,
          482,
          670,
          799,
          1040,
          1176,
          1457,
          1908,
          2078,
          3675,
          4585,
          5795
         ]
        },
        {
         "line": {
          "color": "hsla(10, 32%, 50%, 0.5)"
         },
         "name": "France",
         "opacity": 0.8,
         "type": "scatter",
         "x": [
          "2020-01-24T00:00:00",
          "2020-01-25T00:00:00",
          "2020-01-26T00:00:00",
          "2020-01-27T00:00:00",
          "2020-01-28T00:00:00",
          "2020-01-29T00:00:00",
          "2020-01-30T00:00:00",
          "2020-01-31T00:00:00",
          "2020-02-01T00:00:00",
          "2020-02-02T00:00:00",
          "2020-02-03T00:00:00",
          "2020-02-04T00:00:00",
          "2020-02-05T00:00:00",
          "2020-02-06T00:00:00",
          "2020-02-07T00:00:00",
          "2020-02-08T00:00:00",
          "2020-02-09T00:00:00",
          "2020-02-10T00:00:00",
          "2020-02-11T00:00:00",
          "2020-02-12T00:00:00",
          "2020-02-13T00:00:00",
          "2020-02-14T00:00:00",
          "2020-02-15T00:00:00",
          "2020-02-16T00:00:00",
          "2020-02-17T00:00:00",
          "2020-02-18T00:00:00",
          "2020-02-19T00:00:00",
          "2020-02-20T00:00:00",
          "2020-02-21T00:00:00",
          "2020-02-22T00:00:00",
          "2020-02-23T00:00:00",
          "2020-02-24T00:00:00",
          "2020-02-25T00:00:00",
          "2020-02-26T00:00:00",
          "2020-02-27T00:00:00",
          "2020-02-28T00:00:00",
          "2020-02-29T00:00:00",
          "2020-03-01T00:00:00",
          "2020-03-02T00:00:00",
          "2020-03-03T00:00:00",
          "2020-03-04T00:00:00",
          "2020-03-05T00:00:00",
          "2020-03-06T00:00:00",
          "2020-03-07T00:00:00",
          "2020-03-08T00:00:00",
          "2020-03-09T00:00:00",
          "2020-03-10T00:00:00",
          "2020-03-11T00:00:00",
          "2020-03-12T00:00:00",
          "2020-03-13T00:00:00",
          "2020-03-14T00:00:00",
          "2020-03-15T00:00:00"
         ],
         "y": [
          2,
          3,
          3,
          3,
          4,
          5,
          5,
          5,
          6,
          6,
          6,
          6,
          6,
          6,
          6,
          11,
          11,
          11,
          11,
          11,
          11,
          11,
          12,
          12,
          12,
          12,
          12,
          12,
          12,
          12,
          12,
          12,
          14,
          18,
          38,
          57,
          100,
          130,
          191,
          204,
          288,
          380,
          656,
          957,
          1134,
          1217,
          1792,
          2289,
          2289,
          3672,
          4480,
          4513
         ]
        },
        {
         "line": {
          "color": "hsla(10, 0%, 50%, 0.5)"
         },
         "name": "Cruise Ship",
         "opacity": 0.8,
         "type": "scatter",
         "x": [
          "2020-02-07T00:00:00",
          "2020-02-08T00:00:00",
          "2020-02-09T00:00:00",
          "2020-02-10T00:00:00",
          "2020-02-11T00:00:00",
          "2020-02-12T00:00:00",
          "2020-02-13T00:00:00",
          "2020-02-14T00:00:00",
          "2020-02-15T00:00:00",
          "2020-02-16T00:00:00",
          "2020-02-17T00:00:00",
          "2020-02-18T00:00:00",
          "2020-02-19T00:00:00",
          "2020-02-20T00:00:00",
          "2020-02-21T00:00:00",
          "2020-02-22T00:00:00",
          "2020-02-23T00:00:00",
          "2020-02-24T00:00:00",
          "2020-02-25T00:00:00",
          "2020-02-26T00:00:00",
          "2020-02-27T00:00:00",
          "2020-02-28T00:00:00",
          "2020-02-29T00:00:00",
          "2020-03-01T00:00:00",
          "2020-03-02T00:00:00",
          "2020-03-03T00:00:00",
          "2020-03-04T00:00:00",
          "2020-03-05T00:00:00",
          "2020-03-06T00:00:00",
          "2020-03-07T00:00:00",
          "2020-03-08T00:00:00",
          "2020-03-09T00:00:00",
          "2020-03-10T00:00:00",
          "2020-03-11T00:00:00",
          "2020-03-12T00:00:00",
          "2020-03-13T00:00:00",
          "2020-03-14T00:00:00",
          "2020-03-15T00:00:00"
         ],
         "y": [
          61,
          61,
          64,
          135,
          135,
          175,
          175,
          218,
          285,
          355,
          454,
          542,
          621,
          634,
          634,
          634,
          691,
          691,
          691,
          705,
          705,
          705,
          705,
          705,
          705,
          706,
          706,
          706,
          696,
          696,
          696,
          696,
          696,
          696,
          696,
          696,
          696,
          696
         ]
        },
        {
         "line": {
          "color": "hsla(10, 41%, 50%, 0.5)"
         },
         "name": "US",
         "opacity": 0.8,
         "type": "scatter",
         "x": [
          "2020-01-22T00:00:00",
          "2020-01-23T00:00:00",
          "2020-01-24T00:00:00",
          "2020-01-25T00:00:00",
          "2020-01-26T00:00:00",
          "2020-01-27T00:00:00",
          "2020-01-28T00:00:00",
          "2020-01-29T00:00:00",
          "2020-01-30T00:00:00",
          "2020-01-31T00:00:00",
          "2020-02-01T00:00:00",
          "2020-02-02T00:00:00",
          "2020-02-03T00:00:00",
          "2020-02-04T00:00:00",
          "2020-02-05T00:00:00",
          "2020-02-06T00:00:00",
          "2020-02-07T00:00:00",
          "2020-02-08T00:00:00",
          "2020-02-09T00:00:00",
          "2020-02-10T00:00:00",
          "2020-02-11T00:00:00",
          "2020-02-12T00:00:00",
          "2020-02-13T00:00:00",
          "2020-02-14T00:00:00",
          "2020-02-15T00:00:00",
          "2020-02-16T00:00:00",
          "2020-02-17T00:00:00",
          "2020-02-18T00:00:00",
          "2020-02-19T00:00:00",
          "2020-02-20T00:00:00",
          "2020-02-21T00:00:00",
          "2020-02-22T00:00:00",
          "2020-02-23T00:00:00",
          "2020-02-24T00:00:00",
          "2020-02-25T00:00:00",
          "2020-02-26T00:00:00",
          "2020-02-27T00:00:00",
          "2020-02-28T00:00:00",
          "2020-02-29T00:00:00",
          "2020-03-01T00:00:00",
          "2020-03-02T00:00:00",
          "2020-03-03T00:00:00",
          "2020-03-04T00:00:00",
          "2020-03-05T00:00:00",
          "2020-03-06T00:00:00",
          "2020-03-07T00:00:00",
          "2020-03-08T00:00:00",
          "2020-03-09T00:00:00",
          "2020-03-10T00:00:00",
          "2020-03-11T00:00:00",
          "2020-03-12T00:00:00",
          "2020-03-13T00:00:00",
          "2020-03-14T00:00:00",
          "2020-03-15T00:00:00"
         ],
         "y": [
          1,
          1,
          2,
          2,
          5,
          5,
          5,
          5,
          5,
          7,
          8,
          8,
          11,
          11,
          11,
          11,
          11,
          11,
          11,
          11,
          12,
          12,
          13,
          13,
          13,
          13,
          13,
          13,
          13,
          13,
          15,
          15,
          15,
          51,
          51,
          57,
          58,
          60,
          68,
          74,
          98,
          118,
          149,
          217,
          262,
          402,
          518,
          583,
          959,
          1281,
          1663,
          2179,
          2727,
          3499
         ]
        },
        {
         "line": {
          "color": "hsla(10, 11%, 50%, 0.5)"
         },
         "name": "Japan",
         "opacity": 0.8,
         "type": "scatter",
         "x": [
          "2020-01-22T00:00:00",
          "2020-01-23T00:00:00",
          "2020-01-24T00:00:00",
          "2020-01-25T00:00:00",
          "2020-01-26T00:00:00",
          "2020-01-27T00:00:00",
          "2020-01-28T00:00:00",
          "2020-01-29T00:00:00",
          "2020-01-30T00:00:00",
          "2020-01-31T00:00:00",
          "2020-02-01T00:00:00",
          "2020-02-02T00:00:00",
          "2020-02-03T00:00:00",
          "2020-02-04T00:00:00",
          "2020-02-05T00:00:00",
          "2020-02-06T00:00:00",
          "2020-02-07T00:00:00",
          "2020-02-08T00:00:00",
          "2020-02-09T00:00:00",
          "2020-02-10T00:00:00",
          "2020-02-11T00:00:00",
          "2020-02-12T00:00:00",
          "2020-02-13T00:00:00",
          "2020-02-14T00:00:00",
          "2020-02-15T00:00:00",
          "2020-02-16T00:00:00",
          "2020-02-17T00:00:00",
          "2020-02-18T00:00:00",
          "2020-02-19T00:00:00",
          "2020-02-20T00:00:00",
          "2020-02-21T00:00:00",
          "2020-02-22T00:00:00",
          "2020-02-23T00:00:00",
          "2020-02-24T00:00:00",
          "2020-02-25T00:00:00",
          "2020-02-26T00:00:00",
          "2020-02-27T00:00:00",
          "2020-02-28T00:00:00",
          "2020-02-29T00:00:00",
          "2020-03-01T00:00:00",
          "2020-03-02T00:00:00",
          "2020-03-03T00:00:00",
          "2020-03-04T00:00:00",
          "2020-03-05T00:00:00",
          "2020-03-06T00:00:00",
          "2020-03-07T00:00:00",
          "2020-03-08T00:00:00",
          "2020-03-09T00:00:00",
          "2020-03-10T00:00:00",
          "2020-03-11T00:00:00",
          "2020-03-12T00:00:00",
          "2020-03-13T00:00:00",
          "2020-03-14T00:00:00",
          "2020-03-15T00:00:00"
         ],
         "y": [
          2,
          1,
          2,
          2,
          4,
          4,
          7,
          7,
          11,
          15,
          20,
          20,
          20,
          22,
          22,
          45,
          25,
          25,
          26,
          26,
          26,
          28,
          28,
          29,
          43,
          59,
          66,
          74,
          84,
          94,
          105,
          122,
          147,
          159,
          170,
          189,
          214,
          228,
          241,
          256,
          274,
          293,
          331,
          360,
          420,
          461,
          502,
          511,
          581,
          639,
          639,
          701,
          773,
          839
         ]
        },
        {
         "line": {
          "color": "hsla(10, 47%, 50%, 0.5)"
         },
         "name": "Switzerland",
         "opacity": 0.8,
         "type": "scatter",
         "x": [
          "2020-02-25T00:00:00",
          "2020-02-26T00:00:00",
          "2020-02-27T00:00:00",
          "2020-02-28T00:00:00",
          "2020-02-29T00:00:00",
          "2020-03-01T00:00:00",
          "2020-03-02T00:00:00",
          "2020-03-03T00:00:00",
          "2020-03-04T00:00:00",
          "2020-03-05T00:00:00",
          "2020-03-06T00:00:00",
          "2020-03-07T00:00:00",
          "2020-03-08T00:00:00",
          "2020-03-09T00:00:00",
          "2020-03-10T00:00:00",
          "2020-03-11T00:00:00",
          "2020-03-12T00:00:00",
          "2020-03-13T00:00:00",
          "2020-03-14T00:00:00",
          "2020-03-15T00:00:00"
         ],
         "y": [
          1,
          1,
          8,
          8,
          18,
          27,
          42,
          56,
          90,
          114,
          214,
          268,
          337,
          374,
          491,
          652,
          652,
          1139,
          1359,
          2200
         ]
        },
        {
         "line": {
          "color": "hsla(10, 39%, 50%, 0.5)"
         },
         "name": "United Kingdom",
         "opacity": 0.8,
         "type": "scatter",
         "x": [
          "2020-01-31T00:00:00",
          "2020-02-01T00:00:00",
          "2020-02-02T00:00:00",
          "2020-02-03T00:00:00",
          "2020-02-04T00:00:00",
          "2020-02-05T00:00:00",
          "2020-02-06T00:00:00",
          "2020-02-07T00:00:00",
          "2020-02-08T00:00:00",
          "2020-02-09T00:00:00",
          "2020-02-10T00:00:00",
          "2020-02-11T00:00:00",
          "2020-02-12T00:00:00",
          "2020-02-13T00:00:00",
          "2020-02-14T00:00:00",
          "2020-02-15T00:00:00",
          "2020-02-16T00:00:00",
          "2020-02-17T00:00:00",
          "2020-02-18T00:00:00",
          "2020-02-19T00:00:00",
          "2020-02-20T00:00:00",
          "2020-02-21T00:00:00",
          "2020-02-22T00:00:00",
          "2020-02-23T00:00:00",
          "2020-02-24T00:00:00",
          "2020-02-25T00:00:00",
          "2020-02-26T00:00:00",
          "2020-02-27T00:00:00",
          "2020-02-28T00:00:00",
          "2020-02-29T00:00:00",
          "2020-03-01T00:00:00",
          "2020-03-02T00:00:00",
          "2020-03-03T00:00:00",
          "2020-03-04T00:00:00",
          "2020-03-05T00:00:00",
          "2020-03-06T00:00:00",
          "2020-03-07T00:00:00",
          "2020-03-08T00:00:00",
          "2020-03-09T00:00:00",
          "2020-03-10T00:00:00",
          "2020-03-11T00:00:00",
          "2020-03-12T00:00:00",
          "2020-03-13T00:00:00",
          "2020-03-14T00:00:00",
          "2020-03-15T00:00:00"
         ],
         "y": [
          2,
          2,
          2,
          2,
          2,
          2,
          2,
          3,
          3,
          3,
          8,
          8,
          9,
          9,
          9,
          9,
          9,
          9,
          9,
          9,
          9,
          9,
          9,
          9,
          13,
          13,
          13,
          15,
          20,
          23,
          36,
          40,
          51,
          86,
          116,
          164,
          207,
          274,
          322,
          384,
          459,
          459,
          801,
          1143,
          1144
         ]
        },
        {
         "line": {
          "color": "hsla(10, 35%, 50%, 0.5)"
         },
         "name": "Norway",
         "opacity": 0.8,
         "type": "scatter",
         "x": [
          "2020-02-26T00:00:00",
          "2020-02-27T00:00:00",
          "2020-02-28T00:00:00",
          "2020-02-29T00:00:00",
          "2020-03-01T00:00:00",
          "2020-03-02T00:00:00",
          "2020-03-03T00:00:00",
          "2020-03-04T00:00:00",
          "2020-03-05T00:00:00",
          "2020-03-06T00:00:00",
          "2020-03-07T00:00:00",
          "2020-03-08T00:00:00",
          "2020-03-09T00:00:00",
          "2020-03-10T00:00:00",
          "2020-03-11T00:00:00",
          "2020-03-12T00:00:00",
          "2020-03-13T00:00:00",
          "2020-03-14T00:00:00",
          "2020-03-15T00:00:00"
         ],
         "y": [
          1,
          1,
          6,
          15,
          19,
          25,
          32,
          56,
          87,
          108,
          147,
          176,
          205,
          400,
          598,
          702,
          996,
          1090,
          1221
         ]
        },
        {
         "line": {
          "color": "hsla(10, 33%, 50%, 0.5)"
         },
         "name": "Netherlands",
         "opacity": 0.8,
         "type": "scatter",
         "x": [
          "2020-02-27T00:00:00",
          "2020-02-28T00:00:00",
          "2020-02-29T00:00:00",
          "2020-03-01T00:00:00",
          "2020-03-02T00:00:00",
          "2020-03-03T00:00:00",
          "2020-03-04T00:00:00",
          "2020-03-05T00:00:00",
          "2020-03-06T00:00:00",
          "2020-03-07T00:00:00",
          "2020-03-08T00:00:00",
          "2020-03-09T00:00:00",
          "2020-03-10T00:00:00",
          "2020-03-11T00:00:00",
          "2020-03-12T00:00:00",
          "2020-03-13T00:00:00",
          "2020-03-14T00:00:00",
          "2020-03-15T00:00:00"
         ],
         "y": [
          1,
          1,
          6,
          10,
          18,
          24,
          38,
          82,
          128,
          188,
          265,
          321,
          382,
          503,
          503,
          804,
          959,
          1135
         ]
        },
        {
         "line": {
          "color": "hsla(10, 33%, 50%, 0.5)"
         },
         "name": "Sweden",
         "opacity": 0.8,
         "type": "scatter",
         "x": [
          "2020-01-31T00:00:00",
          "2020-02-01T00:00:00",
          "2020-02-02T00:00:00",
          "2020-02-03T00:00:00",
          "2020-02-04T00:00:00",
          "2020-02-05T00:00:00",
          "2020-02-06T00:00:00",
          "2020-02-07T00:00:00",
          "2020-02-08T00:00:00",
          "2020-02-09T00:00:00",
          "2020-02-10T00:00:00",
          "2020-02-11T00:00:00",
          "2020-02-12T00:00:00",
          "2020-02-13T00:00:00",
          "2020-02-14T00:00:00",
          "2020-02-15T00:00:00",
          "2020-02-16T00:00:00",
          "2020-02-17T00:00:00",
          "2020-02-18T00:00:00",
          "2020-02-19T00:00:00",
          "2020-02-20T00:00:00",
          "2020-02-21T00:00:00",
          "2020-02-22T00:00:00",
          "2020-02-23T00:00:00",
          "2020-02-24T00:00:00",
          "2020-02-25T00:00:00",
          "2020-02-26T00:00:00",
          "2020-02-27T00:00:00",
          "2020-02-28T00:00:00",
          "2020-02-29T00:00:00",
          "2020-03-01T00:00:00",
          "2020-03-02T00:00:00",
          "2020-03-03T00:00:00",
          "2020-03-04T00:00:00",
          "2020-03-05T00:00:00",
          "2020-03-06T00:00:00",
          "2020-03-07T00:00:00",
          "2020-03-08T00:00:00",
          "2020-03-09T00:00:00",
          "2020-03-10T00:00:00",
          "2020-03-11T00:00:00",
          "2020-03-12T00:00:00",
          "2020-03-13T00:00:00",
          "2020-03-14T00:00:00",
          "2020-03-15T00:00:00"
         ],
         "y": [
          1,
          1,
          1,
          1,
          1,
          1,
          1,
          1,
          1,
          1,
          1,
          1,
          1,
          1,
          1,
          1,
          1,
          1,
          1,
          1,
          1,
          1,
          1,
          1,
          1,
          1,
          2,
          7,
          7,
          12,
          14,
          15,
          21,
          35,
          94,
          101,
          161,
          203,
          248,
          355,
          500,
          599,
          814,
          961,
          1022
         ]
        },
        {
         "line": {
          "color": "hsla(10, 9%, 50%, 0.5)"
         },
         "name": "Singapore",
         "opacity": 0.8,
         "type": "scatter",
         "x": [
          "2020-01-23T00:00:00",
          "2020-01-24T00:00:00",
          "2020-01-25T00:00:00",
          "2020-01-26T00:00:00",
          "2020-01-27T00:00:00",
          "2020-01-28T00:00:00",
          "2020-01-29T00:00:00",
          "2020-01-30T00:00:00",
          "2020-01-31T00:00:00",
          "2020-02-01T00:00:00",
          "2020-02-02T00:00:00",
          "2020-02-03T00:00:00",
          "2020-02-04T00:00:00",
          "2020-02-05T00:00:00",
          "2020-02-06T00:00:00",
          "2020-02-07T00:00:00",
          "2020-02-08T00:00:00",
          "2020-02-09T00:00:00",
          "2020-02-10T00:00:00",
          "2020-02-11T00:00:00",
          "2020-02-12T00:00:00",
          "2020-02-13T00:00:00",
          "2020-02-14T00:00:00",
          "2020-02-15T00:00:00",
          "2020-02-16T00:00:00",
          "2020-02-17T00:00:00",
          "2020-02-18T00:00:00",
          "2020-02-19T00:00:00",
          "2020-02-20T00:00:00",
          "2020-02-21T00:00:00",
          "2020-02-22T00:00:00",
          "2020-02-23T00:00:00",
          "2020-02-24T00:00:00",
          "2020-02-25T00:00:00",
          "2020-02-26T00:00:00",
          "2020-02-27T00:00:00",
          "2020-02-28T00:00:00",
          "2020-02-29T00:00:00",
          "2020-03-01T00:00:00",
          "2020-03-02T00:00:00",
          "2020-03-03T00:00:00",
          "2020-03-04T00:00:00",
          "2020-03-05T00:00:00",
          "2020-03-06T00:00:00",
          "2020-03-07T00:00:00",
          "2020-03-08T00:00:00",
          "2020-03-09T00:00:00",
          "2020-03-10T00:00:00",
          "2020-03-11T00:00:00",
          "2020-03-12T00:00:00",
          "2020-03-13T00:00:00",
          "2020-03-14T00:00:00",
          "2020-03-15T00:00:00"
         ],
         "y": [
          1,
          3,
          3,
          4,
          5,
          7,
          7,
          10,
          13,
          16,
          18,
          18,
          24,
          28,
          28,
          30,
          33,
          40,
          45,
          47,
          50,
          58,
          67,
          72,
          75,
          77,
          81,
          84,
          84,
          85,
          85,
          89,
          89,
          91,
          93,
          93,
          93,
          102,
          106,
          108,
          110,
          110,
          117,
          130,
          138,
          150,
          150,
          160,
          178,
          178,
          200,
          212,
          226
         ]
        },
        {
         "line": {
          "color": "hsla(10, 37%, 50%, 0.5)"
         },
         "name": "Denmark",
         "opacity": 0.8,
         "type": "scatter",
         "x": [
          "2020-02-27T00:00:00",
          "2020-02-28T00:00:00",
          "2020-02-29T00:00:00",
          "2020-03-01T00:00:00",
          "2020-03-02T00:00:00",
          "2020-03-03T00:00:00",
          "2020-03-04T00:00:00",
          "2020-03-05T00:00:00",
          "2020-03-06T00:00:00",
          "2020-03-07T00:00:00",
          "2020-03-08T00:00:00",
          "2020-03-09T00:00:00",
          "2020-03-10T00:00:00",
          "2020-03-11T00:00:00",
          "2020-03-12T00:00:00",
          "2020-03-13T00:00:00",
          "2020-03-14T00:00:00",
          "2020-03-15T00:00:00"
         ],
         "y": [
          1,
          1,
          3,
          4,
          4,
          6,
          11,
          11,
          24,
          24,
          37,
          92,
          264,
          444,
          617,
          804,
          836,
          875
         ]
        },
        {
         "line": {
          "color": "hsla(10, 38%, 50%, 0.5)"
         },
         "name": "Belgium",
         "opacity": 0.8,
         "type": "scatter",
         "x": [
          "2020-02-04T00:00:00",
          "2020-02-05T00:00:00",
          "2020-02-06T00:00:00",
          "2020-02-07T00:00:00",
          "2020-02-08T00:00:00",
          "2020-02-09T00:00:00",
          "2020-02-10T00:00:00",
          "2020-02-11T00:00:00",
          "2020-02-12T00:00:00",
          "2020-02-13T00:00:00",
          "2020-02-14T00:00:00",
          "2020-02-15T00:00:00",
          "2020-02-16T00:00:00",
          "2020-02-17T00:00:00",
          "2020-02-18T00:00:00",
          "2020-02-19T00:00:00",
          "2020-02-20T00:00:00",
          "2020-02-21T00:00:00",
          "2020-02-22T00:00:00",
          "2020-02-23T00:00:00",
          "2020-02-24T00:00:00",
          "2020-02-25T00:00:00",
          "2020-02-26T00:00:00",
          "2020-02-27T00:00:00",
          "2020-02-28T00:00:00",
          "2020-02-29T00:00:00",
          "2020-03-01T00:00:00",
          "2020-03-02T00:00:00",
          "2020-03-03T00:00:00",
          "2020-03-04T00:00:00",
          "2020-03-05T00:00:00",
          "2020-03-06T00:00:00",
          "2020-03-07T00:00:00",
          "2020-03-08T00:00:00",
          "2020-03-09T00:00:00",
          "2020-03-10T00:00:00",
          "2020-03-11T00:00:00",
          "2020-03-12T00:00:00",
          "2020-03-13T00:00:00",
          "2020-03-14T00:00:00",
          "2020-03-15T00:00:00"
         ],
         "y": [
          1,
          1,
          1,
          1,
          1,
          1,
          1,
          1,
          1,
          1,
          1,
          1,
          1,
          1,
          1,
          1,
          1,
          1,
          1,
          1,
          1,
          1,
          1,
          1,
          1,
          1,
          2,
          8,
          13,
          23,
          50,
          109,
          169,
          200,
          239,
          267,
          314,
          314,
          559,
          689,
          886
         ]
        },
        {
         "line": {
          "color": "hsla(10, 50%, 50%, 0.5)"
         },
         "name": "Austria",
         "opacity": 0.8,
         "type": "scatter",
         "x": [
          "2020-02-25T00:00:00",
          "2020-02-26T00:00:00",
          "2020-02-27T00:00:00",
          "2020-02-28T00:00:00",
          "2020-02-29T00:00:00",
          "2020-03-01T00:00:00",
          "2020-03-02T00:00:00",
          "2020-03-03T00:00:00",
          "2020-03-04T00:00:00",
          "2020-03-05T00:00:00",
          "2020-03-06T00:00:00",
          "2020-03-07T00:00:00",
          "2020-03-08T00:00:00",
          "2020-03-09T00:00:00",
          "2020-03-10T00:00:00",
          "2020-03-11T00:00:00",
          "2020-03-12T00:00:00",
          "2020-03-13T00:00:00",
          "2020-03-14T00:00:00",
          "2020-03-15T00:00:00"
         ],
         "y": [
          2,
          2,
          3,
          3,
          9,
          14,
          18,
          21,
          29,
          41,
          55,
          79,
          104,
          131,
          182,
          246,
          302,
          504,
          655,
          860
         ]
        },
        {
         "line": {
          "color": "hsla(10, 35%, 50%, 0.5)"
         },
         "name": "Malaysia",
         "opacity": 0.8,
         "type": "scatter",
         "x": [
          "2020-01-25T00:00:00",
          "2020-01-26T00:00:00",
          "2020-01-27T00:00:00",
          "2020-01-28T00:00:00",
          "2020-01-29T00:00:00",
          "2020-01-30T00:00:00",
          "2020-01-31T00:00:00",
          "2020-02-01T00:00:00",
          "2020-02-02T00:00:00",
          "2020-02-03T00:00:00",
          "2020-02-04T00:00:00",
          "2020-02-05T00:00:00",
          "2020-02-06T00:00:00",
          "2020-02-07T00:00:00",
          "2020-02-08T00:00:00",
          "2020-02-09T00:00:00",
          "2020-02-10T00:00:00",
          "2020-02-11T00:00:00",
          "2020-02-12T00:00:00",
          "2020-02-13T00:00:00",
          "2020-02-14T00:00:00",
          "2020-02-15T00:00:00",
          "2020-02-16T00:00:00",
          "2020-02-17T00:00:00",
          "2020-02-18T00:00:00",
          "2020-02-19T00:00:00",
          "2020-02-20T00:00:00",
          "2020-02-21T00:00:00",
          "2020-02-22T00:00:00",
          "2020-02-23T00:00:00",
          "2020-02-24T00:00:00",
          "2020-02-25T00:00:00",
          "2020-02-26T00:00:00",
          "2020-02-27T00:00:00",
          "2020-02-28T00:00:00",
          "2020-02-29T00:00:00",
          "2020-03-01T00:00:00",
          "2020-03-02T00:00:00",
          "2020-03-03T00:00:00",
          "2020-03-04T00:00:00",
          "2020-03-05T00:00:00",
          "2020-03-06T00:00:00",
          "2020-03-07T00:00:00",
          "2020-03-08T00:00:00",
          "2020-03-09T00:00:00",
          "2020-03-10T00:00:00",
          "2020-03-11T00:00:00",
          "2020-03-12T00:00:00",
          "2020-03-13T00:00:00",
          "2020-03-14T00:00:00",
          "2020-03-15T00:00:00"
         ],
         "y": [
          3,
          4,
          4,
          4,
          7,
          8,
          8,
          8,
          8,
          8,
          10,
          12,
          12,
          12,
          16,
          16,
          18,
          18,
          18,
          19,
          19,
          22,
          22,
          22,
          22,
          22,
          22,
          22,
          22,
          22,
          22,
          22,
          22,
          23,
          23,
          25,
          29,
          29,
          36,
          50,
          50,
          83,
          93,
          99,
          117,
          129,
          149,
          149,
          197,
          238,
          428
         ]
        },
        {
         "line": {
          "color": "hsla(10, 32%, 50%, 0.5)"
         },
         "name": "Australia",
         "opacity": 0.8,
         "type": "scatter",
         "x": [
          "2020-01-26T00:00:00",
          "2020-01-27T00:00:00",
          "2020-01-28T00:00:00",
          "2020-01-29T00:00:00",
          "2020-01-30T00:00:00",
          "2020-01-31T00:00:00",
          "2020-02-01T00:00:00",
          "2020-02-02T00:00:00",
          "2020-02-03T00:00:00",
          "2020-02-04T00:00:00",
          "2020-02-05T00:00:00",
          "2020-02-06T00:00:00",
          "2020-02-07T00:00:00",
          "2020-02-08T00:00:00",
          "2020-02-09T00:00:00",
          "2020-02-10T00:00:00",
          "2020-02-11T00:00:00",
          "2020-02-12T00:00:00",
          "2020-02-13T00:00:00",
          "2020-02-14T00:00:00",
          "2020-02-15T00:00:00",
          "2020-02-16T00:00:00",
          "2020-02-17T00:00:00",
          "2020-02-18T00:00:00",
          "2020-02-19T00:00:00",
          "2020-02-20T00:00:00",
          "2020-02-21T00:00:00",
          "2020-02-22T00:00:00",
          "2020-02-23T00:00:00",
          "2020-02-24T00:00:00",
          "2020-02-25T00:00:00",
          "2020-02-26T00:00:00",
          "2020-02-27T00:00:00",
          "2020-02-28T00:00:00",
          "2020-02-29T00:00:00",
          "2020-03-01T00:00:00",
          "2020-03-02T00:00:00",
          "2020-03-03T00:00:00",
          "2020-03-04T00:00:00",
          "2020-03-05T00:00:00",
          "2020-03-06T00:00:00",
          "2020-03-07T00:00:00",
          "2020-03-08T00:00:00",
          "2020-03-09T00:00:00",
          "2020-03-10T00:00:00",
          "2020-03-11T00:00:00",
          "2020-03-12T00:00:00",
          "2020-03-13T00:00:00",
          "2020-03-14T00:00:00",
          "2020-03-15T00:00:00"
         ],
         "y": [
          4,
          5,
          5,
          6,
          9,
          9,
          12,
          12,
          12,
          13,
          13,
          14,
          15,
          15,
          15,
          15,
          15,
          15,
          15,
          15,
          15,
          15,
          15,
          15,
          15,
          15,
          19,
          22,
          22,
          22,
          22,
          22,
          23,
          23,
          25,
          27,
          30,
          39,
          52,
          55,
          60,
          63,
          76,
          91,
          107,
          128,
          128,
          200,
          250,
          297
         ]
        },
        {
         "line": {
          "color": "hsla(10, 19%, 50%, 0.5)"
         },
         "name": "Thailand",
         "opacity": 0.8,
         "type": "scatter",
         "x": [
          "2020-01-22T00:00:00",
          "2020-01-23T00:00:00",
          "2020-01-24T00:00:00",
          "2020-01-25T00:00:00",
          "2020-01-26T00:00:00",
          "2020-01-27T00:00:00",
          "2020-01-28T00:00:00",
          "2020-01-29T00:00:00",
          "2020-01-30T00:00:00",
          "2020-01-31T00:00:00",
          "2020-02-01T00:00:00",
          "2020-02-02T00:00:00",
          "2020-02-03T00:00:00",
          "2020-02-04T00:00:00",
          "2020-02-05T00:00:00",
          "2020-02-06T00:00:00",
          "2020-02-07T00:00:00",
          "2020-02-08T00:00:00",
          "2020-02-09T00:00:00",
          "2020-02-10T00:00:00",
          "2020-02-11T00:00:00",
          "2020-02-12T00:00:00",
          "2020-02-13T00:00:00",
          "2020-02-14T00:00:00",
          "2020-02-15T00:00:00",
          "2020-02-16T00:00:00",
          "2020-02-17T00:00:00",
          "2020-02-18T00:00:00",
          "2020-02-19T00:00:00",
          "2020-02-20T00:00:00",
          "2020-02-21T00:00:00",
          "2020-02-22T00:00:00",
          "2020-02-23T00:00:00",
          "2020-02-24T00:00:00",
          "2020-02-25T00:00:00",
          "2020-02-26T00:00:00",
          "2020-02-27T00:00:00",
          "2020-02-28T00:00:00",
          "2020-02-29T00:00:00",
          "2020-03-01T00:00:00",
          "2020-03-02T00:00:00",
          "2020-03-03T00:00:00",
          "2020-03-04T00:00:00",
          "2020-03-05T00:00:00",
          "2020-03-06T00:00:00",
          "2020-03-07T00:00:00",
          "2020-03-08T00:00:00",
          "2020-03-09T00:00:00",
          "2020-03-10T00:00:00",
          "2020-03-11T00:00:00",
          "2020-03-12T00:00:00",
          "2020-03-13T00:00:00",
          "2020-03-14T00:00:00",
          "2020-03-15T00:00:00"
         ],
         "y": [
          2,
          3,
          5,
          7,
          8,
          8,
          14,
          14,
          14,
          19,
          19,
          19,
          19,
          25,
          25,
          25,
          25,
          32,
          32,
          32,
          33,
          33,
          33,
          33,
          33,
          34,
          35,
          35,
          35,
          35,
          35,
          35,
          35,
          35,
          37,
          40,
          40,
          41,
          42,
          42,
          43,
          43,
          43,
          47,
          48,
          50,
          50,
          50,
          53,
          59,
          70,
          75,
          82,
          114
         ]
        },
        {
         "line": {
          "color": "hsla(10, 18%, 50%, 0.5)"
         },
         "name": "Bahrain",
         "opacity": 0.8,
         "type": "scatter",
         "x": [
          "2020-02-24T00:00:00",
          "2020-02-25T00:00:00",
          "2020-02-26T00:00:00",
          "2020-02-27T00:00:00",
          "2020-02-28T00:00:00",
          "2020-02-29T00:00:00",
          "2020-03-01T00:00:00",
          "2020-03-02T00:00:00",
          "2020-03-03T00:00:00",
          "2020-03-04T00:00:00",
          "2020-03-05T00:00:00",
          "2020-03-06T00:00:00",
          "2020-03-07T00:00:00",
          "2020-03-08T00:00:00",
          "2020-03-09T00:00:00",
          "2020-03-10T00:00:00",
          "2020-03-11T00:00:00",
          "2020-03-12T00:00:00",
          "2020-03-13T00:00:00",
          "2020-03-14T00:00:00",
          "2020-03-15T00:00:00"
         ],
         "y": [
          1,
          23,
          33,
          33,
          36,
          41,
          47,
          49,
          49,
          52,
          55,
          60,
          85,
          85,
          95,
          110,
          195,
          195,
          189,
          210,
          214
         ]
        },
        {
         "line": {
          "color": "hsla(10, 46%, 50%, 0.5)"
         },
         "name": "Qatar",
         "opacity": 0.8,
         "type": "scatter",
         "x": [
          "2020-02-29T00:00:00",
          "2020-03-01T00:00:00",
          "2020-03-02T00:00:00",
          "2020-03-03T00:00:00",
          "2020-03-04T00:00:00",
          "2020-03-05T00:00:00",
          "2020-03-06T00:00:00",
          "2020-03-07T00:00:00",
          "2020-03-08T00:00:00",
          "2020-03-09T00:00:00",
          "2020-03-10T00:00:00",
          "2020-03-11T00:00:00",
          "2020-03-12T00:00:00",
          "2020-03-13T00:00:00",
          "2020-03-14T00:00:00",
          "2020-03-15T00:00:00"
         ],
         "y": [
          1,
          3,
          3,
          7,
          8,
          8,
          8,
          8,
          15,
          18,
          24,
          262,
          262,
          320,
          337,
          401
         ]
        },
        {
         "line": {
          "color": "hsla(10, 31%, 50%, 0.5)"
         },
         "name": "Canada",
         "opacity": 0.8,
         "type": "scatter",
         "x": [
          "2020-01-26T00:00:00",
          "2020-01-27T00:00:00",
          "2020-01-28T00:00:00",
          "2020-01-29T00:00:00",
          "2020-01-30T00:00:00",
          "2020-01-31T00:00:00",
          "2020-02-01T00:00:00",
          "2020-02-02T00:00:00",
          "2020-02-03T00:00:00",
          "2020-02-04T00:00:00",
          "2020-02-05T00:00:00",
          "2020-02-06T00:00:00",
          "2020-02-07T00:00:00",
          "2020-02-08T00:00:00",
          "2020-02-09T00:00:00",
          "2020-02-10T00:00:00",
          "2020-02-11T00:00:00",
          "2020-02-12T00:00:00",
          "2020-02-13T00:00:00",
          "2020-02-14T00:00:00",
          "2020-02-15T00:00:00",
          "2020-02-16T00:00:00",
          "2020-02-17T00:00:00",
          "2020-02-18T00:00:00",
          "2020-02-19T00:00:00",
          "2020-02-20T00:00:00",
          "2020-02-21T00:00:00",
          "2020-02-22T00:00:00",
          "2020-02-23T00:00:00",
          "2020-02-24T00:00:00",
          "2020-02-25T00:00:00",
          "2020-02-26T00:00:00",
          "2020-02-27T00:00:00",
          "2020-02-28T00:00:00",
          "2020-02-29T00:00:00",
          "2020-03-01T00:00:00",
          "2020-03-02T00:00:00",
          "2020-03-03T00:00:00",
          "2020-03-04T00:00:00",
          "2020-03-05T00:00:00",
          "2020-03-06T00:00:00",
          "2020-03-07T00:00:00",
          "2020-03-08T00:00:00",
          "2020-03-09T00:00:00",
          "2020-03-10T00:00:00",
          "2020-03-11T00:00:00",
          "2020-03-12T00:00:00",
          "2020-03-13T00:00:00",
          "2020-03-14T00:00:00",
          "2020-03-15T00:00:00"
         ],
         "y": [
          1,
          1,
          2,
          2,
          2,
          4,
          4,
          4,
          4,
          4,
          5,
          5,
          7,
          7,
          7,
          7,
          7,
          7,
          7,
          7,
          7,
          7,
          8,
          8,
          8,
          8,
          9,
          9,
          9,
          10,
          11,
          11,
          13,
          14,
          20,
          24,
          27,
          30,
          33,
          37,
          49,
          54,
          64,
          77,
          79,
          108,
          117,
          193,
          198,
          252
         ]
        },
        {
         "line": {
          "color": "hsla(10, 5%, 50%, 0.5)"
         },
         "name": "Taiwan*",
         "opacity": 0.8,
         "type": "scatter",
         "x": [
          "2020-01-22T00:00:00",
          "2020-01-23T00:00:00",
          "2020-01-24T00:00:00",
          "2020-01-25T00:00:00",
          "2020-01-26T00:00:00",
          "2020-01-27T00:00:00",
          "2020-01-28T00:00:00",
          "2020-01-29T00:00:00",
          "2020-01-30T00:00:00",
          "2020-01-31T00:00:00",
          "2020-02-01T00:00:00",
          "2020-02-02T00:00:00",
          "2020-02-03T00:00:00",
          "2020-02-04T00:00:00",
          "2020-02-05T00:00:00",
          "2020-02-06T00:00:00",
          "2020-02-07T00:00:00",
          "2020-02-08T00:00:00",
          "2020-02-09T00:00:00",
          "2020-02-10T00:00:00",
          "2020-02-11T00:00:00",
          "2020-02-12T00:00:00",
          "2020-02-13T00:00:00",
          "2020-02-14T00:00:00",
          "2020-02-15T00:00:00",
          "2020-02-16T00:00:00",
          "2020-02-17T00:00:00",
          "2020-02-18T00:00:00",
          "2020-02-19T00:00:00",
          "2020-02-20T00:00:00",
          "2020-02-21T00:00:00",
          "2020-02-22T00:00:00",
          "2020-02-23T00:00:00",
          "2020-02-24T00:00:00",
          "2020-02-25T00:00:00",
          "2020-02-26T00:00:00",
          "2020-02-27T00:00:00",
          "2020-02-28T00:00:00",
          "2020-02-29T00:00:00",
          "2020-03-01T00:00:00",
          "2020-03-02T00:00:00",
          "2020-03-03T00:00:00",
          "2020-03-04T00:00:00",
          "2020-03-05T00:00:00",
          "2020-03-06T00:00:00",
          "2020-03-07T00:00:00",
          "2020-03-08T00:00:00",
          "2020-03-09T00:00:00",
          "2020-03-10T00:00:00",
          "2020-03-11T00:00:00",
          "2020-03-12T00:00:00",
          "2020-03-13T00:00:00",
          "2020-03-14T00:00:00",
          "2020-03-15T00:00:00"
         ],
         "y": [
          1,
          1,
          3,
          3,
          4,
          5,
          8,
          8,
          9,
          10,
          10,
          10,
          10,
          11,
          11,
          16,
          16,
          17,
          18,
          18,
          18,
          18,
          18,
          18,
          18,
          20,
          22,
          22,
          23,
          24,
          26,
          26,
          28,
          30,
          31,
          32,
          32,
          34,
          39,
          40,
          41,
          42,
          42,
          44,
          45,
          45,
          45,
          45,
          47,
          48,
          49,
          50,
          53,
          59
         ]
        },
        {
         "line": {
          "color": "hsla(10, 42%, 50%, 0.5)"
         },
         "name": "Greece",
         "opacity": 0.8,
         "type": "scatter",
         "x": [
          "2020-02-26T00:00:00",
          "2020-02-27T00:00:00",
          "2020-02-28T00:00:00",
          "2020-02-29T00:00:00",
          "2020-03-01T00:00:00",
          "2020-03-02T00:00:00",
          "2020-03-03T00:00:00",
          "2020-03-04T00:00:00",
          "2020-03-05T00:00:00",
          "2020-03-06T00:00:00",
          "2020-03-07T00:00:00",
          "2020-03-08T00:00:00",
          "2020-03-09T00:00:00",
          "2020-03-10T00:00:00",
          "2020-03-11T00:00:00",
          "2020-03-12T00:00:00",
          "2020-03-13T00:00:00",
          "2020-03-14T00:00:00",
          "2020-03-15T00:00:00"
         ],
         "y": [
          1,
          3,
          4,
          4,
          7,
          7,
          7,
          9,
          31,
          45,
          46,
          73,
          73,
          89,
          99,
          99,
          190,
          228,
          331
         ]
        },
        {
         "line": {
          "color": "hsla(10, 33%, 50%, 0.5)"
         },
         "name": "Israel",
         "opacity": 0.8,
         "type": "scatter",
         "x": [
          "2020-02-21T00:00:00",
          "2020-02-22T00:00:00",
          "2020-02-23T00:00:00",
          "2020-02-24T00:00:00",
          "2020-02-25T00:00:00",
          "2020-02-26T00:00:00",
          "2020-02-27T00:00:00",
          "2020-02-28T00:00:00",
          "2020-02-29T00:00:00",
          "2020-03-01T00:00:00",
          "2020-03-02T00:00:00",
          "2020-03-03T00:00:00",
          "2020-03-04T00:00:00",
          "2020-03-05T00:00:00",
          "2020-03-06T00:00:00",
          "2020-03-07T00:00:00",
          "2020-03-08T00:00:00",
          "2020-03-09T00:00:00",
          "2020-03-10T00:00:00",
          "2020-03-11T00:00:00",
          "2020-03-12T00:00:00",
          "2020-03-13T00:00:00",
          "2020-03-14T00:00:00",
          "2020-03-15T00:00:00"
         ],
         "y": [
          1,
          1,
          1,
          1,
          1,
          2,
          3,
          4,
          7,
          10,
          10,
          12,
          15,
          20,
          37,
          43,
          61,
          61,
          83,
          109,
          131,
          161,
          193,
          251
         ]
        },
        {
         "line": {
          "color": "hsla(10, 14%, 50%, 0.5)"
         },
         "name": "Kuwait",
         "opacity": 0.8,
         "type": "scatter",
         "x": [
          "2020-02-24T00:00:00",
          "2020-02-25T00:00:00",
          "2020-02-26T00:00:00",
          "2020-02-27T00:00:00",
          "2020-02-28T00:00:00",
          "2020-02-29T00:00:00",
          "2020-03-01T00:00:00",
          "2020-03-02T00:00:00",
          "2020-03-03T00:00:00",
          "2020-03-04T00:00:00",
          "2020-03-05T00:00:00",
          "2020-03-06T00:00:00",
          "2020-03-07T00:00:00",
          "2020-03-08T00:00:00",
          "2020-03-09T00:00:00",
          "2020-03-10T00:00:00",
          "2020-03-11T00:00:00",
          "2020-03-12T00:00:00",
          "2020-03-13T00:00:00",
          "2020-03-14T00:00:00",
          "2020-03-15T00:00:00"
         ],
         "y": [
          1,
          11,
          26,
          43,
          45,
          45,
          45,
          56,
          56,
          56,
          58,
          58,
          61,
          64,
          64,
          69,
          72,
          80,
          80,
          104,
          112
         ]
        },
        {
         "line": {
          "color": "hsla(10, 11%, 50%, 0.5)"
         },
         "name": "United Arab Emirates",
         "opacity": 0.8,
         "type": "scatter",
         "x": [
          "2020-01-29T00:00:00",
          "2020-01-30T00:00:00",
          "2020-01-31T00:00:00",
          "2020-02-01T00:00:00",
          "2020-02-02T00:00:00",
          "2020-02-03T00:00:00",
          "2020-02-04T00:00:00",
          "2020-02-05T00:00:00",
          "2020-02-06T00:00:00",
          "2020-02-07T00:00:00",
          "2020-02-08T00:00:00",
          "2020-02-09T00:00:00",
          "2020-02-10T00:00:00",
          "2020-02-11T00:00:00",
          "2020-02-12T00:00:00",
          "2020-02-13T00:00:00",
          "2020-02-14T00:00:00",
          "2020-02-15T00:00:00",
          "2020-02-16T00:00:00",
          "2020-02-17T00:00:00",
          "2020-02-18T00:00:00",
          "2020-02-19T00:00:00",
          "2020-02-20T00:00:00",
          "2020-02-21T00:00:00",
          "2020-02-22T00:00:00",
          "2020-02-23T00:00:00",
          "2020-02-24T00:00:00",
          "2020-02-25T00:00:00",
          "2020-02-26T00:00:00",
          "2020-02-27T00:00:00",
          "2020-02-28T00:00:00",
          "2020-02-29T00:00:00",
          "2020-03-01T00:00:00",
          "2020-03-02T00:00:00",
          "2020-03-03T00:00:00",
          "2020-03-04T00:00:00",
          "2020-03-05T00:00:00",
          "2020-03-06T00:00:00",
          "2020-03-07T00:00:00",
          "2020-03-08T00:00:00",
          "2020-03-09T00:00:00",
          "2020-03-10T00:00:00",
          "2020-03-11T00:00:00",
          "2020-03-12T00:00:00",
          "2020-03-13T00:00:00",
          "2020-03-14T00:00:00",
          "2020-03-15T00:00:00"
         ],
         "y": [
          4,
          4,
          4,
          4,
          5,
          5,
          5,
          5,
          5,
          5,
          7,
          7,
          8,
          8,
          8,
          8,
          8,
          8,
          9,
          9,
          9,
          9,
          9,
          9,
          13,
          13,
          13,
          13,
          13,
          13,
          19,
          21,
          21,
          21,
          27,
          27,
          29,
          29,
          45,
          45,
          45,
          74,
          74,
          85,
          85,
          85,
          98
         ]
        },
        {
         "line": {
          "color": "hsla(10, 27%, 50%, 0.5)"
         },
         "name": "Iceland",
         "opacity": 0.8,
         "type": "scatter",
         "x": [
          "2020-02-28T00:00:00",
          "2020-02-29T00:00:00",
          "2020-03-01T00:00:00",
          "2020-03-02T00:00:00",
          "2020-03-03T00:00:00",
          "2020-03-04T00:00:00",
          "2020-03-05T00:00:00",
          "2020-03-06T00:00:00",
          "2020-03-07T00:00:00",
          "2020-03-08T00:00:00",
          "2020-03-09T00:00:00",
          "2020-03-10T00:00:00",
          "2020-03-11T00:00:00",
          "2020-03-12T00:00:00",
          "2020-03-13T00:00:00",
          "2020-03-14T00:00:00",
          "2020-03-15T00:00:00"
         ],
         "y": [
          1,
          1,
          3,
          6,
          11,
          26,
          34,
          43,
          50,
          50,
          58,
          69,
          85,
          103,
          134,
          156,
          171
         ]
        },
        {
         "line": {
          "color": "hsla(10, 53%, 50%, 0.5)"
         },
         "name": "Czechia",
         "opacity": 0.8,
         "type": "scatter",
         "x": [
          "2020-03-01T00:00:00",
          "2020-03-02T00:00:00",
          "2020-03-03T00:00:00",
          "2020-03-04T00:00:00",
          "2020-03-05T00:00:00",
          "2020-03-06T00:00:00",
          "2020-03-07T00:00:00",
          "2020-03-08T00:00:00",
          "2020-03-09T00:00:00",
          "2020-03-10T00:00:00",
          "2020-03-11T00:00:00",
          "2020-03-12T00:00:00",
          "2020-03-13T00:00:00",
          "2020-03-14T00:00:00",
          "2020-03-15T00:00:00"
         ],
         "y": [
          3,
          3,
          5,
          8,
          12,
          18,
          19,
          31,
          31,
          41,
          91,
          94,
          141,
          189,
          253
         ]
        },
        {
         "line": {
          "color": "hsla(10, 65%, 50%, 0.5)"
         },
         "name": "Finland",
         "opacity": 0.8,
         "type": "scatter",
         "x": [
          "2020-01-29T00:00:00",
          "2020-01-30T00:00:00",
          "2020-01-31T00:00:00",
          "2020-02-01T00:00:00",
          "2020-02-02T00:00:00",
          "2020-02-03T00:00:00",
          "2020-02-04T00:00:00",
          "2020-02-05T00:00:00",
          "2020-02-06T00:00:00",
          "2020-02-07T00:00:00",
          "2020-02-08T00:00:00",
          "2020-02-09T00:00:00",
          "2020-02-10T00:00:00",
          "2020-02-11T00:00:00",
          "2020-02-12T00:00:00",
          "2020-02-13T00:00:00",
          "2020-02-14T00:00:00",
          "2020-02-15T00:00:00",
          "2020-02-16T00:00:00",
          "2020-02-17T00:00:00",
          "2020-02-18T00:00:00",
          "2020-02-19T00:00:00",
          "2020-02-20T00:00:00",
          "2020-02-21T00:00:00",
          "2020-02-22T00:00:00",
          "2020-02-23T00:00:00",
          "2020-02-24T00:00:00",
          "2020-02-25T00:00:00",
          "2020-02-26T00:00:00",
          "2020-02-27T00:00:00",
          "2020-02-28T00:00:00",
          "2020-02-29T00:00:00",
          "2020-03-01T00:00:00",
          "2020-03-02T00:00:00",
          "2020-03-03T00:00:00",
          "2020-03-04T00:00:00",
          "2020-03-05T00:00:00",
          "2020-03-06T00:00:00",
          "2020-03-07T00:00:00",
          "2020-03-08T00:00:00",
          "2020-03-09T00:00:00",
          "2020-03-10T00:00:00",
          "2020-03-11T00:00:00",
          "2020-03-12T00:00:00",
          "2020-03-13T00:00:00",
          "2020-03-14T00:00:00",
          "2020-03-15T00:00:00"
         ],
         "y": [
          1,
          1,
          1,
          1,
          1,
          1,
          1,
          1,
          1,
          1,
          1,
          1,
          1,
          1,
          1,
          1,
          1,
          1,
          1,
          1,
          1,
          1,
          1,
          1,
          1,
          1,
          1,
          1,
          2,
          2,
          2,
          3,
          6,
          6,
          6,
          6,
          12,
          15,
          15,
          23,
          30,
          40,
          59,
          59,
          155,
          225,
          244
         ]
        },
        {
         "line": {
          "color": "hsla(10, 16%, 50%, 0.5)"
         },
         "name": "Iraq",
         "opacity": 0.8,
         "type": "scatter",
         "x": [
          "2020-02-24T00:00:00",
          "2020-02-25T00:00:00",
          "2020-02-26T00:00:00",
          "2020-02-27T00:00:00",
          "2020-02-28T00:00:00",
          "2020-02-29T00:00:00",
          "2020-03-01T00:00:00",
          "2020-03-02T00:00:00",
          "2020-03-03T00:00:00",
          "2020-03-04T00:00:00",
          "2020-03-05T00:00:00",
          "2020-03-06T00:00:00",
          "2020-03-07T00:00:00",
          "2020-03-08T00:00:00",
          "2020-03-09T00:00:00",
          "2020-03-10T00:00:00",
          "2020-03-11T00:00:00",
          "2020-03-12T00:00:00",
          "2020-03-13T00:00:00",
          "2020-03-14T00:00:00",
          "2020-03-15T00:00:00"
         ],
         "y": [
          1,
          1,
          5,
          7,
          7,
          13,
          19,
          26,
          32,
          35,
          35,
          40,
          54,
          60,
          60,
          71,
          71,
          71,
          101,
          110,
          116
         ]
        },
        {
         "line": {
          "color": "hsla(10, 16%, 50%, 0.5)"
         },
         "name": "Vietnam",
         "opacity": 0.8,
         "type": "scatter",
         "x": [
          "2020-01-23T00:00:00",
          "2020-01-24T00:00:00",
          "2020-01-25T00:00:00",
          "2020-01-26T00:00:00",
          "2020-01-27T00:00:00",
          "2020-01-28T00:00:00",
          "2020-01-29T00:00:00",
          "2020-01-30T00:00:00",
          "2020-01-31T00:00:00",
          "2020-02-01T00:00:00",
          "2020-02-02T00:00:00",
          "2020-02-03T00:00:00",
          "2020-02-04T00:00:00",
          "2020-02-05T00:00:00",
          "2020-02-06T00:00:00",
          "2020-02-07T00:00:00",
          "2020-02-08T00:00:00",
          "2020-02-09T00:00:00",
          "2020-02-10T00:00:00",
          "2020-02-11T00:00:00",
          "2020-02-12T00:00:00",
          "2020-02-13T00:00:00",
          "2020-02-14T00:00:00",
          "2020-02-15T00:00:00",
          "2020-02-16T00:00:00",
          "2020-02-17T00:00:00",
          "2020-02-18T00:00:00",
          "2020-02-19T00:00:00",
          "2020-02-20T00:00:00",
          "2020-02-21T00:00:00",
          "2020-02-22T00:00:00",
          "2020-02-23T00:00:00",
          "2020-02-24T00:00:00",
          "2020-02-25T00:00:00",
          "2020-02-26T00:00:00",
          "2020-02-27T00:00:00",
          "2020-02-28T00:00:00",
          "2020-02-29T00:00:00",
          "2020-03-01T00:00:00",
          "2020-03-02T00:00:00",
          "2020-03-03T00:00:00",
          "2020-03-04T00:00:00",
          "2020-03-05T00:00:00",
          "2020-03-06T00:00:00",
          "2020-03-07T00:00:00",
          "2020-03-08T00:00:00",
          "2020-03-09T00:00:00",
          "2020-03-10T00:00:00",
          "2020-03-11T00:00:00",
          "2020-03-12T00:00:00",
          "2020-03-13T00:00:00",
          "2020-03-14T00:00:00",
          "2020-03-15T00:00:00"
         ],
         "y": [
          2,
          2,
          2,
          2,
          2,
          2,
          2,
          2,
          2,
          6,
          6,
          8,
          8,
          8,
          10,
          10,
          13,
          13,
          14,
          15,
          15,
          16,
          16,
          16,
          16,
          16,
          16,
          16,
          16,
          16,
          16,
          16,
          16,
          16,
          16,
          16,
          16,
          16,
          16,
          16,
          16,
          16,
          16,
          16,
          18,
          30,
          30,
          31,
          38,
          39,
          47,
          53,
          56
         ]
        },
        {
         "line": {
          "color": "hsla(10, 63%, 50%, 0.5)"
         },
         "name": "Portugal",
         "opacity": 0.8,
         "type": "scatter",
         "x": [
          "2020-03-02T00:00:00",
          "2020-03-03T00:00:00",
          "2020-03-04T00:00:00",
          "2020-03-05T00:00:00",
          "2020-03-06T00:00:00",
          "2020-03-07T00:00:00",
          "2020-03-08T00:00:00",
          "2020-03-09T00:00:00",
          "2020-03-10T00:00:00",
          "2020-03-11T00:00:00",
          "2020-03-12T00:00:00",
          "2020-03-13T00:00:00",
          "2020-03-14T00:00:00",
          "2020-03-15T00:00:00"
         ],
         "y": [
          2,
          2,
          5,
          8,
          13,
          20,
          30,
          30,
          41,
          59,
          59,
          112,
          169,
          245
         ]
        },
        {
         "line": {
          "color": "hsla(10, 23%, 50%, 0.5)"
         },
         "name": "India",
         "opacity": 0.8,
         "type": "scatter",
         "x": [
          "2020-01-30T00:00:00",
          "2020-01-31T00:00:00",
          "2020-02-01T00:00:00",
          "2020-02-02T00:00:00",
          "2020-02-03T00:00:00",
          "2020-02-04T00:00:00",
          "2020-02-05T00:00:00",
          "2020-02-06T00:00:00",
          "2020-02-07T00:00:00",
          "2020-02-08T00:00:00",
          "2020-02-09T00:00:00",
          "2020-02-10T00:00:00",
          "2020-02-11T00:00:00",
          "2020-02-12T00:00:00",
          "2020-02-13T00:00:00",
          "2020-02-14T00:00:00",
          "2020-02-15T00:00:00",
          "2020-02-16T00:00:00",
          "2020-02-17T00:00:00",
          "2020-02-18T00:00:00",
          "2020-02-19T00:00:00",
          "2020-02-20T00:00:00",
          "2020-02-21T00:00:00",
          "2020-02-22T00:00:00",
          "2020-02-23T00:00:00",
          "2020-02-24T00:00:00",
          "2020-02-25T00:00:00",
          "2020-02-26T00:00:00",
          "2020-02-27T00:00:00",
          "2020-02-28T00:00:00",
          "2020-02-29T00:00:00",
          "2020-03-01T00:00:00",
          "2020-03-02T00:00:00",
          "2020-03-03T00:00:00",
          "2020-03-04T00:00:00",
          "2020-03-05T00:00:00",
          "2020-03-06T00:00:00",
          "2020-03-07T00:00:00",
          "2020-03-08T00:00:00",
          "2020-03-09T00:00:00",
          "2020-03-10T00:00:00",
          "2020-03-11T00:00:00",
          "2020-03-12T00:00:00",
          "2020-03-13T00:00:00",
          "2020-03-14T00:00:00",
          "2020-03-15T00:00:00"
         ],
         "y": [
          1,
          1,
          1,
          2,
          3,
          3,
          3,
          3,
          3,
          3,
          3,
          3,
          3,
          3,
          3,
          3,
          3,
          3,
          3,
          3,
          3,
          3,
          3,
          3,
          3,
          3,
          3,
          3,
          3,
          3,
          3,
          3,
          5,
          5,
          28,
          30,
          31,
          34,
          39,
          43,
          56,
          62,
          73,
          82,
          102,
          113
         ]
        },
        {
         "line": {
          "color": "hsla(10, 59%, 50%, 0.5)"
         },
         "name": "Slovenia",
         "opacity": 0.8,
         "type": "scatter",
         "x": [
          "2020-03-05T00:00:00",
          "2020-03-06T00:00:00",
          "2020-03-07T00:00:00",
          "2020-03-08T00:00:00",
          "2020-03-09T00:00:00",
          "2020-03-10T00:00:00",
          "2020-03-11T00:00:00",
          "2020-03-12T00:00:00",
          "2020-03-13T00:00:00",
          "2020-03-14T00:00:00",
          "2020-03-15T00:00:00"
         ],
         "y": [
          2,
          7,
          7,
          16,
          16,
          31,
          57,
          89,
          141,
          181,
          219
         ]
        },
        {
         "line": {
          "color": "hsla(10, 50%, 50%, 0.5)"
         },
         "name": "Brazil",
         "opacity": 0.8,
         "type": "scatter",
         "x": [
          "2020-02-26T00:00:00",
          "2020-02-27T00:00:00",
          "2020-02-28T00:00:00",
          "2020-02-29T00:00:00",
          "2020-03-01T00:00:00",
          "2020-03-02T00:00:00",
          "2020-03-03T00:00:00",
          "2020-03-04T00:00:00",
          "2020-03-05T00:00:00",
          "2020-03-06T00:00:00",
          "2020-03-07T00:00:00",
          "2020-03-08T00:00:00",
          "2020-03-09T00:00:00",
          "2020-03-10T00:00:00",
          "2020-03-11T00:00:00",
          "2020-03-12T00:00:00",
          "2020-03-13T00:00:00",
          "2020-03-14T00:00:00",
          "2020-03-15T00:00:00"
         ],
         "y": [
          1,
          1,
          1,
          2,
          2,
          2,
          2,
          4,
          4,
          13,
          13,
          20,
          25,
          31,
          38,
          52,
          151,
          151,
          162
         ]
        },
        {
         "line": {
          "color": "hsla(10, 20%, 50%, 0.5)"
         },
         "name": "Egypt",
         "opacity": 0.8,
         "type": "scatter",
         "x": [
          "2020-02-14T00:00:00",
          "2020-02-15T00:00:00",
          "2020-02-16T00:00:00",
          "2020-02-17T00:00:00",
          "2020-02-18T00:00:00",
          "2020-02-19T00:00:00",
          "2020-02-20T00:00:00",
          "2020-02-21T00:00:00",
          "2020-02-22T00:00:00",
          "2020-02-23T00:00:00",
          "2020-02-24T00:00:00",
          "2020-02-25T00:00:00",
          "2020-02-26T00:00:00",
          "2020-02-27T00:00:00",
          "2020-02-28T00:00:00",
          "2020-02-29T00:00:00",
          "2020-03-01T00:00:00",
          "2020-03-02T00:00:00",
          "2020-03-03T00:00:00",
          "2020-03-04T00:00:00",
          "2020-03-05T00:00:00",
          "2020-03-06T00:00:00",
          "2020-03-07T00:00:00",
          "2020-03-08T00:00:00",
          "2020-03-09T00:00:00",
          "2020-03-10T00:00:00",
          "2020-03-11T00:00:00",
          "2020-03-12T00:00:00",
          "2020-03-13T00:00:00",
          "2020-03-14T00:00:00",
          "2020-03-15T00:00:00"
         ],
         "y": [
          1,
          1,
          1,
          1,
          1,
          1,
          1,
          1,
          1,
          1,
          1,
          1,
          1,
          1,
          1,
          1,
          2,
          2,
          2,
          2,
          3,
          15,
          15,
          49,
          55,
          59,
          60,
          67,
          80,
          109,
          110
         ]
        },
        {
         "line": {
          "color": "hsla(10, 29%, 50%, 0.5)"
         },
         "name": "Lebanon",
         "opacity": 0.8,
         "type": "scatter",
         "x": [
          "2020-02-21T00:00:00",
          "2020-02-22T00:00:00",
          "2020-02-23T00:00:00",
          "2020-02-24T00:00:00",
          "2020-02-25T00:00:00",
          "2020-02-26T00:00:00",
          "2020-02-27T00:00:00",
          "2020-02-28T00:00:00",
          "2020-02-29T00:00:00",
          "2020-03-01T00:00:00",
          "2020-03-02T00:00:00",
          "2020-03-03T00:00:00",
          "2020-03-04T00:00:00",
          "2020-03-05T00:00:00",
          "2020-03-06T00:00:00",
          "2020-03-07T00:00:00",
          "2020-03-08T00:00:00",
          "2020-03-09T00:00:00",
          "2020-03-10T00:00:00",
          "2020-03-11T00:00:00",
          "2020-03-12T00:00:00",
          "2020-03-13T00:00:00",
          "2020-03-14T00:00:00",
          "2020-03-15T00:00:00"
         ],
         "y": [
          1,
          1,
          1,
          1,
          1,
          2,
          2,
          2,
          4,
          10,
          13,
          13,
          13,
          16,
          22,
          22,
          32,
          32,
          41,
          61,
          61,
          77,
          93,
          110
         ]
        },
        {
         "line": {
          "color": "hsla(10, 20%, 50%, 0.5)"
         },
         "name": "San Marino",
         "opacity": 0.8,
         "type": "scatter",
         "x": [
          "2020-02-27T00:00:00",
          "2020-02-28T00:00:00",
          "2020-02-29T00:00:00",
          "2020-03-01T00:00:00",
          "2020-03-02T00:00:00",
          "2020-03-03T00:00:00",
          "2020-03-04T00:00:00",
          "2020-03-05T00:00:00",
          "2020-03-06T00:00:00",
          "2020-03-07T00:00:00",
          "2020-03-08T00:00:00",
          "2020-03-09T00:00:00",
          "2020-03-10T00:00:00",
          "2020-03-11T00:00:00",
          "2020-03-12T00:00:00",
          "2020-03-13T00:00:00",
          "2020-03-14T00:00:00",
          "2020-03-15T00:00:00"
         ],
         "y": [
          1,
          1,
          1,
          1,
          8,
          10,
          16,
          21,
          21,
          23,
          36,
          36,
          51,
          62,
          69,
          80,
          80,
          101
         ]
        },
        {
         "line": {
          "color": "hsla(10, 52%, 50%, 0.5)"
         },
         "name": "Philippines",
         "opacity": 0.8,
         "type": "scatter",
         "x": [
          "2020-01-30T00:00:00",
          "2020-01-31T00:00:00",
          "2020-02-01T00:00:00",
          "2020-02-02T00:00:00",
          "2020-02-03T00:00:00",
          "2020-02-04T00:00:00",
          "2020-02-05T00:00:00",
          "2020-02-06T00:00:00",
          "2020-02-07T00:00:00",
          "2020-02-08T00:00:00",
          "2020-02-09T00:00:00",
          "2020-02-10T00:00:00",
          "2020-02-11T00:00:00",
          "2020-02-12T00:00:00",
          "2020-02-13T00:00:00",
          "2020-02-14T00:00:00",
          "2020-02-15T00:00:00",
          "2020-02-16T00:00:00",
          "2020-02-17T00:00:00",
          "2020-02-18T00:00:00",
          "2020-02-19T00:00:00",
          "2020-02-20T00:00:00",
          "2020-02-21T00:00:00",
          "2020-02-22T00:00:00",
          "2020-02-23T00:00:00",
          "2020-02-24T00:00:00",
          "2020-02-25T00:00:00",
          "2020-02-26T00:00:00",
          "2020-02-27T00:00:00",
          "2020-02-28T00:00:00",
          "2020-02-29T00:00:00",
          "2020-03-01T00:00:00",
          "2020-03-02T00:00:00",
          "2020-03-03T00:00:00",
          "2020-03-04T00:00:00",
          "2020-03-05T00:00:00",
          "2020-03-06T00:00:00",
          "2020-03-07T00:00:00",
          "2020-03-08T00:00:00",
          "2020-03-09T00:00:00",
          "2020-03-10T00:00:00",
          "2020-03-11T00:00:00",
          "2020-03-12T00:00:00",
          "2020-03-13T00:00:00",
          "2020-03-14T00:00:00",
          "2020-03-15T00:00:00"
         ],
         "y": [
          1,
          1,
          1,
          2,
          2,
          2,
          2,
          2,
          3,
          3,
          3,
          3,
          3,
          3,
          3,
          3,
          3,
          3,
          3,
          3,
          3,
          3,
          3,
          3,
          3,
          3,
          3,
          3,
          3,
          3,
          3,
          3,
          3,
          3,
          3,
          3,
          5,
          6,
          10,
          20,
          33,
          49,
          52,
          64,
          111,
          140
         ]
        },
        {
         "line": {
          "color": "hsla(10, 51%, 50%, 0.5)"
         },
         "name": "Ireland",
         "opacity": 0.8,
         "type": "scatter",
         "x": [
          "2020-02-29T00:00:00",
          "2020-03-01T00:00:00",
          "2020-03-02T00:00:00",
          "2020-03-03T00:00:00",
          "2020-03-04T00:00:00",
          "2020-03-05T00:00:00",
          "2020-03-06T00:00:00",
          "2020-03-07T00:00:00",
          "2020-03-08T00:00:00",
          "2020-03-09T00:00:00",
          "2020-03-10T00:00:00",
          "2020-03-11T00:00:00",
          "2020-03-12T00:00:00",
          "2020-03-13T00:00:00",
          "2020-03-14T00:00:00",
          "2020-03-15T00:00:00"
         ],
         "y": [
          1,
          1,
          1,
          2,
          6,
          6,
          18,
          18,
          19,
          21,
          34,
          43,
          43,
          90,
          129,
          129
         ]
        },
        {
         "line": {
          "color": "hsla(10, 55%, 50%, 0.5)"
         },
         "name": "Romania",
         "opacity": 0.8,
         "type": "scatter",
         "x": [
          "2020-02-26T00:00:00",
          "2020-02-27T00:00:00",
          "2020-02-28T00:00:00",
          "2020-02-29T00:00:00",
          "2020-03-01T00:00:00",
          "2020-03-02T00:00:00",
          "2020-03-03T00:00:00",
          "2020-03-04T00:00:00",
          "2020-03-05T00:00:00",
          "2020-03-06T00:00:00",
          "2020-03-07T00:00:00",
          "2020-03-08T00:00:00",
          "2020-03-09T00:00:00",
          "2020-03-10T00:00:00",
          "2020-03-11T00:00:00",
          "2020-03-12T00:00:00",
          "2020-03-13T00:00:00",
          "2020-03-14T00:00:00",
          "2020-03-15T00:00:00"
         ],
         "y": [
          1,
          1,
          3,
          3,
          3,
          3,
          3,
          4,
          6,
          9,
          9,
          15,
          15,
          25,
          45,
          49,
          89,
          123,
          131
         ]
        },
        {
         "line": {
          "color": "hsla(10, 100%, 50%, 0.5)"
         },
         "name": "Estonia",
         "opacity": 0.8,
         "type": "scatter",
         "x": [
          "2020-02-27T00:00:00",
          "2020-02-28T00:00:00",
          "2020-02-29T00:00:00",
          "2020-03-01T00:00:00",
          "2020-03-02T00:00:00",
          "2020-03-03T00:00:00",
          "2020-03-04T00:00:00",
          "2020-03-05T00:00:00",
          "2020-03-06T00:00:00",
          "2020-03-07T00:00:00",
          "2020-03-08T00:00:00",
          "2020-03-09T00:00:00",
          "2020-03-10T00:00:00",
          "2020-03-11T00:00:00",
          "2020-03-12T00:00:00",
          "2020-03-13T00:00:00",
          "2020-03-14T00:00:00",
          "2020-03-15T00:00:00"
         ],
         "y": [
          1,
          1,
          1,
          1,
          1,
          2,
          2,
          3,
          10,
          10,
          10,
          10,
          12,
          16,
          16,
          79,
          115,
          171
         ]
        },
        {
         "line": {
          "color": "hsla(10, 56%, 50%, 0.5)"
         },
         "name": "Poland",
         "opacity": 0.8,
         "type": "scatter",
         "x": [
          "2020-03-04T00:00:00",
          "2020-03-05T00:00:00",
          "2020-03-06T00:00:00",
          "2020-03-07T00:00:00",
          "2020-03-08T00:00:00",
          "2020-03-09T00:00:00",
          "2020-03-10T00:00:00",
          "2020-03-11T00:00:00",
          "2020-03-12T00:00:00",
          "2020-03-13T00:00:00",
          "2020-03-14T00:00:00",
          "2020-03-15T00:00:00"
         ],
         "y": [
          1,
          1,
          5,
          5,
          11,
          16,
          22,
          31,
          49,
          68,
          103,
          119
         ]
        },
        {
         "line": {
          "color": "hsla(10, 52%, 50%, 0.5)"
         },
         "name": "Saudi Arabia",
         "opacity": 0.8,
         "type": "scatter",
         "x": [
          "2020-03-02T00:00:00",
          "2020-03-03T00:00:00",
          "2020-03-04T00:00:00",
          "2020-03-05T00:00:00",
          "2020-03-06T00:00:00",
          "2020-03-07T00:00:00",
          "2020-03-08T00:00:00",
          "2020-03-09T00:00:00",
          "2020-03-10T00:00:00",
          "2020-03-11T00:00:00",
          "2020-03-12T00:00:00",
          "2020-03-13T00:00:00",
          "2020-03-14T00:00:00",
          "2020-03-15T00:00:00"
         ],
         "y": [
          1,
          1,
          1,
          5,
          5,
          5,
          11,
          15,
          20,
          21,
          45,
          86,
          103,
          103
         ]
        },
        {
         "line": {
          "color": "hsla(10, 52%, 50%, 0.5)"
         },
         "name": "Indonesia",
         "opacity": 0.8,
         "type": "scatter",
         "x": [
          "2020-03-02T00:00:00",
          "2020-03-03T00:00:00",
          "2020-03-04T00:00:00",
          "2020-03-05T00:00:00",
          "2020-03-06T00:00:00",
          "2020-03-07T00:00:00",
          "2020-03-08T00:00:00",
          "2020-03-09T00:00:00",
          "2020-03-10T00:00:00",
          "2020-03-11T00:00:00",
          "2020-03-12T00:00:00",
          "2020-03-13T00:00:00",
          "2020-03-14T00:00:00",
          "2020-03-15T00:00:00"
         ],
         "y": [
          2,
          2,
          2,
          2,
          4,
          4,
          6,
          19,
          27,
          34,
          34,
          69,
          96,
          117
         ]
        },
        {
         "line": {
          "color": "hsla(10, 39%, 50%, 0.5)"
         },
         "name": "Russia",
         "opacity": 0.8,
         "type": "scatter",
         "x": [
          "2020-01-31T00:00:00",
          "2020-02-01T00:00:00",
          "2020-02-02T00:00:00",
          "2020-02-03T00:00:00",
          "2020-02-04T00:00:00",
          "2020-02-05T00:00:00",
          "2020-02-06T00:00:00",
          "2020-02-07T00:00:00",
          "2020-02-08T00:00:00",
          "2020-02-09T00:00:00",
          "2020-02-10T00:00:00",
          "2020-02-11T00:00:00",
          "2020-02-12T00:00:00",
          "2020-02-13T00:00:00",
          "2020-02-14T00:00:00",
          "2020-02-15T00:00:00",
          "2020-02-16T00:00:00",
          "2020-02-17T00:00:00",
          "2020-02-18T00:00:00",
          "2020-02-19T00:00:00",
          "2020-02-20T00:00:00",
          "2020-02-21T00:00:00",
          "2020-02-22T00:00:00",
          "2020-02-23T00:00:00",
          "2020-02-24T00:00:00",
          "2020-02-25T00:00:00",
          "2020-02-26T00:00:00",
          "2020-02-27T00:00:00",
          "2020-02-28T00:00:00",
          "2020-02-29T00:00:00",
          "2020-03-01T00:00:00",
          "2020-03-02T00:00:00",
          "2020-03-03T00:00:00",
          "2020-03-04T00:00:00",
          "2020-03-05T00:00:00",
          "2020-03-06T00:00:00",
          "2020-03-07T00:00:00",
          "2020-03-08T00:00:00",
          "2020-03-09T00:00:00",
          "2020-03-10T00:00:00",
          "2020-03-11T00:00:00",
          "2020-03-12T00:00:00",
          "2020-03-13T00:00:00",
          "2020-03-14T00:00:00",
          "2020-03-15T00:00:00"
         ],
         "y": [
          2,
          2,
          2,
          2,
          2,
          2,
          2,
          2,
          2,
          2,
          2,
          2,
          2,
          2,
          2,
          2,
          2,
          2,
          2,
          2,
          2,
          2,
          2,
          2,
          2,
          2,
          2,
          2,
          2,
          2,
          2,
          3,
          3,
          3,
          4,
          13,
          13,
          17,
          17,
          20,
          20,
          28,
          45,
          59,
          63
         ]
        }
       ],
       "layout": {
        "template": {
         "data": {
          "bar": [
           {
            "error_x": {
             "color": "#2a3f5f"
            },
            "error_y": {
             "color": "#2a3f5f"
            },
            "marker": {
             "line": {
              "color": "#E5ECF6",
              "width": 0.5
             }
            },
            "type": "bar"
           }
          ],
          "barpolar": [
           {
            "marker": {
             "line": {
              "color": "#E5ECF6",
              "width": 0.5
             }
            },
            "type": "barpolar"
           }
          ],
          "carpet": [
           {
            "aaxis": {
             "endlinecolor": "#2a3f5f",
             "gridcolor": "white",
             "linecolor": "white",
             "minorgridcolor": "white",
             "startlinecolor": "#2a3f5f"
            },
            "baxis": {
             "endlinecolor": "#2a3f5f",
             "gridcolor": "white",
             "linecolor": "white",
             "minorgridcolor": "white",
             "startlinecolor": "#2a3f5f"
            },
            "type": "carpet"
           }
          ],
          "choropleth": [
           {
            "colorbar": {
             "outlinewidth": 0,
             "ticks": ""
            },
            "type": "choropleth"
           }
          ],
          "contour": [
           {
            "colorbar": {
             "outlinewidth": 0,
             "ticks": ""
            },
            "colorscale": [
             [
              0,
              "#0d0887"
             ],
             [
              0.1111111111111111,
              "#46039f"
             ],
             [
              0.2222222222222222,
              "#7201a8"
             ],
             [
              0.3333333333333333,
              "#9c179e"
             ],
             [
              0.4444444444444444,
              "#bd3786"
             ],
             [
              0.5555555555555556,
              "#d8576b"
             ],
             [
              0.6666666666666666,
              "#ed7953"
             ],
             [
              0.7777777777777778,
              "#fb9f3a"
             ],
             [
              0.8888888888888888,
              "#fdca26"
             ],
             [
              1,
              "#f0f921"
             ]
            ],
            "type": "contour"
           }
          ],
          "contourcarpet": [
           {
            "colorbar": {
             "outlinewidth": 0,
             "ticks": ""
            },
            "type": "contourcarpet"
           }
          ],
          "heatmap": [
           {
            "colorbar": {
             "outlinewidth": 0,
             "ticks": ""
            },
            "colorscale": [
             [
              0,
              "#0d0887"
             ],
             [
              0.1111111111111111,
              "#46039f"
             ],
             [
              0.2222222222222222,
              "#7201a8"
             ],
             [
              0.3333333333333333,
              "#9c179e"
             ],
             [
              0.4444444444444444,
              "#bd3786"
             ],
             [
              0.5555555555555556,
              "#d8576b"
             ],
             [
              0.6666666666666666,
              "#ed7953"
             ],
             [
              0.7777777777777778,
              "#fb9f3a"
             ],
             [
              0.8888888888888888,
              "#fdca26"
             ],
             [
              1,
              "#f0f921"
             ]
            ],
            "type": "heatmap"
           }
          ],
          "heatmapgl": [
           {
            "colorbar": {
             "outlinewidth": 0,
             "ticks": ""
            },
            "colorscale": [
             [
              0,
              "#0d0887"
             ],
             [
              0.1111111111111111,
              "#46039f"
             ],
             [
              0.2222222222222222,
              "#7201a8"
             ],
             [
              0.3333333333333333,
              "#9c179e"
             ],
             [
              0.4444444444444444,
              "#bd3786"
             ],
             [
              0.5555555555555556,
              "#d8576b"
             ],
             [
              0.6666666666666666,
              "#ed7953"
             ],
             [
              0.7777777777777778,
              "#fb9f3a"
             ],
             [
              0.8888888888888888,
              "#fdca26"
             ],
             [
              1,
              "#f0f921"
             ]
            ],
            "type": "heatmapgl"
           }
          ],
          "histogram": [
           {
            "marker": {
             "colorbar": {
              "outlinewidth": 0,
              "ticks": ""
             }
            },
            "type": "histogram"
           }
          ],
          "histogram2d": [
           {
            "colorbar": {
             "outlinewidth": 0,
             "ticks": ""
            },
            "colorscale": [
             [
              0,
              "#0d0887"
             ],
             [
              0.1111111111111111,
              "#46039f"
             ],
             [
              0.2222222222222222,
              "#7201a8"
             ],
             [
              0.3333333333333333,
              "#9c179e"
             ],
             [
              0.4444444444444444,
              "#bd3786"
             ],
             [
              0.5555555555555556,
              "#d8576b"
             ],
             [
              0.6666666666666666,
              "#ed7953"
             ],
             [
              0.7777777777777778,
              "#fb9f3a"
             ],
             [
              0.8888888888888888,
              "#fdca26"
             ],
             [
              1,
              "#f0f921"
             ]
            ],
            "type": "histogram2d"
           }
          ],
          "histogram2dcontour": [
           {
            "colorbar": {
             "outlinewidth": 0,
             "ticks": ""
            },
            "colorscale": [
             [
              0,
              "#0d0887"
             ],
             [
              0.1111111111111111,
              "#46039f"
             ],
             [
              0.2222222222222222,
              "#7201a8"
             ],
             [
              0.3333333333333333,
              "#9c179e"
             ],
             [
              0.4444444444444444,
              "#bd3786"
             ],
             [
              0.5555555555555556,
              "#d8576b"
             ],
             [
              0.6666666666666666,
              "#ed7953"
             ],
             [
              0.7777777777777778,
              "#fb9f3a"
             ],
             [
              0.8888888888888888,
              "#fdca26"
             ],
             [
              1,
              "#f0f921"
             ]
            ],
            "type": "histogram2dcontour"
           }
          ],
          "mesh3d": [
           {
            "colorbar": {
             "outlinewidth": 0,
             "ticks": ""
            },
            "type": "mesh3d"
           }
          ],
          "parcoords": [
           {
            "line": {
             "colorbar": {
              "outlinewidth": 0,
              "ticks": ""
             }
            },
            "type": "parcoords"
           }
          ],
          "scatter": [
           {
            "marker": {
             "colorbar": {
              "outlinewidth": 0,
              "ticks": ""
             }
            },
            "type": "scatter"
           }
          ],
          "scatter3d": [
           {
            "line": {
             "colorbar": {
              "outlinewidth": 0,
              "ticks": ""
             }
            },
            "marker": {
             "colorbar": {
              "outlinewidth": 0,
              "ticks": ""
             }
            },
            "type": "scatter3d"
           }
          ],
          "scattercarpet": [
           {
            "marker": {
             "colorbar": {
              "outlinewidth": 0,
              "ticks": ""
             }
            },
            "type": "scattercarpet"
           }
          ],
          "scattergeo": [
           {
            "marker": {
             "colorbar": {
              "outlinewidth": 0,
              "ticks": ""
             }
            },
            "type": "scattergeo"
           }
          ],
          "scattergl": [
           {
            "marker": {
             "colorbar": {
              "outlinewidth": 0,
              "ticks": ""
             }
            },
            "type": "scattergl"
           }
          ],
          "scattermapbox": [
           {
            "marker": {
             "colorbar": {
              "outlinewidth": 0,
              "ticks": ""
             }
            },
            "type": "scattermapbox"
           }
          ],
          "scatterpolar": [
           {
            "marker": {
             "colorbar": {
              "outlinewidth": 0,
              "ticks": ""
             }
            },
            "type": "scatterpolar"
           }
          ],
          "scatterpolargl": [
           {
            "marker": {
             "colorbar": {
              "outlinewidth": 0,
              "ticks": ""
             }
            },
            "type": "scatterpolargl"
           }
          ],
          "scatterternary": [
           {
            "marker": {
             "colorbar": {
              "outlinewidth": 0,
              "ticks": ""
             }
            },
            "type": "scatterternary"
           }
          ],
          "surface": [
           {
            "colorbar": {
             "outlinewidth": 0,
             "ticks": ""
            },
            "colorscale": [
             [
              0,
              "#0d0887"
             ],
             [
              0.1111111111111111,
              "#46039f"
             ],
             [
              0.2222222222222222,
              "#7201a8"
             ],
             [
              0.3333333333333333,
              "#9c179e"
             ],
             [
              0.4444444444444444,
              "#bd3786"
             ],
             [
              0.5555555555555556,
              "#d8576b"
             ],
             [
              0.6666666666666666,
              "#ed7953"
             ],
             [
              0.7777777777777778,
              "#fb9f3a"
             ],
             [
              0.8888888888888888,
              "#fdca26"
             ],
             [
              1,
              "#f0f921"
             ]
            ],
            "type": "surface"
           }
          ],
          "table": [
           {
            "cells": {
             "fill": {
              "color": "#EBF0F8"
             },
             "line": {
              "color": "white"
             }
            },
            "header": {
             "fill": {
              "color": "#C8D4E3"
             },
             "line": {
              "color": "white"
             }
            },
            "type": "table"
           }
          ]
         },
         "layout": {
          "annotationdefaults": {
           "arrowcolor": "#2a3f5f",
           "arrowhead": 0,
           "arrowwidth": 1
          },
          "colorscale": {
           "diverging": [
            [
             0,
             "#8e0152"
            ],
            [
             0.1,
             "#c51b7d"
            ],
            [
             0.2,
             "#de77ae"
            ],
            [
             0.3,
             "#f1b6da"
            ],
            [
             0.4,
             "#fde0ef"
            ],
            [
             0.5,
             "#f7f7f7"
            ],
            [
             0.6,
             "#e6f5d0"
            ],
            [
             0.7,
             "#b8e186"
            ],
            [
             0.8,
             "#7fbc41"
            ],
            [
             0.9,
             "#4d9221"
            ],
            [
             1,
             "#276419"
            ]
           ],
           "sequential": [
            [
             0,
             "#0d0887"
            ],
            [
             0.1111111111111111,
             "#46039f"
            ],
            [
             0.2222222222222222,
             "#7201a8"
            ],
            [
             0.3333333333333333,
             "#9c179e"
            ],
            [
             0.4444444444444444,
             "#bd3786"
            ],
            [
             0.5555555555555556,
             "#d8576b"
            ],
            [
             0.6666666666666666,
             "#ed7953"
            ],
            [
             0.7777777777777778,
             "#fb9f3a"
            ],
            [
             0.8888888888888888,
             "#fdca26"
            ],
            [
             1,
             "#f0f921"
            ]
           ],
           "sequentialminus": [
            [
             0,
             "#0d0887"
            ],
            [
             0.1111111111111111,
             "#46039f"
            ],
            [
             0.2222222222222222,
             "#7201a8"
            ],
            [
             0.3333333333333333,
             "#9c179e"
            ],
            [
             0.4444444444444444,
             "#bd3786"
            ],
            [
             0.5555555555555556,
             "#d8576b"
            ],
            [
             0.6666666666666666,
             "#ed7953"
            ],
            [
             0.7777777777777778,
             "#fb9f3a"
            ],
            [
             0.8888888888888888,
             "#fdca26"
            ],
            [
             1,
             "#f0f921"
            ]
           ]
          },
          "colorway": [
           "#636efa",
           "#EF553B",
           "#00cc96",
           "#ab63fa",
           "#FFA15A",
           "#19d3f3",
           "#FF6692",
           "#B6E880",
           "#FF97FF",
           "#FECB52"
          ],
          "font": {
           "color": "#2a3f5f"
          },
          "geo": {
           "bgcolor": "white",
           "lakecolor": "white",
           "landcolor": "#E5ECF6",
           "showlakes": true,
           "showland": true,
           "subunitcolor": "white"
          },
          "hoverlabel": {
           "align": "left"
          },
          "hovermode": "closest",
          "mapbox": {
           "style": "light"
          },
          "paper_bgcolor": "white",
          "plot_bgcolor": "#E5ECF6",
          "polar": {
           "angularaxis": {
            "gridcolor": "white",
            "linecolor": "white",
            "ticks": ""
           },
           "bgcolor": "#E5ECF6",
           "radialaxis": {
            "gridcolor": "white",
            "linecolor": "white",
            "ticks": ""
           }
          },
          "scene": {
           "xaxis": {
            "backgroundcolor": "#E5ECF6",
            "gridcolor": "white",
            "gridwidth": 2,
            "linecolor": "white",
            "showbackground": true,
            "ticks": "",
            "zerolinecolor": "white"
           },
           "yaxis": {
            "backgroundcolor": "#E5ECF6",
            "gridcolor": "white",
            "gridwidth": 2,
            "linecolor": "white",
            "showbackground": true,
            "ticks": "",
            "zerolinecolor": "white"
           },
           "zaxis": {
            "backgroundcolor": "#E5ECF6",
            "gridcolor": "white",
            "gridwidth": 2,
            "linecolor": "white",
            "showbackground": true,
            "ticks": "",
            "zerolinecolor": "white"
           }
          },
          "shapedefaults": {
           "line": {
            "color": "#2a3f5f"
           }
          },
          "ternary": {
           "aaxis": {
            "gridcolor": "white",
            "linecolor": "white",
            "ticks": ""
           },
           "baxis": {
            "gridcolor": "white",
            "linecolor": "white",
            "ticks": ""
           },
           "bgcolor": "#E5ECF6",
           "caxis": {
            "gridcolor": "white",
            "linecolor": "white",
            "ticks": ""
           }
          },
          "title": {
           "x": 0.05
          },
          "xaxis": {
           "automargin": true,
           "gridcolor": "white",
           "linecolor": "white",
           "ticks": "",
           "zerolinecolor": "white",
           "zerolinewidth": 2
          },
          "yaxis": {
           "automargin": true,
           "gridcolor": "white",
           "linecolor": "white",
           "ticks": "",
           "zerolinecolor": "white",
           "zerolinewidth": 2
          }
         }
        },
        "yaxis": {
         "type": "log"
        }
       }
      },
      "text/html": [
       "<div>\n",
       "        \n",
       "        \n",
       "            <div id=\"38eccee7-8f89-4ad4-87e5-b90f31fb433f\" class=\"plotly-graph-div\" style=\"height:525px; width:100%;\"></div>\n",
       "            <script type=\"text/javascript\">\n",
       "                require([\"plotly\"], function(Plotly) {\n",
       "                    window.PLOTLYENV=window.PLOTLYENV || {};\n",
       "                    \n",
       "                if (document.getElementById(\"38eccee7-8f89-4ad4-87e5-b90f31fb433f\")) {\n",
       "                    Plotly.newPlot(\n",
       "                        '38eccee7-8f89-4ad4-87e5-b90f31fb433f',\n",
       "                        [{\"line\": {\"color\": \"hsla(10, 0%, 50%, 0.5)\"}, \"name\": \"China\", \"opacity\": 0.8, \"type\": \"scatter\", \"x\": [\"2020-01-22T00:00:00\", \"2020-01-23T00:00:00\", \"2020-01-24T00:00:00\", \"2020-01-25T00:00:00\", \"2020-01-26T00:00:00\", \"2020-01-27T00:00:00\", \"2020-01-28T00:00:00\", \"2020-01-29T00:00:00\", \"2020-01-30T00:00:00\", \"2020-01-31T00:00:00\", \"2020-02-01T00:00:00\", \"2020-02-02T00:00:00\", \"2020-02-03T00:00:00\", \"2020-02-04T00:00:00\", \"2020-02-05T00:00:00\", \"2020-02-06T00:00:00\", \"2020-02-07T00:00:00\", \"2020-02-08T00:00:00\", \"2020-02-09T00:00:00\", \"2020-02-10T00:00:00\", \"2020-02-11T00:00:00\", \"2020-02-12T00:00:00\", \"2020-02-13T00:00:00\", \"2020-02-14T00:00:00\", \"2020-02-15T00:00:00\", \"2020-02-16T00:00:00\", \"2020-02-17T00:00:00\", \"2020-02-18T00:00:00\", \"2020-02-19T00:00:00\", \"2020-02-20T00:00:00\", \"2020-02-21T00:00:00\", \"2020-02-22T00:00:00\", \"2020-02-23T00:00:00\", \"2020-02-24T00:00:00\", \"2020-02-25T00:00:00\", \"2020-02-26T00:00:00\", \"2020-02-27T00:00:00\", \"2020-02-28T00:00:00\", \"2020-02-29T00:00:00\", \"2020-03-01T00:00:00\", \"2020-03-02T00:00:00\", \"2020-03-03T00:00:00\", \"2020-03-04T00:00:00\", \"2020-03-05T00:00:00\", \"2020-03-06T00:00:00\", \"2020-03-07T00:00:00\", \"2020-03-08T00:00:00\", \"2020-03-09T00:00:00\", \"2020-03-10T00:00:00\", \"2020-03-11T00:00:00\", \"2020-03-12T00:00:00\", \"2020-03-13T00:00:00\", \"2020-03-14T00:00:00\", \"2020-03-15T00:00:00\"], \"y\": [548, 643, 920, 1406, 2075, 2877, 5509, 6087, 8141, 9802, 11891, 16630, 19716, 23707, 27440, 30587, 34110, 36814, 39829, 42354, 44386, 44759, 59895, 66358, 68413, 70513, 72434, 74211, 74619, 75077, 75550, 77001, 77022, 77241, 77754, 78166, 78600, 78928, 79356, 79932, 80136, 80261, 80386, 80537, 80690, 80770, 80823, 80860, 80887, 80921, 80932, 80945, 80977, 81003]}, {\"line\": {\"color\": \"hsla(10, 26%, 50%, 0.5)\"}, \"name\": \"Italy\", \"opacity\": 0.8, \"type\": \"scatter\", \"x\": [\"2020-01-31T00:00:00\", \"2020-02-01T00:00:00\", \"2020-02-02T00:00:00\", \"2020-02-03T00:00:00\", \"2020-02-04T00:00:00\", \"2020-02-05T00:00:00\", \"2020-02-06T00:00:00\", \"2020-02-07T00:00:00\", \"2020-02-08T00:00:00\", \"2020-02-09T00:00:00\", \"2020-02-10T00:00:00\", \"2020-02-11T00:00:00\", \"2020-02-12T00:00:00\", \"2020-02-13T00:00:00\", \"2020-02-14T00:00:00\", \"2020-02-15T00:00:00\", \"2020-02-16T00:00:00\", \"2020-02-17T00:00:00\", \"2020-02-18T00:00:00\", \"2020-02-19T00:00:00\", \"2020-02-20T00:00:00\", \"2020-02-21T00:00:00\", \"2020-02-22T00:00:00\", \"2020-02-23T00:00:00\", \"2020-02-24T00:00:00\", \"2020-02-25T00:00:00\", \"2020-02-26T00:00:00\", \"2020-02-27T00:00:00\", \"2020-02-28T00:00:00\", \"2020-02-29T00:00:00\", \"2020-03-01T00:00:00\", \"2020-03-02T00:00:00\", \"2020-03-03T00:00:00\", \"2020-03-04T00:00:00\", \"2020-03-05T00:00:00\", \"2020-03-06T00:00:00\", \"2020-03-07T00:00:00\", \"2020-03-08T00:00:00\", \"2020-03-09T00:00:00\", \"2020-03-10T00:00:00\", \"2020-03-11T00:00:00\", \"2020-03-12T00:00:00\", \"2020-03-13T00:00:00\", \"2020-03-14T00:00:00\", \"2020-03-15T00:00:00\"], \"y\": [2, 2, 2, 2, 2, 2, 2, 3, 3, 3, 3, 3, 3, 3, 3, 3, 3, 3, 3, 3, 3, 20, 62, 155, 229, 322, 453, 655, 888, 1128, 1694, 2036, 2502, 3089, 3858, 4636, 5883, 7375, 9172, 10149, 12462, 12462, 17660, 21157, 24747]}, {\"line\": {\"color\": \"hsla(10, 2%, 50%, 0.5)\"}, \"name\": \"Korea, South\", \"opacity\": 0.8, \"type\": \"scatter\", \"x\": [\"2020-01-22T00:00:00\", \"2020-01-23T00:00:00\", \"2020-01-24T00:00:00\", \"2020-01-25T00:00:00\", \"2020-01-26T00:00:00\", \"2020-01-27T00:00:00\", \"2020-01-28T00:00:00\", \"2020-01-29T00:00:00\", \"2020-01-30T00:00:00\", \"2020-01-31T00:00:00\", \"2020-02-01T00:00:00\", \"2020-02-02T00:00:00\", \"2020-02-03T00:00:00\", \"2020-02-04T00:00:00\", \"2020-02-05T00:00:00\", \"2020-02-06T00:00:00\", \"2020-02-07T00:00:00\", \"2020-02-08T00:00:00\", \"2020-02-09T00:00:00\", \"2020-02-10T00:00:00\", \"2020-02-11T00:00:00\", \"2020-02-12T00:00:00\", \"2020-02-13T00:00:00\", \"2020-02-14T00:00:00\", \"2020-02-15T00:00:00\", \"2020-02-16T00:00:00\", \"2020-02-17T00:00:00\", \"2020-02-18T00:00:00\", \"2020-02-19T00:00:00\", \"2020-02-20T00:00:00\", \"2020-02-21T00:00:00\", \"2020-02-22T00:00:00\", \"2020-02-23T00:00:00\", \"2020-02-24T00:00:00\", \"2020-02-25T00:00:00\", \"2020-02-26T00:00:00\", \"2020-02-27T00:00:00\", \"2020-02-28T00:00:00\", \"2020-02-29T00:00:00\", \"2020-03-01T00:00:00\", \"2020-03-02T00:00:00\", \"2020-03-03T00:00:00\", \"2020-03-04T00:00:00\", \"2020-03-05T00:00:00\", \"2020-03-06T00:00:00\", \"2020-03-07T00:00:00\", \"2020-03-08T00:00:00\", \"2020-03-09T00:00:00\", \"2020-03-10T00:00:00\", \"2020-03-11T00:00:00\", \"2020-03-12T00:00:00\", \"2020-03-13T00:00:00\", \"2020-03-14T00:00:00\", \"2020-03-15T00:00:00\"], \"y\": [1, 1, 2, 2, 3, 4, 4, 4, 4, 11, 12, 15, 15, 16, 19, 23, 24, 24, 25, 27, 28, 28, 28, 28, 28, 29, 30, 31, 31, 104, 204, 433, 602, 833, 977, 1261, 1766, 2337, 3150, 3736, 4335, 5186, 5621, 6088, 6593, 7041, 7314, 7478, 7513, 7755, 7869, 7979, 8086, 8162]}, {\"line\": {\"color\": \"hsla(10, 16%, 50%, 0.5)\"}, \"name\": \"Iran\", \"opacity\": 0.8, \"type\": \"scatter\", \"x\": [\"2020-02-19T00:00:00\", \"2020-02-20T00:00:00\", \"2020-02-21T00:00:00\", \"2020-02-22T00:00:00\", \"2020-02-23T00:00:00\", \"2020-02-24T00:00:00\", \"2020-02-25T00:00:00\", \"2020-02-26T00:00:00\", \"2020-02-27T00:00:00\", \"2020-02-28T00:00:00\", \"2020-02-29T00:00:00\", \"2020-03-01T00:00:00\", \"2020-03-02T00:00:00\", \"2020-03-03T00:00:00\", \"2020-03-04T00:00:00\", \"2020-03-05T00:00:00\", \"2020-03-06T00:00:00\", \"2020-03-07T00:00:00\", \"2020-03-08T00:00:00\", \"2020-03-09T00:00:00\", \"2020-03-10T00:00:00\", \"2020-03-11T00:00:00\", \"2020-03-12T00:00:00\", \"2020-03-13T00:00:00\", \"2020-03-14T00:00:00\", \"2020-03-15T00:00:00\"], \"y\": [2, 5, 18, 28, 43, 61, 95, 139, 245, 388, 593, 978, 1501, 2336, 2922, 3513, 4747, 5823, 6566, 7161, 8042, 9000, 10075, 11364, 12729, 13938]}, {\"line\": {\"color\": \"hsla(10, 52%, 50%, 0.5)\"}, \"name\": \"Spain\", \"opacity\": 0.8, \"type\": \"scatter\", \"x\": [\"2020-02-01T00:00:00\", \"2020-02-02T00:00:00\", \"2020-02-03T00:00:00\", \"2020-02-04T00:00:00\", \"2020-02-05T00:00:00\", \"2020-02-06T00:00:00\", \"2020-02-07T00:00:00\", \"2020-02-08T00:00:00\", \"2020-02-09T00:00:00\", \"2020-02-10T00:00:00\", \"2020-02-11T00:00:00\", \"2020-02-12T00:00:00\", \"2020-02-13T00:00:00\", \"2020-02-14T00:00:00\", \"2020-02-15T00:00:00\", \"2020-02-16T00:00:00\", \"2020-02-17T00:00:00\", \"2020-02-18T00:00:00\", \"2020-02-19T00:00:00\", \"2020-02-20T00:00:00\", \"2020-02-21T00:00:00\", \"2020-02-22T00:00:00\", \"2020-02-23T00:00:00\", \"2020-02-24T00:00:00\", \"2020-02-25T00:00:00\", \"2020-02-26T00:00:00\", \"2020-02-27T00:00:00\", \"2020-02-28T00:00:00\", \"2020-02-29T00:00:00\", \"2020-03-01T00:00:00\", \"2020-03-02T00:00:00\", \"2020-03-03T00:00:00\", \"2020-03-04T00:00:00\", \"2020-03-05T00:00:00\", \"2020-03-06T00:00:00\", \"2020-03-07T00:00:00\", \"2020-03-08T00:00:00\", \"2020-03-09T00:00:00\", \"2020-03-10T00:00:00\", \"2020-03-11T00:00:00\", \"2020-03-12T00:00:00\", \"2020-03-13T00:00:00\", \"2020-03-14T00:00:00\", \"2020-03-15T00:00:00\"], \"y\": [1, 1, 1, 1, 1, 1, 1, 1, 2, 2, 2, 2, 2, 2, 2, 2, 2, 2, 2, 2, 2, 2, 2, 2, 6, 13, 15, 32, 45, 84, 120, 165, 222, 259, 400, 500, 673, 1073, 1695, 2277, 2277, 5232, 6391, 7798]}, {\"line\": {\"color\": \"hsla(10, 44%, 50%, 0.5)\"}, \"name\": \"Germany\", \"opacity\": 0.8, \"type\": \"scatter\", \"x\": [\"2020-01-27T00:00:00\", \"2020-01-28T00:00:00\", \"2020-01-29T00:00:00\", \"2020-01-30T00:00:00\", \"2020-01-31T00:00:00\", \"2020-02-01T00:00:00\", \"2020-02-02T00:00:00\", \"2020-02-03T00:00:00\", \"2020-02-04T00:00:00\", \"2020-02-05T00:00:00\", \"2020-02-06T00:00:00\", \"2020-02-07T00:00:00\", \"2020-02-08T00:00:00\", \"2020-02-09T00:00:00\", \"2020-02-10T00:00:00\", \"2020-02-11T00:00:00\", \"2020-02-12T00:00:00\", \"2020-02-13T00:00:00\", \"2020-02-14T00:00:00\", \"2020-02-15T00:00:00\", \"2020-02-16T00:00:00\", \"2020-02-17T00:00:00\", \"2020-02-18T00:00:00\", \"2020-02-19T00:00:00\", \"2020-02-20T00:00:00\", \"2020-02-21T00:00:00\", \"2020-02-22T00:00:00\", \"2020-02-23T00:00:00\", \"2020-02-24T00:00:00\", \"2020-02-25T00:00:00\", \"2020-02-26T00:00:00\", \"2020-02-27T00:00:00\", \"2020-02-28T00:00:00\", \"2020-02-29T00:00:00\", \"2020-03-01T00:00:00\", \"2020-03-02T00:00:00\", \"2020-03-03T00:00:00\", \"2020-03-04T00:00:00\", \"2020-03-05T00:00:00\", \"2020-03-06T00:00:00\", \"2020-03-07T00:00:00\", \"2020-03-08T00:00:00\", \"2020-03-09T00:00:00\", \"2020-03-10T00:00:00\", \"2020-03-11T00:00:00\", \"2020-03-12T00:00:00\", \"2020-03-13T00:00:00\", \"2020-03-14T00:00:00\", \"2020-03-15T00:00:00\"], \"y\": [1, 4, 4, 4, 5, 8, 10, 12, 12, 12, 12, 13, 13, 14, 14, 16, 16, 16, 16, 16, 16, 16, 16, 16, 16, 16, 16, 16, 16, 17, 27, 46, 48, 79, 130, 159, 196, 262, 482, 670, 799, 1040, 1176, 1457, 1908, 2078, 3675, 4585, 5795]}, {\"line\": {\"color\": \"hsla(10, 32%, 50%, 0.5)\"}, \"name\": \"France\", \"opacity\": 0.8, \"type\": \"scatter\", \"x\": [\"2020-01-24T00:00:00\", \"2020-01-25T00:00:00\", \"2020-01-26T00:00:00\", \"2020-01-27T00:00:00\", \"2020-01-28T00:00:00\", \"2020-01-29T00:00:00\", \"2020-01-30T00:00:00\", \"2020-01-31T00:00:00\", \"2020-02-01T00:00:00\", \"2020-02-02T00:00:00\", \"2020-02-03T00:00:00\", \"2020-02-04T00:00:00\", \"2020-02-05T00:00:00\", \"2020-02-06T00:00:00\", \"2020-02-07T00:00:00\", \"2020-02-08T00:00:00\", \"2020-02-09T00:00:00\", \"2020-02-10T00:00:00\", \"2020-02-11T00:00:00\", \"2020-02-12T00:00:00\", \"2020-02-13T00:00:00\", \"2020-02-14T00:00:00\", \"2020-02-15T00:00:00\", \"2020-02-16T00:00:00\", \"2020-02-17T00:00:00\", \"2020-02-18T00:00:00\", \"2020-02-19T00:00:00\", \"2020-02-20T00:00:00\", \"2020-02-21T00:00:00\", \"2020-02-22T00:00:00\", \"2020-02-23T00:00:00\", \"2020-02-24T00:00:00\", \"2020-02-25T00:00:00\", \"2020-02-26T00:00:00\", \"2020-02-27T00:00:00\", \"2020-02-28T00:00:00\", \"2020-02-29T00:00:00\", \"2020-03-01T00:00:00\", \"2020-03-02T00:00:00\", \"2020-03-03T00:00:00\", \"2020-03-04T00:00:00\", \"2020-03-05T00:00:00\", \"2020-03-06T00:00:00\", \"2020-03-07T00:00:00\", \"2020-03-08T00:00:00\", \"2020-03-09T00:00:00\", \"2020-03-10T00:00:00\", \"2020-03-11T00:00:00\", \"2020-03-12T00:00:00\", \"2020-03-13T00:00:00\", \"2020-03-14T00:00:00\", \"2020-03-15T00:00:00\"], \"y\": [2, 3, 3, 3, 4, 5, 5, 5, 6, 6, 6, 6, 6, 6, 6, 11, 11, 11, 11, 11, 11, 11, 12, 12, 12, 12, 12, 12, 12, 12, 12, 12, 14, 18, 38, 57, 100, 130, 191, 204, 288, 380, 656, 957, 1134, 1217, 1792, 2289, 2289, 3672, 4480, 4513]}, {\"line\": {\"color\": \"hsla(10, 0%, 50%, 0.5)\"}, \"name\": \"Cruise Ship\", \"opacity\": 0.8, \"type\": \"scatter\", \"x\": [\"2020-02-07T00:00:00\", \"2020-02-08T00:00:00\", \"2020-02-09T00:00:00\", \"2020-02-10T00:00:00\", \"2020-02-11T00:00:00\", \"2020-02-12T00:00:00\", \"2020-02-13T00:00:00\", \"2020-02-14T00:00:00\", \"2020-02-15T00:00:00\", \"2020-02-16T00:00:00\", \"2020-02-17T00:00:00\", \"2020-02-18T00:00:00\", \"2020-02-19T00:00:00\", \"2020-02-20T00:00:00\", \"2020-02-21T00:00:00\", \"2020-02-22T00:00:00\", \"2020-02-23T00:00:00\", \"2020-02-24T00:00:00\", \"2020-02-25T00:00:00\", \"2020-02-26T00:00:00\", \"2020-02-27T00:00:00\", \"2020-02-28T00:00:00\", \"2020-02-29T00:00:00\", \"2020-03-01T00:00:00\", \"2020-03-02T00:00:00\", \"2020-03-03T00:00:00\", \"2020-03-04T00:00:00\", \"2020-03-05T00:00:00\", \"2020-03-06T00:00:00\", \"2020-03-07T00:00:00\", \"2020-03-08T00:00:00\", \"2020-03-09T00:00:00\", \"2020-03-10T00:00:00\", \"2020-03-11T00:00:00\", \"2020-03-12T00:00:00\", \"2020-03-13T00:00:00\", \"2020-03-14T00:00:00\", \"2020-03-15T00:00:00\"], \"y\": [61, 61, 64, 135, 135, 175, 175, 218, 285, 355, 454, 542, 621, 634, 634, 634, 691, 691, 691, 705, 705, 705, 705, 705, 705, 706, 706, 706, 696, 696, 696, 696, 696, 696, 696, 696, 696, 696]}, {\"line\": {\"color\": \"hsla(10, 41%, 50%, 0.5)\"}, \"name\": \"US\", \"opacity\": 0.8, \"type\": \"scatter\", \"x\": [\"2020-01-22T00:00:00\", \"2020-01-23T00:00:00\", \"2020-01-24T00:00:00\", \"2020-01-25T00:00:00\", \"2020-01-26T00:00:00\", \"2020-01-27T00:00:00\", \"2020-01-28T00:00:00\", \"2020-01-29T00:00:00\", \"2020-01-30T00:00:00\", \"2020-01-31T00:00:00\", \"2020-02-01T00:00:00\", \"2020-02-02T00:00:00\", \"2020-02-03T00:00:00\", \"2020-02-04T00:00:00\", \"2020-02-05T00:00:00\", \"2020-02-06T00:00:00\", \"2020-02-07T00:00:00\", \"2020-02-08T00:00:00\", \"2020-02-09T00:00:00\", \"2020-02-10T00:00:00\", \"2020-02-11T00:00:00\", \"2020-02-12T00:00:00\", \"2020-02-13T00:00:00\", \"2020-02-14T00:00:00\", \"2020-02-15T00:00:00\", \"2020-02-16T00:00:00\", \"2020-02-17T00:00:00\", \"2020-02-18T00:00:00\", \"2020-02-19T00:00:00\", \"2020-02-20T00:00:00\", \"2020-02-21T00:00:00\", \"2020-02-22T00:00:00\", \"2020-02-23T00:00:00\", \"2020-02-24T00:00:00\", \"2020-02-25T00:00:00\", \"2020-02-26T00:00:00\", \"2020-02-27T00:00:00\", \"2020-02-28T00:00:00\", \"2020-02-29T00:00:00\", \"2020-03-01T00:00:00\", \"2020-03-02T00:00:00\", \"2020-03-03T00:00:00\", \"2020-03-04T00:00:00\", \"2020-03-05T00:00:00\", \"2020-03-06T00:00:00\", \"2020-03-07T00:00:00\", \"2020-03-08T00:00:00\", \"2020-03-09T00:00:00\", \"2020-03-10T00:00:00\", \"2020-03-11T00:00:00\", \"2020-03-12T00:00:00\", \"2020-03-13T00:00:00\", \"2020-03-14T00:00:00\", \"2020-03-15T00:00:00\"], \"y\": [1, 1, 2, 2, 5, 5, 5, 5, 5, 7, 8, 8, 11, 11, 11, 11, 11, 11, 11, 11, 12, 12, 13, 13, 13, 13, 13, 13, 13, 13, 15, 15, 15, 51, 51, 57, 58, 60, 68, 74, 98, 118, 149, 217, 262, 402, 518, 583, 959, 1281, 1663, 2179, 2727, 3499]}, {\"line\": {\"color\": \"hsla(10, 11%, 50%, 0.5)\"}, \"name\": \"Japan\", \"opacity\": 0.8, \"type\": \"scatter\", \"x\": [\"2020-01-22T00:00:00\", \"2020-01-23T00:00:00\", \"2020-01-24T00:00:00\", \"2020-01-25T00:00:00\", \"2020-01-26T00:00:00\", \"2020-01-27T00:00:00\", \"2020-01-28T00:00:00\", \"2020-01-29T00:00:00\", \"2020-01-30T00:00:00\", \"2020-01-31T00:00:00\", \"2020-02-01T00:00:00\", \"2020-02-02T00:00:00\", \"2020-02-03T00:00:00\", \"2020-02-04T00:00:00\", \"2020-02-05T00:00:00\", \"2020-02-06T00:00:00\", \"2020-02-07T00:00:00\", \"2020-02-08T00:00:00\", \"2020-02-09T00:00:00\", \"2020-02-10T00:00:00\", \"2020-02-11T00:00:00\", \"2020-02-12T00:00:00\", \"2020-02-13T00:00:00\", \"2020-02-14T00:00:00\", \"2020-02-15T00:00:00\", \"2020-02-16T00:00:00\", \"2020-02-17T00:00:00\", \"2020-02-18T00:00:00\", \"2020-02-19T00:00:00\", \"2020-02-20T00:00:00\", \"2020-02-21T00:00:00\", \"2020-02-22T00:00:00\", \"2020-02-23T00:00:00\", \"2020-02-24T00:00:00\", \"2020-02-25T00:00:00\", \"2020-02-26T00:00:00\", \"2020-02-27T00:00:00\", \"2020-02-28T00:00:00\", \"2020-02-29T00:00:00\", \"2020-03-01T00:00:00\", \"2020-03-02T00:00:00\", \"2020-03-03T00:00:00\", \"2020-03-04T00:00:00\", \"2020-03-05T00:00:00\", \"2020-03-06T00:00:00\", \"2020-03-07T00:00:00\", \"2020-03-08T00:00:00\", \"2020-03-09T00:00:00\", \"2020-03-10T00:00:00\", \"2020-03-11T00:00:00\", \"2020-03-12T00:00:00\", \"2020-03-13T00:00:00\", \"2020-03-14T00:00:00\", \"2020-03-15T00:00:00\"], \"y\": [2, 1, 2, 2, 4, 4, 7, 7, 11, 15, 20, 20, 20, 22, 22, 45, 25, 25, 26, 26, 26, 28, 28, 29, 43, 59, 66, 74, 84, 94, 105, 122, 147, 159, 170, 189, 214, 228, 241, 256, 274, 293, 331, 360, 420, 461, 502, 511, 581, 639, 639, 701, 773, 839]}, {\"line\": {\"color\": \"hsla(10, 47%, 50%, 0.5)\"}, \"name\": \"Switzerland\", \"opacity\": 0.8, \"type\": \"scatter\", \"x\": [\"2020-02-25T00:00:00\", \"2020-02-26T00:00:00\", \"2020-02-27T00:00:00\", \"2020-02-28T00:00:00\", \"2020-02-29T00:00:00\", \"2020-03-01T00:00:00\", \"2020-03-02T00:00:00\", \"2020-03-03T00:00:00\", \"2020-03-04T00:00:00\", \"2020-03-05T00:00:00\", \"2020-03-06T00:00:00\", \"2020-03-07T00:00:00\", \"2020-03-08T00:00:00\", \"2020-03-09T00:00:00\", \"2020-03-10T00:00:00\", \"2020-03-11T00:00:00\", \"2020-03-12T00:00:00\", \"2020-03-13T00:00:00\", \"2020-03-14T00:00:00\", \"2020-03-15T00:00:00\"], \"y\": [1, 1, 8, 8, 18, 27, 42, 56, 90, 114, 214, 268, 337, 374, 491, 652, 652, 1139, 1359, 2200]}, {\"line\": {\"color\": \"hsla(10, 39%, 50%, 0.5)\"}, \"name\": \"United Kingdom\", \"opacity\": 0.8, \"type\": \"scatter\", \"x\": [\"2020-01-31T00:00:00\", \"2020-02-01T00:00:00\", \"2020-02-02T00:00:00\", \"2020-02-03T00:00:00\", \"2020-02-04T00:00:00\", \"2020-02-05T00:00:00\", \"2020-02-06T00:00:00\", \"2020-02-07T00:00:00\", \"2020-02-08T00:00:00\", \"2020-02-09T00:00:00\", \"2020-02-10T00:00:00\", \"2020-02-11T00:00:00\", \"2020-02-12T00:00:00\", \"2020-02-13T00:00:00\", \"2020-02-14T00:00:00\", \"2020-02-15T00:00:00\", \"2020-02-16T00:00:00\", \"2020-02-17T00:00:00\", \"2020-02-18T00:00:00\", \"2020-02-19T00:00:00\", \"2020-02-20T00:00:00\", \"2020-02-21T00:00:00\", \"2020-02-22T00:00:00\", \"2020-02-23T00:00:00\", \"2020-02-24T00:00:00\", \"2020-02-25T00:00:00\", \"2020-02-26T00:00:00\", \"2020-02-27T00:00:00\", \"2020-02-28T00:00:00\", \"2020-02-29T00:00:00\", \"2020-03-01T00:00:00\", \"2020-03-02T00:00:00\", \"2020-03-03T00:00:00\", \"2020-03-04T00:00:00\", \"2020-03-05T00:00:00\", \"2020-03-06T00:00:00\", \"2020-03-07T00:00:00\", \"2020-03-08T00:00:00\", \"2020-03-09T00:00:00\", \"2020-03-10T00:00:00\", \"2020-03-11T00:00:00\", \"2020-03-12T00:00:00\", \"2020-03-13T00:00:00\", \"2020-03-14T00:00:00\", \"2020-03-15T00:00:00\"], \"y\": [2, 2, 2, 2, 2, 2, 2, 3, 3, 3, 8, 8, 9, 9, 9, 9, 9, 9, 9, 9, 9, 9, 9, 9, 13, 13, 13, 15, 20, 23, 36, 40, 51, 86, 116, 164, 207, 274, 322, 384, 459, 459, 801, 1143, 1144]}, {\"line\": {\"color\": \"hsla(10, 35%, 50%, 0.5)\"}, \"name\": \"Norway\", \"opacity\": 0.8, \"type\": \"scatter\", \"x\": [\"2020-02-26T00:00:00\", \"2020-02-27T00:00:00\", \"2020-02-28T00:00:00\", \"2020-02-29T00:00:00\", \"2020-03-01T00:00:00\", \"2020-03-02T00:00:00\", \"2020-03-03T00:00:00\", \"2020-03-04T00:00:00\", \"2020-03-05T00:00:00\", \"2020-03-06T00:00:00\", \"2020-03-07T00:00:00\", \"2020-03-08T00:00:00\", \"2020-03-09T00:00:00\", \"2020-03-10T00:00:00\", \"2020-03-11T00:00:00\", \"2020-03-12T00:00:00\", \"2020-03-13T00:00:00\", \"2020-03-14T00:00:00\", \"2020-03-15T00:00:00\"], \"y\": [1, 1, 6, 15, 19, 25, 32, 56, 87, 108, 147, 176, 205, 400, 598, 702, 996, 1090, 1221]}, {\"line\": {\"color\": \"hsla(10, 33%, 50%, 0.5)\"}, \"name\": \"Netherlands\", \"opacity\": 0.8, \"type\": \"scatter\", \"x\": [\"2020-02-27T00:00:00\", \"2020-02-28T00:00:00\", \"2020-02-29T00:00:00\", \"2020-03-01T00:00:00\", \"2020-03-02T00:00:00\", \"2020-03-03T00:00:00\", \"2020-03-04T00:00:00\", \"2020-03-05T00:00:00\", \"2020-03-06T00:00:00\", \"2020-03-07T00:00:00\", \"2020-03-08T00:00:00\", \"2020-03-09T00:00:00\", \"2020-03-10T00:00:00\", \"2020-03-11T00:00:00\", \"2020-03-12T00:00:00\", \"2020-03-13T00:00:00\", \"2020-03-14T00:00:00\", \"2020-03-15T00:00:00\"], \"y\": [1, 1, 6, 10, 18, 24, 38, 82, 128, 188, 265, 321, 382, 503, 503, 804, 959, 1135]}, {\"line\": {\"color\": \"hsla(10, 33%, 50%, 0.5)\"}, \"name\": \"Sweden\", \"opacity\": 0.8, \"type\": \"scatter\", \"x\": [\"2020-01-31T00:00:00\", \"2020-02-01T00:00:00\", \"2020-02-02T00:00:00\", \"2020-02-03T00:00:00\", \"2020-02-04T00:00:00\", \"2020-02-05T00:00:00\", \"2020-02-06T00:00:00\", \"2020-02-07T00:00:00\", \"2020-02-08T00:00:00\", \"2020-02-09T00:00:00\", \"2020-02-10T00:00:00\", \"2020-02-11T00:00:00\", \"2020-02-12T00:00:00\", \"2020-02-13T00:00:00\", \"2020-02-14T00:00:00\", \"2020-02-15T00:00:00\", \"2020-02-16T00:00:00\", \"2020-02-17T00:00:00\", \"2020-02-18T00:00:00\", \"2020-02-19T00:00:00\", \"2020-02-20T00:00:00\", \"2020-02-21T00:00:00\", \"2020-02-22T00:00:00\", \"2020-02-23T00:00:00\", \"2020-02-24T00:00:00\", \"2020-02-25T00:00:00\", \"2020-02-26T00:00:00\", \"2020-02-27T00:00:00\", \"2020-02-28T00:00:00\", \"2020-02-29T00:00:00\", \"2020-03-01T00:00:00\", \"2020-03-02T00:00:00\", \"2020-03-03T00:00:00\", \"2020-03-04T00:00:00\", \"2020-03-05T00:00:00\", \"2020-03-06T00:00:00\", \"2020-03-07T00:00:00\", \"2020-03-08T00:00:00\", \"2020-03-09T00:00:00\", \"2020-03-10T00:00:00\", \"2020-03-11T00:00:00\", \"2020-03-12T00:00:00\", \"2020-03-13T00:00:00\", \"2020-03-14T00:00:00\", \"2020-03-15T00:00:00\"], \"y\": [1, 1, 1, 1, 1, 1, 1, 1, 1, 1, 1, 1, 1, 1, 1, 1, 1, 1, 1, 1, 1, 1, 1, 1, 1, 1, 2, 7, 7, 12, 14, 15, 21, 35, 94, 101, 161, 203, 248, 355, 500, 599, 814, 961, 1022]}, {\"line\": {\"color\": \"hsla(10, 9%, 50%, 0.5)\"}, \"name\": \"Singapore\", \"opacity\": 0.8, \"type\": \"scatter\", \"x\": [\"2020-01-23T00:00:00\", \"2020-01-24T00:00:00\", \"2020-01-25T00:00:00\", \"2020-01-26T00:00:00\", \"2020-01-27T00:00:00\", \"2020-01-28T00:00:00\", \"2020-01-29T00:00:00\", \"2020-01-30T00:00:00\", \"2020-01-31T00:00:00\", \"2020-02-01T00:00:00\", \"2020-02-02T00:00:00\", \"2020-02-03T00:00:00\", \"2020-02-04T00:00:00\", \"2020-02-05T00:00:00\", \"2020-02-06T00:00:00\", \"2020-02-07T00:00:00\", \"2020-02-08T00:00:00\", \"2020-02-09T00:00:00\", \"2020-02-10T00:00:00\", \"2020-02-11T00:00:00\", \"2020-02-12T00:00:00\", \"2020-02-13T00:00:00\", \"2020-02-14T00:00:00\", \"2020-02-15T00:00:00\", \"2020-02-16T00:00:00\", \"2020-02-17T00:00:00\", \"2020-02-18T00:00:00\", \"2020-02-19T00:00:00\", \"2020-02-20T00:00:00\", \"2020-02-21T00:00:00\", \"2020-02-22T00:00:00\", \"2020-02-23T00:00:00\", \"2020-02-24T00:00:00\", \"2020-02-25T00:00:00\", \"2020-02-26T00:00:00\", \"2020-02-27T00:00:00\", \"2020-02-28T00:00:00\", \"2020-02-29T00:00:00\", \"2020-03-01T00:00:00\", \"2020-03-02T00:00:00\", \"2020-03-03T00:00:00\", \"2020-03-04T00:00:00\", \"2020-03-05T00:00:00\", \"2020-03-06T00:00:00\", \"2020-03-07T00:00:00\", \"2020-03-08T00:00:00\", \"2020-03-09T00:00:00\", \"2020-03-10T00:00:00\", \"2020-03-11T00:00:00\", \"2020-03-12T00:00:00\", \"2020-03-13T00:00:00\", \"2020-03-14T00:00:00\", \"2020-03-15T00:00:00\"], \"y\": [1, 3, 3, 4, 5, 7, 7, 10, 13, 16, 18, 18, 24, 28, 28, 30, 33, 40, 45, 47, 50, 58, 67, 72, 75, 77, 81, 84, 84, 85, 85, 89, 89, 91, 93, 93, 93, 102, 106, 108, 110, 110, 117, 130, 138, 150, 150, 160, 178, 178, 200, 212, 226]}, {\"line\": {\"color\": \"hsla(10, 37%, 50%, 0.5)\"}, \"name\": \"Denmark\", \"opacity\": 0.8, \"type\": \"scatter\", \"x\": [\"2020-02-27T00:00:00\", \"2020-02-28T00:00:00\", \"2020-02-29T00:00:00\", \"2020-03-01T00:00:00\", \"2020-03-02T00:00:00\", \"2020-03-03T00:00:00\", \"2020-03-04T00:00:00\", \"2020-03-05T00:00:00\", \"2020-03-06T00:00:00\", \"2020-03-07T00:00:00\", \"2020-03-08T00:00:00\", \"2020-03-09T00:00:00\", \"2020-03-10T00:00:00\", \"2020-03-11T00:00:00\", \"2020-03-12T00:00:00\", \"2020-03-13T00:00:00\", \"2020-03-14T00:00:00\", \"2020-03-15T00:00:00\"], \"y\": [1, 1, 3, 4, 4, 6, 11, 11, 24, 24, 37, 92, 264, 444, 617, 804, 836, 875]}, {\"line\": {\"color\": \"hsla(10, 38%, 50%, 0.5)\"}, \"name\": \"Belgium\", \"opacity\": 0.8, \"type\": \"scatter\", \"x\": [\"2020-02-04T00:00:00\", \"2020-02-05T00:00:00\", \"2020-02-06T00:00:00\", \"2020-02-07T00:00:00\", \"2020-02-08T00:00:00\", \"2020-02-09T00:00:00\", \"2020-02-10T00:00:00\", \"2020-02-11T00:00:00\", \"2020-02-12T00:00:00\", \"2020-02-13T00:00:00\", \"2020-02-14T00:00:00\", \"2020-02-15T00:00:00\", \"2020-02-16T00:00:00\", \"2020-02-17T00:00:00\", \"2020-02-18T00:00:00\", \"2020-02-19T00:00:00\", \"2020-02-20T00:00:00\", \"2020-02-21T00:00:00\", \"2020-02-22T00:00:00\", \"2020-02-23T00:00:00\", \"2020-02-24T00:00:00\", \"2020-02-25T00:00:00\", \"2020-02-26T00:00:00\", \"2020-02-27T00:00:00\", \"2020-02-28T00:00:00\", \"2020-02-29T00:00:00\", \"2020-03-01T00:00:00\", \"2020-03-02T00:00:00\", \"2020-03-03T00:00:00\", \"2020-03-04T00:00:00\", \"2020-03-05T00:00:00\", \"2020-03-06T00:00:00\", \"2020-03-07T00:00:00\", \"2020-03-08T00:00:00\", \"2020-03-09T00:00:00\", \"2020-03-10T00:00:00\", \"2020-03-11T00:00:00\", \"2020-03-12T00:00:00\", \"2020-03-13T00:00:00\", \"2020-03-14T00:00:00\", \"2020-03-15T00:00:00\"], \"y\": [1, 1, 1, 1, 1, 1, 1, 1, 1, 1, 1, 1, 1, 1, 1, 1, 1, 1, 1, 1, 1, 1, 1, 1, 1, 1, 2, 8, 13, 23, 50, 109, 169, 200, 239, 267, 314, 314, 559, 689, 886]}, {\"line\": {\"color\": \"hsla(10, 50%, 50%, 0.5)\"}, \"name\": \"Austria\", \"opacity\": 0.8, \"type\": \"scatter\", \"x\": [\"2020-02-25T00:00:00\", \"2020-02-26T00:00:00\", \"2020-02-27T00:00:00\", \"2020-02-28T00:00:00\", \"2020-02-29T00:00:00\", \"2020-03-01T00:00:00\", \"2020-03-02T00:00:00\", \"2020-03-03T00:00:00\", \"2020-03-04T00:00:00\", \"2020-03-05T00:00:00\", \"2020-03-06T00:00:00\", \"2020-03-07T00:00:00\", \"2020-03-08T00:00:00\", \"2020-03-09T00:00:00\", \"2020-03-10T00:00:00\", \"2020-03-11T00:00:00\", \"2020-03-12T00:00:00\", \"2020-03-13T00:00:00\", \"2020-03-14T00:00:00\", \"2020-03-15T00:00:00\"], \"y\": [2, 2, 3, 3, 9, 14, 18, 21, 29, 41, 55, 79, 104, 131, 182, 246, 302, 504, 655, 860]}, {\"line\": {\"color\": \"hsla(10, 35%, 50%, 0.5)\"}, \"name\": \"Malaysia\", \"opacity\": 0.8, \"type\": \"scatter\", \"x\": [\"2020-01-25T00:00:00\", \"2020-01-26T00:00:00\", \"2020-01-27T00:00:00\", \"2020-01-28T00:00:00\", \"2020-01-29T00:00:00\", \"2020-01-30T00:00:00\", \"2020-01-31T00:00:00\", \"2020-02-01T00:00:00\", \"2020-02-02T00:00:00\", \"2020-02-03T00:00:00\", \"2020-02-04T00:00:00\", \"2020-02-05T00:00:00\", \"2020-02-06T00:00:00\", \"2020-02-07T00:00:00\", \"2020-02-08T00:00:00\", \"2020-02-09T00:00:00\", \"2020-02-10T00:00:00\", \"2020-02-11T00:00:00\", \"2020-02-12T00:00:00\", \"2020-02-13T00:00:00\", \"2020-02-14T00:00:00\", \"2020-02-15T00:00:00\", \"2020-02-16T00:00:00\", \"2020-02-17T00:00:00\", \"2020-02-18T00:00:00\", \"2020-02-19T00:00:00\", \"2020-02-20T00:00:00\", \"2020-02-21T00:00:00\", \"2020-02-22T00:00:00\", \"2020-02-23T00:00:00\", \"2020-02-24T00:00:00\", \"2020-02-25T00:00:00\", \"2020-02-26T00:00:00\", \"2020-02-27T00:00:00\", \"2020-02-28T00:00:00\", \"2020-02-29T00:00:00\", \"2020-03-01T00:00:00\", \"2020-03-02T00:00:00\", \"2020-03-03T00:00:00\", \"2020-03-04T00:00:00\", \"2020-03-05T00:00:00\", \"2020-03-06T00:00:00\", \"2020-03-07T00:00:00\", \"2020-03-08T00:00:00\", \"2020-03-09T00:00:00\", \"2020-03-10T00:00:00\", \"2020-03-11T00:00:00\", \"2020-03-12T00:00:00\", \"2020-03-13T00:00:00\", \"2020-03-14T00:00:00\", \"2020-03-15T00:00:00\"], \"y\": [3, 4, 4, 4, 7, 8, 8, 8, 8, 8, 10, 12, 12, 12, 16, 16, 18, 18, 18, 19, 19, 22, 22, 22, 22, 22, 22, 22, 22, 22, 22, 22, 22, 23, 23, 25, 29, 29, 36, 50, 50, 83, 93, 99, 117, 129, 149, 149, 197, 238, 428]}, {\"line\": {\"color\": \"hsla(10, 32%, 50%, 0.5)\"}, \"name\": \"Australia\", \"opacity\": 0.8, \"type\": \"scatter\", \"x\": [\"2020-01-26T00:00:00\", \"2020-01-27T00:00:00\", \"2020-01-28T00:00:00\", \"2020-01-29T00:00:00\", \"2020-01-30T00:00:00\", \"2020-01-31T00:00:00\", \"2020-02-01T00:00:00\", \"2020-02-02T00:00:00\", \"2020-02-03T00:00:00\", \"2020-02-04T00:00:00\", \"2020-02-05T00:00:00\", \"2020-02-06T00:00:00\", \"2020-02-07T00:00:00\", \"2020-02-08T00:00:00\", \"2020-02-09T00:00:00\", \"2020-02-10T00:00:00\", \"2020-02-11T00:00:00\", \"2020-02-12T00:00:00\", \"2020-02-13T00:00:00\", \"2020-02-14T00:00:00\", \"2020-02-15T00:00:00\", \"2020-02-16T00:00:00\", \"2020-02-17T00:00:00\", \"2020-02-18T00:00:00\", \"2020-02-19T00:00:00\", \"2020-02-20T00:00:00\", \"2020-02-21T00:00:00\", \"2020-02-22T00:00:00\", \"2020-02-23T00:00:00\", \"2020-02-24T00:00:00\", \"2020-02-25T00:00:00\", \"2020-02-26T00:00:00\", \"2020-02-27T00:00:00\", \"2020-02-28T00:00:00\", \"2020-02-29T00:00:00\", \"2020-03-01T00:00:00\", \"2020-03-02T00:00:00\", \"2020-03-03T00:00:00\", \"2020-03-04T00:00:00\", \"2020-03-05T00:00:00\", \"2020-03-06T00:00:00\", \"2020-03-07T00:00:00\", \"2020-03-08T00:00:00\", \"2020-03-09T00:00:00\", \"2020-03-10T00:00:00\", \"2020-03-11T00:00:00\", \"2020-03-12T00:00:00\", \"2020-03-13T00:00:00\", \"2020-03-14T00:00:00\", \"2020-03-15T00:00:00\"], \"y\": [4, 5, 5, 6, 9, 9, 12, 12, 12, 13, 13, 14, 15, 15, 15, 15, 15, 15, 15, 15, 15, 15, 15, 15, 15, 15, 19, 22, 22, 22, 22, 22, 23, 23, 25, 27, 30, 39, 52, 55, 60, 63, 76, 91, 107, 128, 128, 200, 250, 297]}, {\"line\": {\"color\": \"hsla(10, 19%, 50%, 0.5)\"}, \"name\": \"Thailand\", \"opacity\": 0.8, \"type\": \"scatter\", \"x\": [\"2020-01-22T00:00:00\", \"2020-01-23T00:00:00\", \"2020-01-24T00:00:00\", \"2020-01-25T00:00:00\", \"2020-01-26T00:00:00\", \"2020-01-27T00:00:00\", \"2020-01-28T00:00:00\", \"2020-01-29T00:00:00\", \"2020-01-30T00:00:00\", \"2020-01-31T00:00:00\", \"2020-02-01T00:00:00\", \"2020-02-02T00:00:00\", \"2020-02-03T00:00:00\", \"2020-02-04T00:00:00\", \"2020-02-05T00:00:00\", \"2020-02-06T00:00:00\", \"2020-02-07T00:00:00\", \"2020-02-08T00:00:00\", \"2020-02-09T00:00:00\", \"2020-02-10T00:00:00\", \"2020-02-11T00:00:00\", \"2020-02-12T00:00:00\", \"2020-02-13T00:00:00\", \"2020-02-14T00:00:00\", \"2020-02-15T00:00:00\", \"2020-02-16T00:00:00\", \"2020-02-17T00:00:00\", \"2020-02-18T00:00:00\", \"2020-02-19T00:00:00\", \"2020-02-20T00:00:00\", \"2020-02-21T00:00:00\", \"2020-02-22T00:00:00\", \"2020-02-23T00:00:00\", \"2020-02-24T00:00:00\", \"2020-02-25T00:00:00\", \"2020-02-26T00:00:00\", \"2020-02-27T00:00:00\", \"2020-02-28T00:00:00\", \"2020-02-29T00:00:00\", \"2020-03-01T00:00:00\", \"2020-03-02T00:00:00\", \"2020-03-03T00:00:00\", \"2020-03-04T00:00:00\", \"2020-03-05T00:00:00\", \"2020-03-06T00:00:00\", \"2020-03-07T00:00:00\", \"2020-03-08T00:00:00\", \"2020-03-09T00:00:00\", \"2020-03-10T00:00:00\", \"2020-03-11T00:00:00\", \"2020-03-12T00:00:00\", \"2020-03-13T00:00:00\", \"2020-03-14T00:00:00\", \"2020-03-15T00:00:00\"], \"y\": [2, 3, 5, 7, 8, 8, 14, 14, 14, 19, 19, 19, 19, 25, 25, 25, 25, 32, 32, 32, 33, 33, 33, 33, 33, 34, 35, 35, 35, 35, 35, 35, 35, 35, 37, 40, 40, 41, 42, 42, 43, 43, 43, 47, 48, 50, 50, 50, 53, 59, 70, 75, 82, 114]}, {\"line\": {\"color\": \"hsla(10, 18%, 50%, 0.5)\"}, \"name\": \"Bahrain\", \"opacity\": 0.8, \"type\": \"scatter\", \"x\": [\"2020-02-24T00:00:00\", \"2020-02-25T00:00:00\", \"2020-02-26T00:00:00\", \"2020-02-27T00:00:00\", \"2020-02-28T00:00:00\", \"2020-02-29T00:00:00\", \"2020-03-01T00:00:00\", \"2020-03-02T00:00:00\", \"2020-03-03T00:00:00\", \"2020-03-04T00:00:00\", \"2020-03-05T00:00:00\", \"2020-03-06T00:00:00\", \"2020-03-07T00:00:00\", \"2020-03-08T00:00:00\", \"2020-03-09T00:00:00\", \"2020-03-10T00:00:00\", \"2020-03-11T00:00:00\", \"2020-03-12T00:00:00\", \"2020-03-13T00:00:00\", \"2020-03-14T00:00:00\", \"2020-03-15T00:00:00\"], \"y\": [1, 23, 33, 33, 36, 41, 47, 49, 49, 52, 55, 60, 85, 85, 95, 110, 195, 195, 189, 210, 214]}, {\"line\": {\"color\": \"hsla(10, 46%, 50%, 0.5)\"}, \"name\": \"Qatar\", \"opacity\": 0.8, \"type\": \"scatter\", \"x\": [\"2020-02-29T00:00:00\", \"2020-03-01T00:00:00\", \"2020-03-02T00:00:00\", \"2020-03-03T00:00:00\", \"2020-03-04T00:00:00\", \"2020-03-05T00:00:00\", \"2020-03-06T00:00:00\", \"2020-03-07T00:00:00\", \"2020-03-08T00:00:00\", \"2020-03-09T00:00:00\", \"2020-03-10T00:00:00\", \"2020-03-11T00:00:00\", \"2020-03-12T00:00:00\", \"2020-03-13T00:00:00\", \"2020-03-14T00:00:00\", \"2020-03-15T00:00:00\"], \"y\": [1, 3, 3, 7, 8, 8, 8, 8, 15, 18, 24, 262, 262, 320, 337, 401]}, {\"line\": {\"color\": \"hsla(10, 31%, 50%, 0.5)\"}, \"name\": \"Canada\", \"opacity\": 0.8, \"type\": \"scatter\", \"x\": [\"2020-01-26T00:00:00\", \"2020-01-27T00:00:00\", \"2020-01-28T00:00:00\", \"2020-01-29T00:00:00\", \"2020-01-30T00:00:00\", \"2020-01-31T00:00:00\", \"2020-02-01T00:00:00\", \"2020-02-02T00:00:00\", \"2020-02-03T00:00:00\", \"2020-02-04T00:00:00\", \"2020-02-05T00:00:00\", \"2020-02-06T00:00:00\", \"2020-02-07T00:00:00\", \"2020-02-08T00:00:00\", \"2020-02-09T00:00:00\", \"2020-02-10T00:00:00\", \"2020-02-11T00:00:00\", \"2020-02-12T00:00:00\", \"2020-02-13T00:00:00\", \"2020-02-14T00:00:00\", \"2020-02-15T00:00:00\", \"2020-02-16T00:00:00\", \"2020-02-17T00:00:00\", \"2020-02-18T00:00:00\", \"2020-02-19T00:00:00\", \"2020-02-20T00:00:00\", \"2020-02-21T00:00:00\", \"2020-02-22T00:00:00\", \"2020-02-23T00:00:00\", \"2020-02-24T00:00:00\", \"2020-02-25T00:00:00\", \"2020-02-26T00:00:00\", \"2020-02-27T00:00:00\", \"2020-02-28T00:00:00\", \"2020-02-29T00:00:00\", \"2020-03-01T00:00:00\", \"2020-03-02T00:00:00\", \"2020-03-03T00:00:00\", \"2020-03-04T00:00:00\", \"2020-03-05T00:00:00\", \"2020-03-06T00:00:00\", \"2020-03-07T00:00:00\", \"2020-03-08T00:00:00\", \"2020-03-09T00:00:00\", \"2020-03-10T00:00:00\", \"2020-03-11T00:00:00\", \"2020-03-12T00:00:00\", \"2020-03-13T00:00:00\", \"2020-03-14T00:00:00\", \"2020-03-15T00:00:00\"], \"y\": [1, 1, 2, 2, 2, 4, 4, 4, 4, 4, 5, 5, 7, 7, 7, 7, 7, 7, 7, 7, 7, 7, 8, 8, 8, 8, 9, 9, 9, 10, 11, 11, 13, 14, 20, 24, 27, 30, 33, 37, 49, 54, 64, 77, 79, 108, 117, 193, 198, 252]}, {\"line\": {\"color\": \"hsla(10, 5%, 50%, 0.5)\"}, \"name\": \"Taiwan*\", \"opacity\": 0.8, \"type\": \"scatter\", \"x\": [\"2020-01-22T00:00:00\", \"2020-01-23T00:00:00\", \"2020-01-24T00:00:00\", \"2020-01-25T00:00:00\", \"2020-01-26T00:00:00\", \"2020-01-27T00:00:00\", \"2020-01-28T00:00:00\", \"2020-01-29T00:00:00\", \"2020-01-30T00:00:00\", \"2020-01-31T00:00:00\", \"2020-02-01T00:00:00\", \"2020-02-02T00:00:00\", \"2020-02-03T00:00:00\", \"2020-02-04T00:00:00\", \"2020-02-05T00:00:00\", \"2020-02-06T00:00:00\", \"2020-02-07T00:00:00\", \"2020-02-08T00:00:00\", \"2020-02-09T00:00:00\", \"2020-02-10T00:00:00\", \"2020-02-11T00:00:00\", \"2020-02-12T00:00:00\", \"2020-02-13T00:00:00\", \"2020-02-14T00:00:00\", \"2020-02-15T00:00:00\", \"2020-02-16T00:00:00\", \"2020-02-17T00:00:00\", \"2020-02-18T00:00:00\", \"2020-02-19T00:00:00\", \"2020-02-20T00:00:00\", \"2020-02-21T00:00:00\", \"2020-02-22T00:00:00\", \"2020-02-23T00:00:00\", \"2020-02-24T00:00:00\", \"2020-02-25T00:00:00\", \"2020-02-26T00:00:00\", \"2020-02-27T00:00:00\", \"2020-02-28T00:00:00\", \"2020-02-29T00:00:00\", \"2020-03-01T00:00:00\", \"2020-03-02T00:00:00\", \"2020-03-03T00:00:00\", \"2020-03-04T00:00:00\", \"2020-03-05T00:00:00\", \"2020-03-06T00:00:00\", \"2020-03-07T00:00:00\", \"2020-03-08T00:00:00\", \"2020-03-09T00:00:00\", \"2020-03-10T00:00:00\", \"2020-03-11T00:00:00\", \"2020-03-12T00:00:00\", \"2020-03-13T00:00:00\", \"2020-03-14T00:00:00\", \"2020-03-15T00:00:00\"], \"y\": [1, 1, 3, 3, 4, 5, 8, 8, 9, 10, 10, 10, 10, 11, 11, 16, 16, 17, 18, 18, 18, 18, 18, 18, 18, 20, 22, 22, 23, 24, 26, 26, 28, 30, 31, 32, 32, 34, 39, 40, 41, 42, 42, 44, 45, 45, 45, 45, 47, 48, 49, 50, 53, 59]}, {\"line\": {\"color\": \"hsla(10, 42%, 50%, 0.5)\"}, \"name\": \"Greece\", \"opacity\": 0.8, \"type\": \"scatter\", \"x\": [\"2020-02-26T00:00:00\", \"2020-02-27T00:00:00\", \"2020-02-28T00:00:00\", \"2020-02-29T00:00:00\", \"2020-03-01T00:00:00\", \"2020-03-02T00:00:00\", \"2020-03-03T00:00:00\", \"2020-03-04T00:00:00\", \"2020-03-05T00:00:00\", \"2020-03-06T00:00:00\", \"2020-03-07T00:00:00\", \"2020-03-08T00:00:00\", \"2020-03-09T00:00:00\", \"2020-03-10T00:00:00\", \"2020-03-11T00:00:00\", \"2020-03-12T00:00:00\", \"2020-03-13T00:00:00\", \"2020-03-14T00:00:00\", \"2020-03-15T00:00:00\"], \"y\": [1, 3, 4, 4, 7, 7, 7, 9, 31, 45, 46, 73, 73, 89, 99, 99, 190, 228, 331]}, {\"line\": {\"color\": \"hsla(10, 33%, 50%, 0.5)\"}, \"name\": \"Israel\", \"opacity\": 0.8, \"type\": \"scatter\", \"x\": [\"2020-02-21T00:00:00\", \"2020-02-22T00:00:00\", \"2020-02-23T00:00:00\", \"2020-02-24T00:00:00\", \"2020-02-25T00:00:00\", \"2020-02-26T00:00:00\", \"2020-02-27T00:00:00\", \"2020-02-28T00:00:00\", \"2020-02-29T00:00:00\", \"2020-03-01T00:00:00\", \"2020-03-02T00:00:00\", \"2020-03-03T00:00:00\", \"2020-03-04T00:00:00\", \"2020-03-05T00:00:00\", \"2020-03-06T00:00:00\", \"2020-03-07T00:00:00\", \"2020-03-08T00:00:00\", \"2020-03-09T00:00:00\", \"2020-03-10T00:00:00\", \"2020-03-11T00:00:00\", \"2020-03-12T00:00:00\", \"2020-03-13T00:00:00\", \"2020-03-14T00:00:00\", \"2020-03-15T00:00:00\"], \"y\": [1, 1, 1, 1, 1, 2, 3, 4, 7, 10, 10, 12, 15, 20, 37, 43, 61, 61, 83, 109, 131, 161, 193, 251]}, {\"line\": {\"color\": \"hsla(10, 14%, 50%, 0.5)\"}, \"name\": \"Kuwait\", \"opacity\": 0.8, \"type\": \"scatter\", \"x\": [\"2020-02-24T00:00:00\", \"2020-02-25T00:00:00\", \"2020-02-26T00:00:00\", \"2020-02-27T00:00:00\", \"2020-02-28T00:00:00\", \"2020-02-29T00:00:00\", \"2020-03-01T00:00:00\", \"2020-03-02T00:00:00\", \"2020-03-03T00:00:00\", \"2020-03-04T00:00:00\", \"2020-03-05T00:00:00\", \"2020-03-06T00:00:00\", \"2020-03-07T00:00:00\", \"2020-03-08T00:00:00\", \"2020-03-09T00:00:00\", \"2020-03-10T00:00:00\", \"2020-03-11T00:00:00\", \"2020-03-12T00:00:00\", \"2020-03-13T00:00:00\", \"2020-03-14T00:00:00\", \"2020-03-15T00:00:00\"], \"y\": [1, 11, 26, 43, 45, 45, 45, 56, 56, 56, 58, 58, 61, 64, 64, 69, 72, 80, 80, 104, 112]}, {\"line\": {\"color\": \"hsla(10, 11%, 50%, 0.5)\"}, \"name\": \"United Arab Emirates\", \"opacity\": 0.8, \"type\": \"scatter\", \"x\": [\"2020-01-29T00:00:00\", \"2020-01-30T00:00:00\", \"2020-01-31T00:00:00\", \"2020-02-01T00:00:00\", \"2020-02-02T00:00:00\", \"2020-02-03T00:00:00\", \"2020-02-04T00:00:00\", \"2020-02-05T00:00:00\", \"2020-02-06T00:00:00\", \"2020-02-07T00:00:00\", \"2020-02-08T00:00:00\", \"2020-02-09T00:00:00\", \"2020-02-10T00:00:00\", \"2020-02-11T00:00:00\", \"2020-02-12T00:00:00\", \"2020-02-13T00:00:00\", \"2020-02-14T00:00:00\", \"2020-02-15T00:00:00\", \"2020-02-16T00:00:00\", \"2020-02-17T00:00:00\", \"2020-02-18T00:00:00\", \"2020-02-19T00:00:00\", \"2020-02-20T00:00:00\", \"2020-02-21T00:00:00\", \"2020-02-22T00:00:00\", \"2020-02-23T00:00:00\", \"2020-02-24T00:00:00\", \"2020-02-25T00:00:00\", \"2020-02-26T00:00:00\", \"2020-02-27T00:00:00\", \"2020-02-28T00:00:00\", \"2020-02-29T00:00:00\", \"2020-03-01T00:00:00\", \"2020-03-02T00:00:00\", \"2020-03-03T00:00:00\", \"2020-03-04T00:00:00\", \"2020-03-05T00:00:00\", \"2020-03-06T00:00:00\", \"2020-03-07T00:00:00\", \"2020-03-08T00:00:00\", \"2020-03-09T00:00:00\", \"2020-03-10T00:00:00\", \"2020-03-11T00:00:00\", \"2020-03-12T00:00:00\", \"2020-03-13T00:00:00\", \"2020-03-14T00:00:00\", \"2020-03-15T00:00:00\"], \"y\": [4, 4, 4, 4, 5, 5, 5, 5, 5, 5, 7, 7, 8, 8, 8, 8, 8, 8, 9, 9, 9, 9, 9, 9, 13, 13, 13, 13, 13, 13, 19, 21, 21, 21, 27, 27, 29, 29, 45, 45, 45, 74, 74, 85, 85, 85, 98]}, {\"line\": {\"color\": \"hsla(10, 27%, 50%, 0.5)\"}, \"name\": \"Iceland\", \"opacity\": 0.8, \"type\": \"scatter\", \"x\": [\"2020-02-28T00:00:00\", \"2020-02-29T00:00:00\", \"2020-03-01T00:00:00\", \"2020-03-02T00:00:00\", \"2020-03-03T00:00:00\", \"2020-03-04T00:00:00\", \"2020-03-05T00:00:00\", \"2020-03-06T00:00:00\", \"2020-03-07T00:00:00\", \"2020-03-08T00:00:00\", \"2020-03-09T00:00:00\", \"2020-03-10T00:00:00\", \"2020-03-11T00:00:00\", \"2020-03-12T00:00:00\", \"2020-03-13T00:00:00\", \"2020-03-14T00:00:00\", \"2020-03-15T00:00:00\"], \"y\": [1, 1, 3, 6, 11, 26, 34, 43, 50, 50, 58, 69, 85, 103, 134, 156, 171]}, {\"line\": {\"color\": \"hsla(10, 53%, 50%, 0.5)\"}, \"name\": \"Czechia\", \"opacity\": 0.8, \"type\": \"scatter\", \"x\": [\"2020-03-01T00:00:00\", \"2020-03-02T00:00:00\", \"2020-03-03T00:00:00\", \"2020-03-04T00:00:00\", \"2020-03-05T00:00:00\", \"2020-03-06T00:00:00\", \"2020-03-07T00:00:00\", \"2020-03-08T00:00:00\", \"2020-03-09T00:00:00\", \"2020-03-10T00:00:00\", \"2020-03-11T00:00:00\", \"2020-03-12T00:00:00\", \"2020-03-13T00:00:00\", \"2020-03-14T00:00:00\", \"2020-03-15T00:00:00\"], \"y\": [3, 3, 5, 8, 12, 18, 19, 31, 31, 41, 91, 94, 141, 189, 253]}, {\"line\": {\"color\": \"hsla(10, 65%, 50%, 0.5)\"}, \"name\": \"Finland\", \"opacity\": 0.8, \"type\": \"scatter\", \"x\": [\"2020-01-29T00:00:00\", \"2020-01-30T00:00:00\", \"2020-01-31T00:00:00\", \"2020-02-01T00:00:00\", \"2020-02-02T00:00:00\", \"2020-02-03T00:00:00\", \"2020-02-04T00:00:00\", \"2020-02-05T00:00:00\", \"2020-02-06T00:00:00\", \"2020-02-07T00:00:00\", \"2020-02-08T00:00:00\", \"2020-02-09T00:00:00\", \"2020-02-10T00:00:00\", \"2020-02-11T00:00:00\", \"2020-02-12T00:00:00\", \"2020-02-13T00:00:00\", \"2020-02-14T00:00:00\", \"2020-02-15T00:00:00\", \"2020-02-16T00:00:00\", \"2020-02-17T00:00:00\", \"2020-02-18T00:00:00\", \"2020-02-19T00:00:00\", \"2020-02-20T00:00:00\", \"2020-02-21T00:00:00\", \"2020-02-22T00:00:00\", \"2020-02-23T00:00:00\", \"2020-02-24T00:00:00\", \"2020-02-25T00:00:00\", \"2020-02-26T00:00:00\", \"2020-02-27T00:00:00\", \"2020-02-28T00:00:00\", \"2020-02-29T00:00:00\", \"2020-03-01T00:00:00\", \"2020-03-02T00:00:00\", \"2020-03-03T00:00:00\", \"2020-03-04T00:00:00\", \"2020-03-05T00:00:00\", \"2020-03-06T00:00:00\", \"2020-03-07T00:00:00\", \"2020-03-08T00:00:00\", \"2020-03-09T00:00:00\", \"2020-03-10T00:00:00\", \"2020-03-11T00:00:00\", \"2020-03-12T00:00:00\", \"2020-03-13T00:00:00\", \"2020-03-14T00:00:00\", \"2020-03-15T00:00:00\"], \"y\": [1, 1, 1, 1, 1, 1, 1, 1, 1, 1, 1, 1, 1, 1, 1, 1, 1, 1, 1, 1, 1, 1, 1, 1, 1, 1, 1, 1, 2, 2, 2, 3, 6, 6, 6, 6, 12, 15, 15, 23, 30, 40, 59, 59, 155, 225, 244]}, {\"line\": {\"color\": \"hsla(10, 16%, 50%, 0.5)\"}, \"name\": \"Iraq\", \"opacity\": 0.8, \"type\": \"scatter\", \"x\": [\"2020-02-24T00:00:00\", \"2020-02-25T00:00:00\", \"2020-02-26T00:00:00\", \"2020-02-27T00:00:00\", \"2020-02-28T00:00:00\", \"2020-02-29T00:00:00\", \"2020-03-01T00:00:00\", \"2020-03-02T00:00:00\", \"2020-03-03T00:00:00\", \"2020-03-04T00:00:00\", \"2020-03-05T00:00:00\", \"2020-03-06T00:00:00\", \"2020-03-07T00:00:00\", \"2020-03-08T00:00:00\", \"2020-03-09T00:00:00\", \"2020-03-10T00:00:00\", \"2020-03-11T00:00:00\", \"2020-03-12T00:00:00\", \"2020-03-13T00:00:00\", \"2020-03-14T00:00:00\", \"2020-03-15T00:00:00\"], \"y\": [1, 1, 5, 7, 7, 13, 19, 26, 32, 35, 35, 40, 54, 60, 60, 71, 71, 71, 101, 110, 116]}, {\"line\": {\"color\": \"hsla(10, 16%, 50%, 0.5)\"}, \"name\": \"Vietnam\", \"opacity\": 0.8, \"type\": \"scatter\", \"x\": [\"2020-01-23T00:00:00\", \"2020-01-24T00:00:00\", \"2020-01-25T00:00:00\", \"2020-01-26T00:00:00\", \"2020-01-27T00:00:00\", \"2020-01-28T00:00:00\", \"2020-01-29T00:00:00\", \"2020-01-30T00:00:00\", \"2020-01-31T00:00:00\", \"2020-02-01T00:00:00\", \"2020-02-02T00:00:00\", \"2020-02-03T00:00:00\", \"2020-02-04T00:00:00\", \"2020-02-05T00:00:00\", \"2020-02-06T00:00:00\", \"2020-02-07T00:00:00\", \"2020-02-08T00:00:00\", \"2020-02-09T00:00:00\", \"2020-02-10T00:00:00\", \"2020-02-11T00:00:00\", \"2020-02-12T00:00:00\", \"2020-02-13T00:00:00\", \"2020-02-14T00:00:00\", \"2020-02-15T00:00:00\", \"2020-02-16T00:00:00\", \"2020-02-17T00:00:00\", \"2020-02-18T00:00:00\", \"2020-02-19T00:00:00\", \"2020-02-20T00:00:00\", \"2020-02-21T00:00:00\", \"2020-02-22T00:00:00\", \"2020-02-23T00:00:00\", \"2020-02-24T00:00:00\", \"2020-02-25T00:00:00\", \"2020-02-26T00:00:00\", \"2020-02-27T00:00:00\", \"2020-02-28T00:00:00\", \"2020-02-29T00:00:00\", \"2020-03-01T00:00:00\", \"2020-03-02T00:00:00\", \"2020-03-03T00:00:00\", \"2020-03-04T00:00:00\", \"2020-03-05T00:00:00\", \"2020-03-06T00:00:00\", \"2020-03-07T00:00:00\", \"2020-03-08T00:00:00\", \"2020-03-09T00:00:00\", \"2020-03-10T00:00:00\", \"2020-03-11T00:00:00\", \"2020-03-12T00:00:00\", \"2020-03-13T00:00:00\", \"2020-03-14T00:00:00\", \"2020-03-15T00:00:00\"], \"y\": [2, 2, 2, 2, 2, 2, 2, 2, 2, 6, 6, 8, 8, 8, 10, 10, 13, 13, 14, 15, 15, 16, 16, 16, 16, 16, 16, 16, 16, 16, 16, 16, 16, 16, 16, 16, 16, 16, 16, 16, 16, 16, 16, 16, 18, 30, 30, 31, 38, 39, 47, 53, 56]}, {\"line\": {\"color\": \"hsla(10, 63%, 50%, 0.5)\"}, \"name\": \"Portugal\", \"opacity\": 0.8, \"type\": \"scatter\", \"x\": [\"2020-03-02T00:00:00\", \"2020-03-03T00:00:00\", \"2020-03-04T00:00:00\", \"2020-03-05T00:00:00\", \"2020-03-06T00:00:00\", \"2020-03-07T00:00:00\", \"2020-03-08T00:00:00\", \"2020-03-09T00:00:00\", \"2020-03-10T00:00:00\", \"2020-03-11T00:00:00\", \"2020-03-12T00:00:00\", \"2020-03-13T00:00:00\", \"2020-03-14T00:00:00\", \"2020-03-15T00:00:00\"], \"y\": [2, 2, 5, 8, 13, 20, 30, 30, 41, 59, 59, 112, 169, 245]}, {\"line\": {\"color\": \"hsla(10, 23%, 50%, 0.5)\"}, \"name\": \"India\", \"opacity\": 0.8, \"type\": \"scatter\", \"x\": [\"2020-01-30T00:00:00\", \"2020-01-31T00:00:00\", \"2020-02-01T00:00:00\", \"2020-02-02T00:00:00\", \"2020-02-03T00:00:00\", \"2020-02-04T00:00:00\", \"2020-02-05T00:00:00\", \"2020-02-06T00:00:00\", \"2020-02-07T00:00:00\", \"2020-02-08T00:00:00\", \"2020-02-09T00:00:00\", \"2020-02-10T00:00:00\", \"2020-02-11T00:00:00\", \"2020-02-12T00:00:00\", \"2020-02-13T00:00:00\", \"2020-02-14T00:00:00\", \"2020-02-15T00:00:00\", \"2020-02-16T00:00:00\", \"2020-02-17T00:00:00\", \"2020-02-18T00:00:00\", \"2020-02-19T00:00:00\", \"2020-02-20T00:00:00\", \"2020-02-21T00:00:00\", \"2020-02-22T00:00:00\", \"2020-02-23T00:00:00\", \"2020-02-24T00:00:00\", \"2020-02-25T00:00:00\", \"2020-02-26T00:00:00\", \"2020-02-27T00:00:00\", \"2020-02-28T00:00:00\", \"2020-02-29T00:00:00\", \"2020-03-01T00:00:00\", \"2020-03-02T00:00:00\", \"2020-03-03T00:00:00\", \"2020-03-04T00:00:00\", \"2020-03-05T00:00:00\", \"2020-03-06T00:00:00\", \"2020-03-07T00:00:00\", \"2020-03-08T00:00:00\", \"2020-03-09T00:00:00\", \"2020-03-10T00:00:00\", \"2020-03-11T00:00:00\", \"2020-03-12T00:00:00\", \"2020-03-13T00:00:00\", \"2020-03-14T00:00:00\", \"2020-03-15T00:00:00\"], \"y\": [1, 1, 1, 2, 3, 3, 3, 3, 3, 3, 3, 3, 3, 3, 3, 3, 3, 3, 3, 3, 3, 3, 3, 3, 3, 3, 3, 3, 3, 3, 3, 3, 5, 5, 28, 30, 31, 34, 39, 43, 56, 62, 73, 82, 102, 113]}, {\"line\": {\"color\": \"hsla(10, 59%, 50%, 0.5)\"}, \"name\": \"Slovenia\", \"opacity\": 0.8, \"type\": \"scatter\", \"x\": [\"2020-03-05T00:00:00\", \"2020-03-06T00:00:00\", \"2020-03-07T00:00:00\", \"2020-03-08T00:00:00\", \"2020-03-09T00:00:00\", \"2020-03-10T00:00:00\", \"2020-03-11T00:00:00\", \"2020-03-12T00:00:00\", \"2020-03-13T00:00:00\", \"2020-03-14T00:00:00\", \"2020-03-15T00:00:00\"], \"y\": [2, 7, 7, 16, 16, 31, 57, 89, 141, 181, 219]}, {\"line\": {\"color\": \"hsla(10, 50%, 50%, 0.5)\"}, \"name\": \"Brazil\", \"opacity\": 0.8, \"type\": \"scatter\", \"x\": [\"2020-02-26T00:00:00\", \"2020-02-27T00:00:00\", \"2020-02-28T00:00:00\", \"2020-02-29T00:00:00\", \"2020-03-01T00:00:00\", \"2020-03-02T00:00:00\", \"2020-03-03T00:00:00\", \"2020-03-04T00:00:00\", \"2020-03-05T00:00:00\", \"2020-03-06T00:00:00\", \"2020-03-07T00:00:00\", \"2020-03-08T00:00:00\", \"2020-03-09T00:00:00\", \"2020-03-10T00:00:00\", \"2020-03-11T00:00:00\", \"2020-03-12T00:00:00\", \"2020-03-13T00:00:00\", \"2020-03-14T00:00:00\", \"2020-03-15T00:00:00\"], \"y\": [1, 1, 1, 2, 2, 2, 2, 4, 4, 13, 13, 20, 25, 31, 38, 52, 151, 151, 162]}, {\"line\": {\"color\": \"hsla(10, 20%, 50%, 0.5)\"}, \"name\": \"Egypt\", \"opacity\": 0.8, \"type\": \"scatter\", \"x\": [\"2020-02-14T00:00:00\", \"2020-02-15T00:00:00\", \"2020-02-16T00:00:00\", \"2020-02-17T00:00:00\", \"2020-02-18T00:00:00\", \"2020-02-19T00:00:00\", \"2020-02-20T00:00:00\", \"2020-02-21T00:00:00\", \"2020-02-22T00:00:00\", \"2020-02-23T00:00:00\", \"2020-02-24T00:00:00\", \"2020-02-25T00:00:00\", \"2020-02-26T00:00:00\", \"2020-02-27T00:00:00\", \"2020-02-28T00:00:00\", \"2020-02-29T00:00:00\", \"2020-03-01T00:00:00\", \"2020-03-02T00:00:00\", \"2020-03-03T00:00:00\", \"2020-03-04T00:00:00\", \"2020-03-05T00:00:00\", \"2020-03-06T00:00:00\", \"2020-03-07T00:00:00\", \"2020-03-08T00:00:00\", \"2020-03-09T00:00:00\", \"2020-03-10T00:00:00\", \"2020-03-11T00:00:00\", \"2020-03-12T00:00:00\", \"2020-03-13T00:00:00\", \"2020-03-14T00:00:00\", \"2020-03-15T00:00:00\"], \"y\": [1, 1, 1, 1, 1, 1, 1, 1, 1, 1, 1, 1, 1, 1, 1, 1, 2, 2, 2, 2, 3, 15, 15, 49, 55, 59, 60, 67, 80, 109, 110]}, {\"line\": {\"color\": \"hsla(10, 29%, 50%, 0.5)\"}, \"name\": \"Lebanon\", \"opacity\": 0.8, \"type\": \"scatter\", \"x\": [\"2020-02-21T00:00:00\", \"2020-02-22T00:00:00\", \"2020-02-23T00:00:00\", \"2020-02-24T00:00:00\", \"2020-02-25T00:00:00\", \"2020-02-26T00:00:00\", \"2020-02-27T00:00:00\", \"2020-02-28T00:00:00\", \"2020-02-29T00:00:00\", \"2020-03-01T00:00:00\", \"2020-03-02T00:00:00\", \"2020-03-03T00:00:00\", \"2020-03-04T00:00:00\", \"2020-03-05T00:00:00\", \"2020-03-06T00:00:00\", \"2020-03-07T00:00:00\", \"2020-03-08T00:00:00\", \"2020-03-09T00:00:00\", \"2020-03-10T00:00:00\", \"2020-03-11T00:00:00\", \"2020-03-12T00:00:00\", \"2020-03-13T00:00:00\", \"2020-03-14T00:00:00\", \"2020-03-15T00:00:00\"], \"y\": [1, 1, 1, 1, 1, 2, 2, 2, 4, 10, 13, 13, 13, 16, 22, 22, 32, 32, 41, 61, 61, 77, 93, 110]}, {\"line\": {\"color\": \"hsla(10, 20%, 50%, 0.5)\"}, \"name\": \"San Marino\", \"opacity\": 0.8, \"type\": \"scatter\", \"x\": [\"2020-02-27T00:00:00\", \"2020-02-28T00:00:00\", \"2020-02-29T00:00:00\", \"2020-03-01T00:00:00\", \"2020-03-02T00:00:00\", \"2020-03-03T00:00:00\", \"2020-03-04T00:00:00\", \"2020-03-05T00:00:00\", \"2020-03-06T00:00:00\", \"2020-03-07T00:00:00\", \"2020-03-08T00:00:00\", \"2020-03-09T00:00:00\", \"2020-03-10T00:00:00\", \"2020-03-11T00:00:00\", \"2020-03-12T00:00:00\", \"2020-03-13T00:00:00\", \"2020-03-14T00:00:00\", \"2020-03-15T00:00:00\"], \"y\": [1, 1, 1, 1, 8, 10, 16, 21, 21, 23, 36, 36, 51, 62, 69, 80, 80, 101]}, {\"line\": {\"color\": \"hsla(10, 52%, 50%, 0.5)\"}, \"name\": \"Philippines\", \"opacity\": 0.8, \"type\": \"scatter\", \"x\": [\"2020-01-30T00:00:00\", \"2020-01-31T00:00:00\", \"2020-02-01T00:00:00\", \"2020-02-02T00:00:00\", \"2020-02-03T00:00:00\", \"2020-02-04T00:00:00\", \"2020-02-05T00:00:00\", \"2020-02-06T00:00:00\", \"2020-02-07T00:00:00\", \"2020-02-08T00:00:00\", \"2020-02-09T00:00:00\", \"2020-02-10T00:00:00\", \"2020-02-11T00:00:00\", \"2020-02-12T00:00:00\", \"2020-02-13T00:00:00\", \"2020-02-14T00:00:00\", \"2020-02-15T00:00:00\", \"2020-02-16T00:00:00\", \"2020-02-17T00:00:00\", \"2020-02-18T00:00:00\", \"2020-02-19T00:00:00\", \"2020-02-20T00:00:00\", \"2020-02-21T00:00:00\", \"2020-02-22T00:00:00\", \"2020-02-23T00:00:00\", \"2020-02-24T00:00:00\", \"2020-02-25T00:00:00\", \"2020-02-26T00:00:00\", \"2020-02-27T00:00:00\", \"2020-02-28T00:00:00\", \"2020-02-29T00:00:00\", \"2020-03-01T00:00:00\", \"2020-03-02T00:00:00\", \"2020-03-03T00:00:00\", \"2020-03-04T00:00:00\", \"2020-03-05T00:00:00\", \"2020-03-06T00:00:00\", \"2020-03-07T00:00:00\", \"2020-03-08T00:00:00\", \"2020-03-09T00:00:00\", \"2020-03-10T00:00:00\", \"2020-03-11T00:00:00\", \"2020-03-12T00:00:00\", \"2020-03-13T00:00:00\", \"2020-03-14T00:00:00\", \"2020-03-15T00:00:00\"], \"y\": [1, 1, 1, 2, 2, 2, 2, 2, 3, 3, 3, 3, 3, 3, 3, 3, 3, 3, 3, 3, 3, 3, 3, 3, 3, 3, 3, 3, 3, 3, 3, 3, 3, 3, 3, 3, 5, 6, 10, 20, 33, 49, 52, 64, 111, 140]}, {\"line\": {\"color\": \"hsla(10, 51%, 50%, 0.5)\"}, \"name\": \"Ireland\", \"opacity\": 0.8, \"type\": \"scatter\", \"x\": [\"2020-02-29T00:00:00\", \"2020-03-01T00:00:00\", \"2020-03-02T00:00:00\", \"2020-03-03T00:00:00\", \"2020-03-04T00:00:00\", \"2020-03-05T00:00:00\", \"2020-03-06T00:00:00\", \"2020-03-07T00:00:00\", \"2020-03-08T00:00:00\", \"2020-03-09T00:00:00\", \"2020-03-10T00:00:00\", \"2020-03-11T00:00:00\", \"2020-03-12T00:00:00\", \"2020-03-13T00:00:00\", \"2020-03-14T00:00:00\", \"2020-03-15T00:00:00\"], \"y\": [1, 1, 1, 2, 6, 6, 18, 18, 19, 21, 34, 43, 43, 90, 129, 129]}, {\"line\": {\"color\": \"hsla(10, 55%, 50%, 0.5)\"}, \"name\": \"Romania\", \"opacity\": 0.8, \"type\": \"scatter\", \"x\": [\"2020-02-26T00:00:00\", \"2020-02-27T00:00:00\", \"2020-02-28T00:00:00\", \"2020-02-29T00:00:00\", \"2020-03-01T00:00:00\", \"2020-03-02T00:00:00\", \"2020-03-03T00:00:00\", \"2020-03-04T00:00:00\", \"2020-03-05T00:00:00\", \"2020-03-06T00:00:00\", \"2020-03-07T00:00:00\", \"2020-03-08T00:00:00\", \"2020-03-09T00:00:00\", \"2020-03-10T00:00:00\", \"2020-03-11T00:00:00\", \"2020-03-12T00:00:00\", \"2020-03-13T00:00:00\", \"2020-03-14T00:00:00\", \"2020-03-15T00:00:00\"], \"y\": [1, 1, 3, 3, 3, 3, 3, 4, 6, 9, 9, 15, 15, 25, 45, 49, 89, 123, 131]}, {\"line\": {\"color\": \"hsla(10, 100%, 50%, 0.5)\"}, \"name\": \"Estonia\", \"opacity\": 0.8, \"type\": \"scatter\", \"x\": [\"2020-02-27T00:00:00\", \"2020-02-28T00:00:00\", \"2020-02-29T00:00:00\", \"2020-03-01T00:00:00\", \"2020-03-02T00:00:00\", \"2020-03-03T00:00:00\", \"2020-03-04T00:00:00\", \"2020-03-05T00:00:00\", \"2020-03-06T00:00:00\", \"2020-03-07T00:00:00\", \"2020-03-08T00:00:00\", \"2020-03-09T00:00:00\", \"2020-03-10T00:00:00\", \"2020-03-11T00:00:00\", \"2020-03-12T00:00:00\", \"2020-03-13T00:00:00\", \"2020-03-14T00:00:00\", \"2020-03-15T00:00:00\"], \"y\": [1, 1, 1, 1, 1, 2, 2, 3, 10, 10, 10, 10, 12, 16, 16, 79, 115, 171]}, {\"line\": {\"color\": \"hsla(10, 56%, 50%, 0.5)\"}, \"name\": \"Poland\", \"opacity\": 0.8, \"type\": \"scatter\", \"x\": [\"2020-03-04T00:00:00\", \"2020-03-05T00:00:00\", \"2020-03-06T00:00:00\", \"2020-03-07T00:00:00\", \"2020-03-08T00:00:00\", \"2020-03-09T00:00:00\", \"2020-03-10T00:00:00\", \"2020-03-11T00:00:00\", \"2020-03-12T00:00:00\", \"2020-03-13T00:00:00\", \"2020-03-14T00:00:00\", \"2020-03-15T00:00:00\"], \"y\": [1, 1, 5, 5, 11, 16, 22, 31, 49, 68, 103, 119]}, {\"line\": {\"color\": \"hsla(10, 52%, 50%, 0.5)\"}, \"name\": \"Saudi Arabia\", \"opacity\": 0.8, \"type\": \"scatter\", \"x\": [\"2020-03-02T00:00:00\", \"2020-03-03T00:00:00\", \"2020-03-04T00:00:00\", \"2020-03-05T00:00:00\", \"2020-03-06T00:00:00\", \"2020-03-07T00:00:00\", \"2020-03-08T00:00:00\", \"2020-03-09T00:00:00\", \"2020-03-10T00:00:00\", \"2020-03-11T00:00:00\", \"2020-03-12T00:00:00\", \"2020-03-13T00:00:00\", \"2020-03-14T00:00:00\", \"2020-03-15T00:00:00\"], \"y\": [1, 1, 1, 5, 5, 5, 11, 15, 20, 21, 45, 86, 103, 103]}, {\"line\": {\"color\": \"hsla(10, 52%, 50%, 0.5)\"}, \"name\": \"Indonesia\", \"opacity\": 0.8, \"type\": \"scatter\", \"x\": [\"2020-03-02T00:00:00\", \"2020-03-03T00:00:00\", \"2020-03-04T00:00:00\", \"2020-03-05T00:00:00\", \"2020-03-06T00:00:00\", \"2020-03-07T00:00:00\", \"2020-03-08T00:00:00\", \"2020-03-09T00:00:00\", \"2020-03-10T00:00:00\", \"2020-03-11T00:00:00\", \"2020-03-12T00:00:00\", \"2020-03-13T00:00:00\", \"2020-03-14T00:00:00\", \"2020-03-15T00:00:00\"], \"y\": [2, 2, 2, 2, 4, 4, 6, 19, 27, 34, 34, 69, 96, 117]}, {\"line\": {\"color\": \"hsla(10, 39%, 50%, 0.5)\"}, \"name\": \"Russia\", \"opacity\": 0.8, \"type\": \"scatter\", \"x\": [\"2020-01-31T00:00:00\", \"2020-02-01T00:00:00\", \"2020-02-02T00:00:00\", \"2020-02-03T00:00:00\", \"2020-02-04T00:00:00\", \"2020-02-05T00:00:00\", \"2020-02-06T00:00:00\", \"2020-02-07T00:00:00\", \"2020-02-08T00:00:00\", \"2020-02-09T00:00:00\", \"2020-02-10T00:00:00\", \"2020-02-11T00:00:00\", \"2020-02-12T00:00:00\", \"2020-02-13T00:00:00\", \"2020-02-14T00:00:00\", \"2020-02-15T00:00:00\", \"2020-02-16T00:00:00\", \"2020-02-17T00:00:00\", \"2020-02-18T00:00:00\", \"2020-02-19T00:00:00\", \"2020-02-20T00:00:00\", \"2020-02-21T00:00:00\", \"2020-02-22T00:00:00\", \"2020-02-23T00:00:00\", \"2020-02-24T00:00:00\", \"2020-02-25T00:00:00\", \"2020-02-26T00:00:00\", \"2020-02-27T00:00:00\", \"2020-02-28T00:00:00\", \"2020-02-29T00:00:00\", \"2020-03-01T00:00:00\", \"2020-03-02T00:00:00\", \"2020-03-03T00:00:00\", \"2020-03-04T00:00:00\", \"2020-03-05T00:00:00\", \"2020-03-06T00:00:00\", \"2020-03-07T00:00:00\", \"2020-03-08T00:00:00\", \"2020-03-09T00:00:00\", \"2020-03-10T00:00:00\", \"2020-03-11T00:00:00\", \"2020-03-12T00:00:00\", \"2020-03-13T00:00:00\", \"2020-03-14T00:00:00\", \"2020-03-15T00:00:00\"], \"y\": [2, 2, 2, 2, 2, 2, 2, 2, 2, 2, 2, 2, 2, 2, 2, 2, 2, 2, 2, 2, 2, 2, 2, 2, 2, 2, 2, 2, 2, 2, 2, 3, 3, 3, 4, 13, 13, 17, 17, 20, 20, 28, 45, 59, 63]}],\n",
       "                        {\"template\": {\"data\": {\"bar\": [{\"error_x\": {\"color\": \"#2a3f5f\"}, \"error_y\": {\"color\": \"#2a3f5f\"}, \"marker\": {\"line\": {\"color\": \"#E5ECF6\", \"width\": 0.5}}, \"type\": \"bar\"}], \"barpolar\": [{\"marker\": {\"line\": {\"color\": \"#E5ECF6\", \"width\": 0.5}}, \"type\": \"barpolar\"}], \"carpet\": [{\"aaxis\": {\"endlinecolor\": \"#2a3f5f\", \"gridcolor\": \"white\", \"linecolor\": \"white\", \"minorgridcolor\": \"white\", \"startlinecolor\": \"#2a3f5f\"}, \"baxis\": {\"endlinecolor\": \"#2a3f5f\", \"gridcolor\": \"white\", \"linecolor\": \"white\", \"minorgridcolor\": \"white\", \"startlinecolor\": \"#2a3f5f\"}, \"type\": \"carpet\"}], \"choropleth\": [{\"colorbar\": {\"outlinewidth\": 0, \"ticks\": \"\"}, \"type\": \"choropleth\"}], \"contour\": [{\"colorbar\": {\"outlinewidth\": 0, \"ticks\": \"\"}, \"colorscale\": [[0.0, \"#0d0887\"], [0.1111111111111111, \"#46039f\"], [0.2222222222222222, \"#7201a8\"], [0.3333333333333333, \"#9c179e\"], [0.4444444444444444, \"#bd3786\"], [0.5555555555555556, \"#d8576b\"], [0.6666666666666666, \"#ed7953\"], [0.7777777777777778, \"#fb9f3a\"], [0.8888888888888888, \"#fdca26\"], [1.0, \"#f0f921\"]], \"type\": \"contour\"}], \"contourcarpet\": [{\"colorbar\": {\"outlinewidth\": 0, \"ticks\": \"\"}, \"type\": \"contourcarpet\"}], \"heatmap\": [{\"colorbar\": {\"outlinewidth\": 0, \"ticks\": \"\"}, \"colorscale\": [[0.0, \"#0d0887\"], [0.1111111111111111, \"#46039f\"], [0.2222222222222222, \"#7201a8\"], [0.3333333333333333, \"#9c179e\"], [0.4444444444444444, \"#bd3786\"], [0.5555555555555556, \"#d8576b\"], [0.6666666666666666, \"#ed7953\"], [0.7777777777777778, \"#fb9f3a\"], [0.8888888888888888, \"#fdca26\"], [1.0, \"#f0f921\"]], \"type\": \"heatmap\"}], \"heatmapgl\": [{\"colorbar\": {\"outlinewidth\": 0, \"ticks\": \"\"}, \"colorscale\": [[0.0, \"#0d0887\"], [0.1111111111111111, \"#46039f\"], [0.2222222222222222, \"#7201a8\"], [0.3333333333333333, \"#9c179e\"], [0.4444444444444444, \"#bd3786\"], [0.5555555555555556, \"#d8576b\"], [0.6666666666666666, \"#ed7953\"], [0.7777777777777778, \"#fb9f3a\"], [0.8888888888888888, \"#fdca26\"], [1.0, \"#f0f921\"]], \"type\": \"heatmapgl\"}], \"histogram\": [{\"marker\": {\"colorbar\": {\"outlinewidth\": 0, \"ticks\": \"\"}}, \"type\": \"histogram\"}], \"histogram2d\": [{\"colorbar\": {\"outlinewidth\": 0, \"ticks\": \"\"}, \"colorscale\": [[0.0, \"#0d0887\"], [0.1111111111111111, \"#46039f\"], [0.2222222222222222, \"#7201a8\"], [0.3333333333333333, \"#9c179e\"], [0.4444444444444444, \"#bd3786\"], [0.5555555555555556, \"#d8576b\"], [0.6666666666666666, \"#ed7953\"], [0.7777777777777778, \"#fb9f3a\"], [0.8888888888888888, \"#fdca26\"], [1.0, \"#f0f921\"]], \"type\": \"histogram2d\"}], \"histogram2dcontour\": [{\"colorbar\": {\"outlinewidth\": 0, \"ticks\": \"\"}, \"colorscale\": [[0.0, \"#0d0887\"], [0.1111111111111111, \"#46039f\"], [0.2222222222222222, \"#7201a8\"], [0.3333333333333333, \"#9c179e\"], [0.4444444444444444, \"#bd3786\"], [0.5555555555555556, \"#d8576b\"], [0.6666666666666666, \"#ed7953\"], [0.7777777777777778, \"#fb9f3a\"], [0.8888888888888888, \"#fdca26\"], [1.0, \"#f0f921\"]], \"type\": \"histogram2dcontour\"}], \"mesh3d\": [{\"colorbar\": {\"outlinewidth\": 0, \"ticks\": \"\"}, \"type\": \"mesh3d\"}], \"parcoords\": [{\"line\": {\"colorbar\": {\"outlinewidth\": 0, \"ticks\": \"\"}}, \"type\": \"parcoords\"}], \"scatter\": [{\"marker\": {\"colorbar\": {\"outlinewidth\": 0, \"ticks\": \"\"}}, \"type\": \"scatter\"}], \"scatter3d\": [{\"line\": {\"colorbar\": {\"outlinewidth\": 0, \"ticks\": \"\"}}, \"marker\": {\"colorbar\": {\"outlinewidth\": 0, \"ticks\": \"\"}}, \"type\": \"scatter3d\"}], \"scattercarpet\": [{\"marker\": {\"colorbar\": {\"outlinewidth\": 0, \"ticks\": \"\"}}, \"type\": \"scattercarpet\"}], \"scattergeo\": [{\"marker\": {\"colorbar\": {\"outlinewidth\": 0, \"ticks\": \"\"}}, \"type\": \"scattergeo\"}], \"scattergl\": [{\"marker\": {\"colorbar\": {\"outlinewidth\": 0, \"ticks\": \"\"}}, \"type\": \"scattergl\"}], \"scattermapbox\": [{\"marker\": {\"colorbar\": {\"outlinewidth\": 0, \"ticks\": \"\"}}, \"type\": \"scattermapbox\"}], \"scatterpolar\": [{\"marker\": {\"colorbar\": {\"outlinewidth\": 0, \"ticks\": \"\"}}, \"type\": \"scatterpolar\"}], \"scatterpolargl\": [{\"marker\": {\"colorbar\": {\"outlinewidth\": 0, \"ticks\": \"\"}}, \"type\": \"scatterpolargl\"}], \"scatterternary\": [{\"marker\": {\"colorbar\": {\"outlinewidth\": 0, \"ticks\": \"\"}}, \"type\": \"scatterternary\"}], \"surface\": [{\"colorbar\": {\"outlinewidth\": 0, \"ticks\": \"\"}, \"colorscale\": [[0.0, \"#0d0887\"], [0.1111111111111111, \"#46039f\"], [0.2222222222222222, \"#7201a8\"], [0.3333333333333333, \"#9c179e\"], [0.4444444444444444, \"#bd3786\"], [0.5555555555555556, \"#d8576b\"], [0.6666666666666666, \"#ed7953\"], [0.7777777777777778, \"#fb9f3a\"], [0.8888888888888888, \"#fdca26\"], [1.0, \"#f0f921\"]], \"type\": \"surface\"}], \"table\": [{\"cells\": {\"fill\": {\"color\": \"#EBF0F8\"}, \"line\": {\"color\": \"white\"}}, \"header\": {\"fill\": {\"color\": \"#C8D4E3\"}, \"line\": {\"color\": \"white\"}}, \"type\": \"table\"}]}, \"layout\": {\"annotationdefaults\": {\"arrowcolor\": \"#2a3f5f\", \"arrowhead\": 0, \"arrowwidth\": 1}, \"colorscale\": {\"diverging\": [[0, \"#8e0152\"], [0.1, \"#c51b7d\"], [0.2, \"#de77ae\"], [0.3, \"#f1b6da\"], [0.4, \"#fde0ef\"], [0.5, \"#f7f7f7\"], [0.6, \"#e6f5d0\"], [0.7, \"#b8e186\"], [0.8, \"#7fbc41\"], [0.9, \"#4d9221\"], [1, \"#276419\"]], \"sequential\": [[0.0, \"#0d0887\"], [0.1111111111111111, \"#46039f\"], [0.2222222222222222, \"#7201a8\"], [0.3333333333333333, \"#9c179e\"], [0.4444444444444444, \"#bd3786\"], [0.5555555555555556, \"#d8576b\"], [0.6666666666666666, \"#ed7953\"], [0.7777777777777778, \"#fb9f3a\"], [0.8888888888888888, \"#fdca26\"], [1.0, \"#f0f921\"]], \"sequentialminus\": [[0.0, \"#0d0887\"], [0.1111111111111111, \"#46039f\"], [0.2222222222222222, \"#7201a8\"], [0.3333333333333333, \"#9c179e\"], [0.4444444444444444, \"#bd3786\"], [0.5555555555555556, \"#d8576b\"], [0.6666666666666666, \"#ed7953\"], [0.7777777777777778, \"#fb9f3a\"], [0.8888888888888888, \"#fdca26\"], [1.0, \"#f0f921\"]]}, \"colorway\": [\"#636efa\", \"#EF553B\", \"#00cc96\", \"#ab63fa\", \"#FFA15A\", \"#19d3f3\", \"#FF6692\", \"#B6E880\", \"#FF97FF\", \"#FECB52\"], \"font\": {\"color\": \"#2a3f5f\"}, \"geo\": {\"bgcolor\": \"white\", \"lakecolor\": \"white\", \"landcolor\": \"#E5ECF6\", \"showlakes\": true, \"showland\": true, \"subunitcolor\": \"white\"}, \"hoverlabel\": {\"align\": \"left\"}, \"hovermode\": \"closest\", \"mapbox\": {\"style\": \"light\"}, \"paper_bgcolor\": \"white\", \"plot_bgcolor\": \"#E5ECF6\", \"polar\": {\"angularaxis\": {\"gridcolor\": \"white\", \"linecolor\": \"white\", \"ticks\": \"\"}, \"bgcolor\": \"#E5ECF6\", \"radialaxis\": {\"gridcolor\": \"white\", \"linecolor\": \"white\", \"ticks\": \"\"}}, \"scene\": {\"xaxis\": {\"backgroundcolor\": \"#E5ECF6\", \"gridcolor\": \"white\", \"gridwidth\": 2, \"linecolor\": \"white\", \"showbackground\": true, \"ticks\": \"\", \"zerolinecolor\": \"white\"}, \"yaxis\": {\"backgroundcolor\": \"#E5ECF6\", \"gridcolor\": \"white\", \"gridwidth\": 2, \"linecolor\": \"white\", \"showbackground\": true, \"ticks\": \"\", \"zerolinecolor\": \"white\"}, \"zaxis\": {\"backgroundcolor\": \"#E5ECF6\", \"gridcolor\": \"white\", \"gridwidth\": 2, \"linecolor\": \"white\", \"showbackground\": true, \"ticks\": \"\", \"zerolinecolor\": \"white\"}}, \"shapedefaults\": {\"line\": {\"color\": \"#2a3f5f\"}}, \"ternary\": {\"aaxis\": {\"gridcolor\": \"white\", \"linecolor\": \"white\", \"ticks\": \"\"}, \"baxis\": {\"gridcolor\": \"white\", \"linecolor\": \"white\", \"ticks\": \"\"}, \"bgcolor\": \"#E5ECF6\", \"caxis\": {\"gridcolor\": \"white\", \"linecolor\": \"white\", \"ticks\": \"\"}}, \"title\": {\"x\": 0.05}, \"xaxis\": {\"automargin\": true, \"gridcolor\": \"white\", \"linecolor\": \"white\", \"ticks\": \"\", \"zerolinecolor\": \"white\", \"zerolinewidth\": 2}, \"yaxis\": {\"automargin\": true, \"gridcolor\": \"white\", \"linecolor\": \"white\", \"ticks\": \"\", \"zerolinecolor\": \"white\", \"zerolinewidth\": 2}}}, \"yaxis\": {\"type\": \"log\"}},\n",
       "                        {\"responsive\": true}\n",
       "                    ).then(function(){\n",
       "                            \n",
       "var gd = document.getElementById('38eccee7-8f89-4ad4-87e5-b90f31fb433f');\n",
       "var x = new MutationObserver(function (mutations, observer) {{\n",
       "        var display = window.getComputedStyle(gd).display;\n",
       "        if (!display || display === 'none') {{\n",
       "            console.log([gd, 'removed!']);\n",
       "            Plotly.purge(gd);\n",
       "            observer.disconnect();\n",
       "        }}\n",
       "}});\n",
       "\n",
       "// Listen for the removal of the full notebook cells\n",
       "var notebookContainer = gd.closest('#notebook-container');\n",
       "if (notebookContainer) {{\n",
       "    x.observe(notebookContainer, {childList: true});\n",
       "}}\n",
       "\n",
       "// Listen for the clearing of the current output cell\n",
       "var outputEl = gd.closest('.output');\n",
       "if (outputEl) {{\n",
       "    x.observe(outputEl, {childList: true});\n",
       "}}\n",
       "\n",
       "                        })\n",
       "                };\n",
       "                });\n",
       "            </script>\n",
       "        </div>"
      ]
     },
     "metadata": {},
     "output_type": "display_data"
    }
   ],
   "source": [
    "from IPython.display import display, Markdown\n",
    "import plotly.express as px\n",
    "import plotly.graph_objects as go\n",
    "\n",
    "fig = go.Figure()\n",
    "\n",
    "to_plot = df.groupby('country').cnt.sum().sort_values(ascending=False)[:50]\n",
    "to_plot_rate = get_current_rate(df)\n",
    "m = min(to_plot_rate.values())\n",
    "M = max(to_plot_rate.values())\n",
    "\n",
    "for country, cnt in to_plot.items():\n",
    "    c_df = (\n",
    "        df[df.country == country]\n",
    "          .groupby('date')\n",
    "          .cnt.sum()\n",
    "          .reset_index()\n",
    "          .sort_values('date')\n",
    "    )\n",
    "    c_df = c_df[c_df.cnt > 0]\n",
    "\n",
    "    lum = int((to_plot_rate[country] - m) / (M - m) * 100)\n",
    "    \n",
    "    fig.add_trace(\n",
    "        go.Scatter(\n",
    "            x=c_df.date,\n",
    "            y=c_df.cnt,\n",
    "            name=country,\n",
    "            line=dict(color=f'hsla(10, {lum}%, 50%, 0.5)'),\n",
    "            opacity=0.8\n",
    "        )\n",
    "    )\n",
    "\n",
    "fig.update_layout(yaxis_type=\"log\")\n",
    "\n",
    "display(Markdown(\"\"\"\n",
    "## Confirmed cases evolution by country\n",
    "The lines that are most red correspond to countries that have the most rate of growth of COVID-19\n",
    "\"\"\"\n",
    "))\n",
    "fig.show()"
   ]
  },
  {
   "cell_type": "markdown",
   "metadata": {},
   "source": [
    "## Rates of most affected countries"
   ]
  },
  {
   "cell_type": "code",
   "execution_count": 134,
   "metadata": {
    "scrolled": false
   },
   "outputs": [
    {
     "data": {
      "application/vnd.plotly.v1+json": {
       "config": {
        "plotlyServerURL": "https://plot.ly"
       },
       "data": [
        {
         "name": "Thailand",
         "opacity": 0.8,
         "type": "scatter",
         "x": [],
         "y": []
        },
        {
         "name": "Japan",
         "opacity": 0.8,
         "type": "scatter",
         "x": [
          "2020-02-24T00:00:00",
          "2020-02-25T00:00:00",
          "2020-02-26T00:00:00",
          "2020-02-27T00:00:00",
          "2020-02-28T00:00:00",
          "2020-02-29T00:00:00",
          "2020-03-01T00:00:00",
          "2020-03-02T00:00:00",
          "2020-03-03T00:00:00",
          "2020-03-04T00:00:00",
          "2020-03-05T00:00:00",
          "2020-03-06T00:00:00",
          "2020-03-07T00:00:00",
          "2020-03-08T00:00:00",
          "2020-03-09T00:00:00",
          "2020-03-10T00:00:00",
          "2020-03-11T00:00:00",
          "2020-03-12T00:00:00",
          "2020-03-13T00:00:00",
          "2020-03-14T00:00:00",
          "2020-03-15T00:00:00"
         ],
         "y": [
          null,
          1.1222929936305732,
          1.1191827468785471,
          1.1217038539553752,
          1.1112115732368897,
          1.096826688364524,
          1.080860534124629,
          1.0789293067947838,
          1.0782442748091603,
          1.0837758112094396,
          1.079477408818726,
          1.0968229954614221,
          1.1011494252873564,
          1.1027139874739038,
          1.0897387353275276,
          1.1000694927032661,
          1.0972836386607707,
          1.0803108808290154,
          1.074873434585665,
          1.0773425880019831,
          1.0775425678785089
         ]
        },
        {
         "name": "Singapore",
         "opacity": 0.8,
         "type": "scatter",
         "x": [
          "2020-03-03T00:00:00",
          "2020-03-04T00:00:00",
          "2020-03-05T00:00:00",
          "2020-03-06T00:00:00",
          "2020-03-07T00:00:00",
          "2020-03-08T00:00:00",
          "2020-03-09T00:00:00",
          "2020-03-10T00:00:00",
          "2020-03-11T00:00:00",
          "2020-03-12T00:00:00",
          "2020-03-13T00:00:00",
          "2020-03-14T00:00:00",
          "2020-03-15T00:00:00"
         ],
         "y": [
          null,
          1.0241134751773049,
          1.033240997229917,
          1.0495978552278822,
          1.0459770114942528,
          1.0537240537240538,
          1.048667439165701,
          1.0552486187845305,
          1.0712041884816754,
          1.0596285434995112,
          1.0645756457564575,
          1.0641247833622183,
          1.0618892508143323
         ]
        },
        {
         "name": "Malaysia",
         "opacity": 0.8,
         "type": "scatter",
         "x": [
          "2020-03-11T00:00:00",
          "2020-03-12T00:00:00",
          "2020-03-13T00:00:00",
          "2020-03-14T00:00:00",
          "2020-03-15T00:00:00"
         ],
         "y": [
          null,
          1.1375,
          1.1391941391941391,
          1.1554126473740622,
          1.3051948051948052
         ]
        },
        {
         "name": "Canada",
         "opacity": 0.8,
         "type": "scatter",
         "x": [
          "2020-03-14T00:00:00",
          "2020-03-15T00:00:00"
         ],
         "y": [
          null,
          1.2248803827751196
         ]
        },
        {
         "name": "Australia",
         "opacity": 0.8,
         "type": "scatter",
         "x": [
          "2020-03-13T00:00:00",
          "2020-03-14T00:00:00",
          "2020-03-15T00:00:00"
         ],
         "y": [
          null,
          1.235813366960908,
          1.2255102040816328
         ]
        },
        {
         "name": "Germany",
         "opacity": 0.8,
         "type": "scatter",
         "x": [
          "2020-03-04T00:00:00",
          "2020-03-05T00:00:00",
          "2020-03-06T00:00:00",
          "2020-03-07T00:00:00",
          "2020-03-08T00:00:00",
          "2020-03-09T00:00:00",
          "2020-03-10T00:00:00",
          "2020-03-11T00:00:00",
          "2020-03-12T00:00:00",
          "2020-03-13T00:00:00",
          "2020-03-14T00:00:00",
          "2020-03-15T00:00:00"
         ],
         "y": [
          null,
          1.473913043478261,
          1.458702064896755,
          1.3640040444893833,
          1.3372868791697554,
          1.2818736141906872,
          1.2726486486486488,
          1.2796466190961604,
          1.211895910780669,
          1.3292068361086766,
          1.3120415396027365,
          1.2986996670645141
         ]
        },
        {
         "name": "Italy",
         "opacity": 0.8,
         "type": "scatter",
         "x": [
          "2020-02-25T00:00:00",
          "2020-02-26T00:00:00",
          "2020-02-27T00:00:00",
          "2020-02-28T00:00:00",
          "2020-02-29T00:00:00",
          "2020-03-01T00:00:00",
          "2020-03-02T00:00:00",
          "2020-03-03T00:00:00",
          "2020-03-04T00:00:00",
          "2020-03-05T00:00:00",
          "2020-03-06T00:00:00",
          "2020-03-07T00:00:00",
          "2020-03-08T00:00:00",
          "2020-03-09T00:00:00",
          "2020-03-10T00:00:00",
          "2020-03-11T00:00:00",
          "2020-03-12T00:00:00",
          "2020-03-13T00:00:00",
          "2020-03-14T00:00:00",
          "2020-03-15T00:00:00"
         ],
         "y": [
          null,
          1.566750629722922,
          1.5241157556270095,
          1.4578059071729959,
          1.385672937771346,
          1.4018276762402089,
          1.3365617433414043,
          1.3037904124860649,
          1.2817443351859767,
          1.26709472981988,
          1.2466600855544587,
          1.2510162065142796,
          1.2397248712971558,
          1.242894584567208,
          1.209420785978365,
          1.212241293419682,
          1.1607172877556737,
          1.2095946185165516,
          1.2032116866011202,
          1.1920895208819398
         ]
        },
        {
         "name": "Sweden",
         "opacity": 0.8,
         "type": "scatter",
         "x": [
          "2020-03-09T00:00:00",
          "2020-03-10T00:00:00",
          "2020-03-11T00:00:00",
          "2020-03-12T00:00:00",
          "2020-03-13T00:00:00",
          "2020-03-14T00:00:00",
          "2020-03-15T00:00:00"
         ],
         "y": [
          null,
          1.3870220162224796,
          1.3884711779448622,
          1.3038507821901324,
          1.3290263036455932,
          1.2777777777777777,
          1.222554347826087
         ]
        },
        {
         "name": "Spain",
         "opacity": 0.8,
         "type": "scatter",
         "x": [
          "2020-03-05T00:00:00",
          "2020-03-06T00:00:00",
          "2020-03-07T00:00:00",
          "2020-03-08T00:00:00",
          "2020-03-09T00:00:00",
          "2020-03-10T00:00:00",
          "2020-03-11T00:00:00",
          "2020-03-12T00:00:00",
          "2020-03-13T00:00:00",
          "2020-03-14T00:00:00",
          "2020-03-15T00:00:00"
         ],
         "y": [
          null,
          1.3969795037756203,
          1.3513513513513513,
          1.3365714285714287,
          1.4074390765284308,
          1.4647630619684084,
          1.426171712982165,
          1.2934419078086374,
          1.5432265317594154,
          1.4291542216070516,
          1.3631868692017537
         ]
        },
        {
         "name": "Belgium",
         "opacity": 0.8,
         "type": "scatter",
         "x": [
          "2020-03-09T00:00:00",
          "2020-03-10T00:00:00",
          "2020-03-11T00:00:00",
          "2020-03-12T00:00:00",
          "2020-03-13T00:00:00",
          "2020-03-14T00:00:00",
          "2020-03-15T00:00:00"
         ],
         "y": [
          null,
          1.3163138231631384,
          1.2753074739829708,
          1.1958456973293767,
          1.2791563275434243,
          1.2521823472356934,
          1.26568551510457
         ]
        },
        {
         "name": "Bahrain",
         "opacity": 0.8,
         "type": "scatter",
         "x": [
          "2020-03-12T00:00:00",
          "2020-03-13T00:00:00",
          "2020-03-14T00:00:00",
          "2020-03-15T00:00:00"
         ],
         "y": [
          null,
          1.1563636363636363,
          1.131027253668763,
          1.1195551436515292
         ]
        },
        {
         "name": "Switzerland",
         "opacity": 0.8,
         "type": "scatter",
         "x": [
          "2020-03-07T00:00:00",
          "2020-03-08T00:00:00",
          "2020-03-09T00:00:00",
          "2020-03-10T00:00:00",
          "2020-03-11T00:00:00",
          "2020-03-12T00:00:00",
          "2020-03-13T00:00:00",
          "2020-03-14T00:00:00",
          "2020-03-15T00:00:00"
         ],
         "y": [
          null,
          1.3822441430332921,
          1.2961641391614631,
          1.2993805918788712,
          1.2976694915254237,
          1.2195918367346938,
          1.3095716198125837,
          1.2788142090467673,
          1.3723021582733812
         ]
        },
        {
         "name": "Austria",
         "opacity": 0.8,
         "type": "scatter",
         "x": [
          "2020-03-11T00:00:00",
          "2020-03-12T00:00:00",
          "2020-03-13T00:00:00",
          "2020-03-14T00:00:00",
          "2020-03-15T00:00:00"
         ],
         "y": [
          null,
          1.31145584725537,
          1.4085532302092811,
          1.372093023255814,
          1.3559322033898304
         ]
        },
        {
         "name": "Norway",
         "opacity": 0.8,
         "type": "scatter",
         "x": [
          "2020-03-09T00:00:00",
          "2020-03-10T00:00:00",
          "2020-03-11T00:00:00",
          "2020-03-12T00:00:00",
          "2020-03-13T00:00:00",
          "2020-03-14T00:00:00",
          "2020-03-15T00:00:00"
         ],
         "y": [
          null,
          1.4537607891491984,
          1.4597116200169638,
          1.357350377687391,
          1.3801369863013697,
          1.2924937965260548,
          1.2507799376049915
         ]
        },
        {
         "name": "Netherlands",
         "opacity": 0.8,
         "type": "scatter",
         "x": [
          "2020-03-08T00:00:00",
          "2020-03-09T00:00:00",
          "2020-03-10T00:00:00",
          "2020-03-11T00:00:00",
          "2020-03-12T00:00:00",
          "2020-03-13T00:00:00",
          "2020-03-14T00:00:00",
          "2020-03-15T00:00:00"
         ],
         "y": [
          null,
          1.4078061911170927,
          1.3422562141491399,
          1.3311965811965811,
          1.2252541466024613,
          1.2951965065502182,
          1.2599460552933244,
          1.2328070644902327
         ]
        },
        {
         "name": "Qatar",
         "opacity": 0.8,
         "type": "scatter",
         "x": [
          "2020-03-13T00:00:00",
          "2020-03-14T00:00:00",
          "2020-03-15T00:00:00"
         ],
         "y": [
          null,
          1.361936193619362,
          1.3117932148626816
         ]
        },
        {
         "name": "US",
         "opacity": 0.8,
         "type": "scatter",
         "x": [
          "2020-03-05T00:00:00",
          "2020-03-06T00:00:00",
          "2020-03-07T00:00:00",
          "2020-03-08T00:00:00",
          "2020-03-09T00:00:00",
          "2020-03-10T00:00:00",
          "2020-03-11T00:00:00",
          "2020-03-12T00:00:00",
          "2020-03-13T00:00:00",
          "2020-03-14T00:00:00",
          "2020-03-15T00:00:00"
         ],
         "y": [
          null,
          1.2576530612244898,
          1.3387423935091278,
          1.3363636363636362,
          1.2749433106575963,
          1.3739439751000446,
          1.3663430420711973,
          1.3424917100900047,
          1.3382145377558223,
          1.3065260382333552,
          1.3008072653884966
         ]
        },
        {
         "name": "China",
         "opacity": 0.8,
         "type": "scatter",
         "x": [
          "2020-01-28T00:00:00",
          "2020-01-29T00:00:00",
          "2020-01-30T00:00:00",
          "2020-01-31T00:00:00",
          "2020-02-01T00:00:00",
          "2020-02-02T00:00:00",
          "2020-02-03T00:00:00",
          "2020-02-04T00:00:00",
          "2020-02-05T00:00:00",
          "2020-02-06T00:00:00",
          "2020-02-07T00:00:00",
          "2020-02-08T00:00:00",
          "2020-02-09T00:00:00",
          "2020-02-10T00:00:00",
          "2020-02-11T00:00:00",
          "2020-02-12T00:00:00",
          "2020-02-13T00:00:00",
          "2020-02-14T00:00:00",
          "2020-02-15T00:00:00",
          "2020-02-16T00:00:00",
          "2020-02-17T00:00:00",
          "2020-02-18T00:00:00",
          "2020-02-19T00:00:00",
          "2020-02-20T00:00:00",
          "2020-02-21T00:00:00",
          "2020-02-22T00:00:00",
          "2020-02-23T00:00:00",
          "2020-02-24T00:00:00",
          "2020-02-25T00:00:00",
          "2020-02-26T00:00:00",
          "2020-02-27T00:00:00",
          "2020-02-28T00:00:00",
          "2020-02-29T00:00:00",
          "2020-03-01T00:00:00",
          "2020-03-02T00:00:00",
          "2020-03-03T00:00:00",
          "2020-03-04T00:00:00",
          "2020-03-05T00:00:00",
          "2020-03-06T00:00:00",
          "2020-03-07T00:00:00",
          "2020-03-08T00:00:00",
          "2020-03-09T00:00:00",
          "2020-03-10T00:00:00",
          "2020-03-11T00:00:00",
          "2020-03-12T00:00:00",
          "2020-03-13T00:00:00",
          "2020-03-14T00:00:00",
          "2020-03-15T00:00:00"
         ],
         "y": [
          null,
          1.3962655601659753,
          1.3841778961930624,
          1.3287803072367204,
          1.2920856896119453,
          1.3138070803328876,
          1.2763345750529236,
          1.2339796338202016,
          1.222487340321337,
          1.1913114628346415,
          1.173910554971275,
          1.1518944911354756,
          1.1227434340013969,
          1.1066808669057457,
          1.0880553225373766,
          1.0677794301815904,
          1.10741866082195,
          1.106729505836563,
          1.0944960301439914,
          1.0838374399580322,
          1.0758297662083605,
          1.0698873834819733,
          1.065398843145715,
          1.03121023429261,
          1.018324445551956,
          1.0168122830681046,
          1.0125316467881518,
          1.009140277687987,
          1.0066758240205305,
          1.0066390398754175,
          1.006550628380602,
          1.0062401400983496,
          1.0043233855688878,
          1.0053192753355622,
          1.005263856488544,
          1.00453450346554,
          1.0039972703325117,
          1.0034738225857651,
          1.0031490377741556,
          1.00251916094481,
          1.001583403232915,
          1.0012845921686009,
          1.0011092859281943,
          1.0009469814303136,
          1.0006985117279235,
          1.0004506231853583,
          1.0003656352338122,
          1.0003178274726536
         ]
        },
        {
         "name": "Iran",
         "opacity": 0.8,
         "type": "scatter",
         "x": [
          "2020-02-28T00:00:00",
          "2020-02-29T00:00:00",
          "2020-03-01T00:00:00",
          "2020-03-02T00:00:00",
          "2020-03-03T00:00:00",
          "2020-03-04T00:00:00",
          "2020-03-05T00:00:00",
          "2020-03-06T00:00:00",
          "2020-03-07T00:00:00",
          "2020-03-08T00:00:00",
          "2020-03-09T00:00:00",
          "2020-03-10T00:00:00",
          "2020-03-11T00:00:00",
          "2020-03-12T00:00:00",
          "2020-03-13T00:00:00",
          "2020-03-14T00:00:00",
          "2020-03-15T00:00:00"
         ],
         "y": [
          null,
          1.5655655655655654,
          1.5978260869565217,
          1.5762304921968786,
          1.5689261233815692,
          1.4503236245954692,
          1.3646100635947787,
          1.3563895020848664,
          1.3152501506931888,
          1.2560953253895508,
          1.2065090484530063,
          1.1725535260674973,
          1.1567545262289163,
          1.1463033978417907,
          1.1287003539891858,
          1.1190053592045632,
          1.113525416942575
         ]
        },
        {
         "name": "Korea, South",
         "opacity": 0.8,
         "type": "scatter",
         "x": [
          "2020-02-22T00:00:00",
          "2020-02-23T00:00:00",
          "2020-02-24T00:00:00",
          "2020-02-25T00:00:00",
          "2020-02-26T00:00:00",
          "2020-02-27T00:00:00",
          "2020-02-28T00:00:00",
          "2020-02-29T00:00:00",
          "2020-03-01T00:00:00",
          "2020-03-02T00:00:00",
          "2020-03-03T00:00:00",
          "2020-03-04T00:00:00",
          "2020-03-05T00:00:00",
          "2020-03-06T00:00:00",
          "2020-03-07T00:00:00",
          "2020-03-08T00:00:00",
          "2020-03-09T00:00:00",
          "2020-03-10T00:00:00",
          "2020-03-11T00:00:00",
          "2020-03-12T00:00:00",
          "2020-03-13T00:00:00",
          "2020-03-14T00:00:00",
          "2020-03-15T00:00:00"
         ],
         "y": [
          null,
          1.6647331786542925,
          1.559581881533101,
          1.422698838248436,
          1.3863065326633166,
          1.3765292251925692,
          1.3510533245556289,
          1.3309781946643926,
          1.2868387332967235,
          1.2490753911806542,
          1.239665186197472,
          1.2002664094437554,
          1.1653974206880717,
          1.139756345844416,
          1.1121034890086146,
          1.0926943005181347,
          1.0745175209825026,
          1.0513448511727455,
          1.0447867696440563,
          1.0357759832871318,
          1.026879739347982,
          1.0197359723507526,
          1.0157054487535653
         ]
        },
        {
         "name": "France",
         "opacity": 0.8,
         "type": "scatter",
         "x": [
          "2020-03-03T00:00:00",
          "2020-03-04T00:00:00",
          "2020-03-05T00:00:00",
          "2020-03-06T00:00:00",
          "2020-03-07T00:00:00",
          "2020-03-08T00:00:00",
          "2020-03-09T00:00:00",
          "2020-03-10T00:00:00",
          "2020-03-11T00:00:00",
          "2020-03-12T00:00:00",
          "2020-03-13T00:00:00",
          "2020-03-14T00:00:00",
          "2020-03-15T00:00:00"
         ],
         "y": [
          null,
          1.3658536585365852,
          1.3392857142857144,
          1.4437037037037037,
          1.439712673165726,
          1.3578047042052745,
          1.2692913385826772,
          1.3283705541770057,
          1.3114881693648819,
          1.2265875370919879,
          1.291852138571705,
          1.2638951310861424,
          1.20026077164701
         ]
        },
        {
         "name": "Cruise Ship",
         "opacity": 0.8,
         "type": "scatter",
         "x": [
          "2020-02-13T00:00:00",
          "2020-02-14T00:00:00",
          "2020-02-15T00:00:00",
          "2020-02-16T00:00:00",
          "2020-02-17T00:00:00",
          "2020-02-18T00:00:00",
          "2020-02-19T00:00:00",
          "2020-02-20T00:00:00",
          "2020-02-21T00:00:00",
          "2020-02-22T00:00:00",
          "2020-02-23T00:00:00",
          "2020-02-24T00:00:00",
          "2020-02-25T00:00:00",
          "2020-02-26T00:00:00",
          "2020-02-27T00:00:00",
          "2020-02-28T00:00:00",
          "2020-02-29T00:00:00",
          "2020-03-01T00:00:00",
          "2020-03-02T00:00:00",
          "2020-03-03T00:00:00",
          "2020-03-04T00:00:00",
          "2020-03-05T00:00:00",
          "2020-03-06T00:00:00",
          "2020-03-07T00:00:00",
          "2020-03-08T00:00:00",
          "2020-03-09T00:00:00",
          "2020-03-10T00:00:00",
          "2020-03-11T00:00:00",
          "2020-03-12T00:00:00",
          "2020-03-13T00:00:00",
          "2020-03-14T00:00:00",
          "2020-03-15T00:00:00"
         ],
         "y": [
          null,
          1.1947890818858562,
          1.2326064382139148,
          1.2451558550968829,
          1.215832205683356,
          1.226488592097941,
          1.2023593466424682,
          1.1732075471698113,
          1.133805082019942,
          1.0990070921985817,
          1.0867320598864223,
          1.0562945368171022,
          1.0335057342028333,
          1.0182767624020888,
          1.0151709401709401,
          1.0149442222689962,
          1.0147241808378267,
          1.0028612303290414,
          1.0028530670470757,
          1.0030481609428978,
          1.0002025931928689,
          1.0002025521571805,
          0.9981773997569866,
          0.9981740718198419,
          0.998170731707317,
          0.9981673793524741,
          0.9979600163198694,
          0.9979558462796402,
          0.9979516591560835,
          1,
          1,
          1
         ]
        },
        {
         "name": "Denmark",
         "opacity": 0.8,
         "type": "scatter",
         "x": [
          "2020-03-11T00:00:00",
          "2020-03-12T00:00:00",
          "2020-03-13T00:00:00",
          "2020-03-14T00:00:00",
          "2020-03-15T00:00:00"
         ],
         "y": [
          null,
          1.6763392857142858,
          1.5193075898801598,
          1.3558282208588956,
          1.270846800258565
         ]
        },
        {
         "name": "United Kingdom",
         "opacity": 0.8,
         "type": "scatter",
         "x": [
          "2020-03-07T00:00:00",
          "2020-03-08T00:00:00",
          "2020-03-09T00:00:00",
          "2020-03-10T00:00:00",
          "2020-03-11T00:00:00",
          "2020-03-12T00:00:00",
          "2020-03-13T00:00:00",
          "2020-03-14T00:00:00",
          "2020-03-15T00:00:00"
         ],
         "y": [
          null,
          1.34,
          1.300639658848614,
          1.2729508196721313,
          1.2401802962009016,
          1.1780893042575284,
          1.2807404142794183,
          1.3220922229869236,
          1.2264445601249347
         ]
        },
        {
         "line": {
          "width": 8
         },
         "name": "Countries with less than 1500",
         "type": "scatter",
         "x": [
          "2020-02-28T00:00:00",
          "2020-02-29T00:00:00",
          "2020-03-01T00:00:00",
          "2020-03-02T00:00:00",
          "2020-03-03T00:00:00",
          "2020-03-04T00:00:00",
          "2020-03-05T00:00:00",
          "2020-03-06T00:00:00",
          "2020-03-07T00:00:00",
          "2020-03-08T00:00:00",
          "2020-03-09T00:00:00",
          "2020-03-10T00:00:00",
          "2020-03-11T00:00:00",
          "2020-03-12T00:00:00",
          "2020-03-13T00:00:00",
          "2020-03-14T00:00:00",
          "2020-03-15T00:00:00"
         ],
         "y": [
          null,
          1.1747700394218135,
          1.1946308724832215,
          1.199438202247191,
          1.189695550351288,
          1.1981627296587924,
          1.2015334063526837,
          1.2283500455788514,
          1.2048237476808905,
          1.2380659069910689,
          1.2019900497512437,
          1.2274420529801324,
          1.2384083628393188,
          1.217562968005446,
          1.2931902046293189,
          1.3045395590142672,
          1.2760654868429775
         ]
        },
        {
         "line": {
          "width": 8
         },
         "name": "Countries with more than 1500",
         "type": "scatter",
         "x": [
          "2020-01-28T00:00:00",
          "2020-01-29T00:00:00",
          "2020-01-30T00:00:00",
          "2020-01-31T00:00:00",
          "2020-02-01T00:00:00",
          "2020-02-02T00:00:00",
          "2020-02-03T00:00:00",
          "2020-02-04T00:00:00",
          "2020-02-05T00:00:00",
          "2020-02-06T00:00:00",
          "2020-02-07T00:00:00",
          "2020-02-08T00:00:00",
          "2020-02-09T00:00:00",
          "2020-02-10T00:00:00",
          "2020-02-11T00:00:00",
          "2020-02-12T00:00:00",
          "2020-02-13T00:00:00",
          "2020-02-14T00:00:00",
          "2020-02-15T00:00:00",
          "2020-02-16T00:00:00",
          "2020-02-17T00:00:00",
          "2020-02-18T00:00:00",
          "2020-02-19T00:00:00",
          "2020-02-20T00:00:00",
          "2020-02-21T00:00:00",
          "2020-02-22T00:00:00",
          "2020-02-23T00:00:00",
          "2020-02-24T00:00:00",
          "2020-02-25T00:00:00",
          "2020-02-26T00:00:00",
          "2020-02-27T00:00:00",
          "2020-02-28T00:00:00",
          "2020-02-29T00:00:00",
          "2020-03-01T00:00:00",
          "2020-03-02T00:00:00",
          "2020-03-03T00:00:00",
          "2020-03-04T00:00:00",
          "2020-03-05T00:00:00",
          "2020-03-06T00:00:00",
          "2020-03-07T00:00:00",
          "2020-03-08T00:00:00",
          "2020-03-09T00:00:00",
          "2020-03-10T00:00:00",
          "2020-03-11T00:00:00",
          "2020-03-12T00:00:00",
          "2020-03-13T00:00:00",
          "2020-03-14T00:00:00",
          "2020-03-15T00:00:00"
         ],
         "y": [
          null,
          1.3950285996751643,
          1.382839787395596,
          1.3282451131122337,
          1.2916356621193332,
          1.3124799965860838,
          1.275230849265184,
          1.2331914025649524,
          1.221762772138028,
          1.19090247575855,
          1.1736791997044365,
          1.151707396802528,
          1.1226991285334342,
          1.1070375190778938,
          1.0883528361970896,
          1.06826421296818,
          1.1074454115909662,
          1.1066872495565918,
          1.0946869194104625,
          1.0842248526485307,
          1.0762367720898596,
          1.0704623605947956,
          1.0660043800341634,
          1.0322130077758347,
          1.0195815037932137,
          1.0184451086798805,
          1.0146784215615319,
          1.0117776787619863,
          1.0097051090136318,
          1.0104291510440147,
          1.0117325295217574,
          1.0128907468422959,
          1.0129178295780954,
          1.0161270032079281,
          1.0180978124430413,
          1.0205780569409562,
          1.022213543261219,
          1.0238953268123052,
          1.027137151476629,
          1.0296451601482106,
          1.0308772192113622,
          1.0325483519160934,
          1.0346264103453653,
          1.0398181433132778,
          1.0376823703742386,
          1.0513161503639827,
          1.0559522741008012,
          1.0606204504062404
         ]
        }
       ],
       "layout": {
        "template": {
         "data": {
          "bar": [
           {
            "error_x": {
             "color": "#2a3f5f"
            },
            "error_y": {
             "color": "#2a3f5f"
            },
            "marker": {
             "line": {
              "color": "#E5ECF6",
              "width": 0.5
             }
            },
            "type": "bar"
           }
          ],
          "barpolar": [
           {
            "marker": {
             "line": {
              "color": "#E5ECF6",
              "width": 0.5
             }
            },
            "type": "barpolar"
           }
          ],
          "carpet": [
           {
            "aaxis": {
             "endlinecolor": "#2a3f5f",
             "gridcolor": "white",
             "linecolor": "white",
             "minorgridcolor": "white",
             "startlinecolor": "#2a3f5f"
            },
            "baxis": {
             "endlinecolor": "#2a3f5f",
             "gridcolor": "white",
             "linecolor": "white",
             "minorgridcolor": "white",
             "startlinecolor": "#2a3f5f"
            },
            "type": "carpet"
           }
          ],
          "choropleth": [
           {
            "colorbar": {
             "outlinewidth": 0,
             "ticks": ""
            },
            "type": "choropleth"
           }
          ],
          "contour": [
           {
            "colorbar": {
             "outlinewidth": 0,
             "ticks": ""
            },
            "colorscale": [
             [
              0,
              "#0d0887"
             ],
             [
              0.1111111111111111,
              "#46039f"
             ],
             [
              0.2222222222222222,
              "#7201a8"
             ],
             [
              0.3333333333333333,
              "#9c179e"
             ],
             [
              0.4444444444444444,
              "#bd3786"
             ],
             [
              0.5555555555555556,
              "#d8576b"
             ],
             [
              0.6666666666666666,
              "#ed7953"
             ],
             [
              0.7777777777777778,
              "#fb9f3a"
             ],
             [
              0.8888888888888888,
              "#fdca26"
             ],
             [
              1,
              "#f0f921"
             ]
            ],
            "type": "contour"
           }
          ],
          "contourcarpet": [
           {
            "colorbar": {
             "outlinewidth": 0,
             "ticks": ""
            },
            "type": "contourcarpet"
           }
          ],
          "heatmap": [
           {
            "colorbar": {
             "outlinewidth": 0,
             "ticks": ""
            },
            "colorscale": [
             [
              0,
              "#0d0887"
             ],
             [
              0.1111111111111111,
              "#46039f"
             ],
             [
              0.2222222222222222,
              "#7201a8"
             ],
             [
              0.3333333333333333,
              "#9c179e"
             ],
             [
              0.4444444444444444,
              "#bd3786"
             ],
             [
              0.5555555555555556,
              "#d8576b"
             ],
             [
              0.6666666666666666,
              "#ed7953"
             ],
             [
              0.7777777777777778,
              "#fb9f3a"
             ],
             [
              0.8888888888888888,
              "#fdca26"
             ],
             [
              1,
              "#f0f921"
             ]
            ],
            "type": "heatmap"
           }
          ],
          "heatmapgl": [
           {
            "colorbar": {
             "outlinewidth": 0,
             "ticks": ""
            },
            "colorscale": [
             [
              0,
              "#0d0887"
             ],
             [
              0.1111111111111111,
              "#46039f"
             ],
             [
              0.2222222222222222,
              "#7201a8"
             ],
             [
              0.3333333333333333,
              "#9c179e"
             ],
             [
              0.4444444444444444,
              "#bd3786"
             ],
             [
              0.5555555555555556,
              "#d8576b"
             ],
             [
              0.6666666666666666,
              "#ed7953"
             ],
             [
              0.7777777777777778,
              "#fb9f3a"
             ],
             [
              0.8888888888888888,
              "#fdca26"
             ],
             [
              1,
              "#f0f921"
             ]
            ],
            "type": "heatmapgl"
           }
          ],
          "histogram": [
           {
            "marker": {
             "colorbar": {
              "outlinewidth": 0,
              "ticks": ""
             }
            },
            "type": "histogram"
           }
          ],
          "histogram2d": [
           {
            "colorbar": {
             "outlinewidth": 0,
             "ticks": ""
            },
            "colorscale": [
             [
              0,
              "#0d0887"
             ],
             [
              0.1111111111111111,
              "#46039f"
             ],
             [
              0.2222222222222222,
              "#7201a8"
             ],
             [
              0.3333333333333333,
              "#9c179e"
             ],
             [
              0.4444444444444444,
              "#bd3786"
             ],
             [
              0.5555555555555556,
              "#d8576b"
             ],
             [
              0.6666666666666666,
              "#ed7953"
             ],
             [
              0.7777777777777778,
              "#fb9f3a"
             ],
             [
              0.8888888888888888,
              "#fdca26"
             ],
             [
              1,
              "#f0f921"
             ]
            ],
            "type": "histogram2d"
           }
          ],
          "histogram2dcontour": [
           {
            "colorbar": {
             "outlinewidth": 0,
             "ticks": ""
            },
            "colorscale": [
             [
              0,
              "#0d0887"
             ],
             [
              0.1111111111111111,
              "#46039f"
             ],
             [
              0.2222222222222222,
              "#7201a8"
             ],
             [
              0.3333333333333333,
              "#9c179e"
             ],
             [
              0.4444444444444444,
              "#bd3786"
             ],
             [
              0.5555555555555556,
              "#d8576b"
             ],
             [
              0.6666666666666666,
              "#ed7953"
             ],
             [
              0.7777777777777778,
              "#fb9f3a"
             ],
             [
              0.8888888888888888,
              "#fdca26"
             ],
             [
              1,
              "#f0f921"
             ]
            ],
            "type": "histogram2dcontour"
           }
          ],
          "mesh3d": [
           {
            "colorbar": {
             "outlinewidth": 0,
             "ticks": ""
            },
            "type": "mesh3d"
           }
          ],
          "parcoords": [
           {
            "line": {
             "colorbar": {
              "outlinewidth": 0,
              "ticks": ""
             }
            },
            "type": "parcoords"
           }
          ],
          "scatter": [
           {
            "marker": {
             "colorbar": {
              "outlinewidth": 0,
              "ticks": ""
             }
            },
            "type": "scatter"
           }
          ],
          "scatter3d": [
           {
            "line": {
             "colorbar": {
              "outlinewidth": 0,
              "ticks": ""
             }
            },
            "marker": {
             "colorbar": {
              "outlinewidth": 0,
              "ticks": ""
             }
            },
            "type": "scatter3d"
           }
          ],
          "scattercarpet": [
           {
            "marker": {
             "colorbar": {
              "outlinewidth": 0,
              "ticks": ""
             }
            },
            "type": "scattercarpet"
           }
          ],
          "scattergeo": [
           {
            "marker": {
             "colorbar": {
              "outlinewidth": 0,
              "ticks": ""
             }
            },
            "type": "scattergeo"
           }
          ],
          "scattergl": [
           {
            "marker": {
             "colorbar": {
              "outlinewidth": 0,
              "ticks": ""
             }
            },
            "type": "scattergl"
           }
          ],
          "scattermapbox": [
           {
            "marker": {
             "colorbar": {
              "outlinewidth": 0,
              "ticks": ""
             }
            },
            "type": "scattermapbox"
           }
          ],
          "scatterpolar": [
           {
            "marker": {
             "colorbar": {
              "outlinewidth": 0,
              "ticks": ""
             }
            },
            "type": "scatterpolar"
           }
          ],
          "scatterpolargl": [
           {
            "marker": {
             "colorbar": {
              "outlinewidth": 0,
              "ticks": ""
             }
            },
            "type": "scatterpolargl"
           }
          ],
          "scatterternary": [
           {
            "marker": {
             "colorbar": {
              "outlinewidth": 0,
              "ticks": ""
             }
            },
            "type": "scatterternary"
           }
          ],
          "surface": [
           {
            "colorbar": {
             "outlinewidth": 0,
             "ticks": ""
            },
            "colorscale": [
             [
              0,
              "#0d0887"
             ],
             [
              0.1111111111111111,
              "#46039f"
             ],
             [
              0.2222222222222222,
              "#7201a8"
             ],
             [
              0.3333333333333333,
              "#9c179e"
             ],
             [
              0.4444444444444444,
              "#bd3786"
             ],
             [
              0.5555555555555556,
              "#d8576b"
             ],
             [
              0.6666666666666666,
              "#ed7953"
             ],
             [
              0.7777777777777778,
              "#fb9f3a"
             ],
             [
              0.8888888888888888,
              "#fdca26"
             ],
             [
              1,
              "#f0f921"
             ]
            ],
            "type": "surface"
           }
          ],
          "table": [
           {
            "cells": {
             "fill": {
              "color": "#EBF0F8"
             },
             "line": {
              "color": "white"
             }
            },
            "header": {
             "fill": {
              "color": "#C8D4E3"
             },
             "line": {
              "color": "white"
             }
            },
            "type": "table"
           }
          ]
         },
         "layout": {
          "annotationdefaults": {
           "arrowcolor": "#2a3f5f",
           "arrowhead": 0,
           "arrowwidth": 1
          },
          "colorscale": {
           "diverging": [
            [
             0,
             "#8e0152"
            ],
            [
             0.1,
             "#c51b7d"
            ],
            [
             0.2,
             "#de77ae"
            ],
            [
             0.3,
             "#f1b6da"
            ],
            [
             0.4,
             "#fde0ef"
            ],
            [
             0.5,
             "#f7f7f7"
            ],
            [
             0.6,
             "#e6f5d0"
            ],
            [
             0.7,
             "#b8e186"
            ],
            [
             0.8,
             "#7fbc41"
            ],
            [
             0.9,
             "#4d9221"
            ],
            [
             1,
             "#276419"
            ]
           ],
           "sequential": [
            [
             0,
             "#0d0887"
            ],
            [
             0.1111111111111111,
             "#46039f"
            ],
            [
             0.2222222222222222,
             "#7201a8"
            ],
            [
             0.3333333333333333,
             "#9c179e"
            ],
            [
             0.4444444444444444,
             "#bd3786"
            ],
            [
             0.5555555555555556,
             "#d8576b"
            ],
            [
             0.6666666666666666,
             "#ed7953"
            ],
            [
             0.7777777777777778,
             "#fb9f3a"
            ],
            [
             0.8888888888888888,
             "#fdca26"
            ],
            [
             1,
             "#f0f921"
            ]
           ],
           "sequentialminus": [
            [
             0,
             "#0d0887"
            ],
            [
             0.1111111111111111,
             "#46039f"
            ],
            [
             0.2222222222222222,
             "#7201a8"
            ],
            [
             0.3333333333333333,
             "#9c179e"
            ],
            [
             0.4444444444444444,
             "#bd3786"
            ],
            [
             0.5555555555555556,
             "#d8576b"
            ],
            [
             0.6666666666666666,
             "#ed7953"
            ],
            [
             0.7777777777777778,
             "#fb9f3a"
            ],
            [
             0.8888888888888888,
             "#fdca26"
            ],
            [
             1,
             "#f0f921"
            ]
           ]
          },
          "colorway": [
           "#636efa",
           "#EF553B",
           "#00cc96",
           "#ab63fa",
           "#FFA15A",
           "#19d3f3",
           "#FF6692",
           "#B6E880",
           "#FF97FF",
           "#FECB52"
          ],
          "font": {
           "color": "#2a3f5f"
          },
          "geo": {
           "bgcolor": "white",
           "lakecolor": "white",
           "landcolor": "#E5ECF6",
           "showlakes": true,
           "showland": true,
           "subunitcolor": "white"
          },
          "hoverlabel": {
           "align": "left"
          },
          "hovermode": "closest",
          "mapbox": {
           "style": "light"
          },
          "paper_bgcolor": "white",
          "plot_bgcolor": "#E5ECF6",
          "polar": {
           "angularaxis": {
            "gridcolor": "white",
            "linecolor": "white",
            "ticks": ""
           },
           "bgcolor": "#E5ECF6",
           "radialaxis": {
            "gridcolor": "white",
            "linecolor": "white",
            "ticks": ""
           }
          },
          "scene": {
           "xaxis": {
            "backgroundcolor": "#E5ECF6",
            "gridcolor": "white",
            "gridwidth": 2,
            "linecolor": "white",
            "showbackground": true,
            "ticks": "",
            "zerolinecolor": "white"
           },
           "yaxis": {
            "backgroundcolor": "#E5ECF6",
            "gridcolor": "white",
            "gridwidth": 2,
            "linecolor": "white",
            "showbackground": true,
            "ticks": "",
            "zerolinecolor": "white"
           },
           "zaxis": {
            "backgroundcolor": "#E5ECF6",
            "gridcolor": "white",
            "gridwidth": 2,
            "linecolor": "white",
            "showbackground": true,
            "ticks": "",
            "zerolinecolor": "white"
           }
          },
          "shapedefaults": {
           "line": {
            "color": "#2a3f5f"
           }
          },
          "ternary": {
           "aaxis": {
            "gridcolor": "white",
            "linecolor": "white",
            "ticks": ""
           },
           "baxis": {
            "gridcolor": "white",
            "linecolor": "white",
            "ticks": ""
           },
           "bgcolor": "#E5ECF6",
           "caxis": {
            "gridcolor": "white",
            "linecolor": "white",
            "ticks": ""
           }
          },
          "title": {
           "x": 0.05
          },
          "xaxis": {
           "automargin": true,
           "gridcolor": "white",
           "linecolor": "white",
           "ticks": "",
           "zerolinecolor": "white",
           "zerolinewidth": 2
          },
          "yaxis": {
           "automargin": true,
           "gridcolor": "white",
           "linecolor": "white",
           "ticks": "",
           "zerolinecolor": "white",
           "zerolinewidth": 2
          }
         }
        }
       }
      },
      "text/html": [
       "<div>\n",
       "        \n",
       "        \n",
       "            <div id=\"4cb39c71-9445-4f0b-b03c-70edf294cfb9\" class=\"plotly-graph-div\" style=\"height:525px; width:100%;\"></div>\n",
       "            <script type=\"text/javascript\">\n",
       "                require([\"plotly\"], function(Plotly) {\n",
       "                    window.PLOTLYENV=window.PLOTLYENV || {};\n",
       "                    \n",
       "                if (document.getElementById(\"4cb39c71-9445-4f0b-b03c-70edf294cfb9\")) {\n",
       "                    Plotly.newPlot(\n",
       "                        '4cb39c71-9445-4f0b-b03c-70edf294cfb9',\n",
       "                        [{\"name\": \"Thailand\", \"opacity\": 0.8, \"type\": \"scatter\", \"x\": [], \"y\": []}, {\"name\": \"Japan\", \"opacity\": 0.8, \"type\": \"scatter\", \"x\": [\"2020-02-24T00:00:00\", \"2020-02-25T00:00:00\", \"2020-02-26T00:00:00\", \"2020-02-27T00:00:00\", \"2020-02-28T00:00:00\", \"2020-02-29T00:00:00\", \"2020-03-01T00:00:00\", \"2020-03-02T00:00:00\", \"2020-03-03T00:00:00\", \"2020-03-04T00:00:00\", \"2020-03-05T00:00:00\", \"2020-03-06T00:00:00\", \"2020-03-07T00:00:00\", \"2020-03-08T00:00:00\", \"2020-03-09T00:00:00\", \"2020-03-10T00:00:00\", \"2020-03-11T00:00:00\", \"2020-03-12T00:00:00\", \"2020-03-13T00:00:00\", \"2020-03-14T00:00:00\", \"2020-03-15T00:00:00\"], \"y\": [null, 1.1222929936305732, 1.1191827468785471, 1.1217038539553752, 1.1112115732368897, 1.096826688364524, 1.080860534124629, 1.0789293067947838, 1.0782442748091603, 1.0837758112094396, 1.079477408818726, 1.0968229954614221, 1.1011494252873564, 1.1027139874739038, 1.0897387353275276, 1.1000694927032661, 1.0972836386607707, 1.0803108808290154, 1.074873434585665, 1.0773425880019831, 1.0775425678785089]}, {\"name\": \"Singapore\", \"opacity\": 0.8, \"type\": \"scatter\", \"x\": [\"2020-03-03T00:00:00\", \"2020-03-04T00:00:00\", \"2020-03-05T00:00:00\", \"2020-03-06T00:00:00\", \"2020-03-07T00:00:00\", \"2020-03-08T00:00:00\", \"2020-03-09T00:00:00\", \"2020-03-10T00:00:00\", \"2020-03-11T00:00:00\", \"2020-03-12T00:00:00\", \"2020-03-13T00:00:00\", \"2020-03-14T00:00:00\", \"2020-03-15T00:00:00\"], \"y\": [null, 1.0241134751773049, 1.033240997229917, 1.0495978552278822, 1.0459770114942528, 1.0537240537240538, 1.048667439165701, 1.0552486187845305, 1.0712041884816754, 1.0596285434995112, 1.0645756457564575, 1.0641247833622183, 1.0618892508143323]}, {\"name\": \"Malaysia\", \"opacity\": 0.8, \"type\": \"scatter\", \"x\": [\"2020-03-11T00:00:00\", \"2020-03-12T00:00:00\", \"2020-03-13T00:00:00\", \"2020-03-14T00:00:00\", \"2020-03-15T00:00:00\"], \"y\": [null, 1.1375, 1.1391941391941391, 1.1554126473740622, 1.3051948051948052]}, {\"name\": \"Canada\", \"opacity\": 0.8, \"type\": \"scatter\", \"x\": [\"2020-03-14T00:00:00\", \"2020-03-15T00:00:00\"], \"y\": [null, 1.2248803827751196]}, {\"name\": \"Australia\", \"opacity\": 0.8, \"type\": \"scatter\", \"x\": [\"2020-03-13T00:00:00\", \"2020-03-14T00:00:00\", \"2020-03-15T00:00:00\"], \"y\": [null, 1.235813366960908, 1.2255102040816328]}, {\"name\": \"Germany\", \"opacity\": 0.8, \"type\": \"scatter\", \"x\": [\"2020-03-04T00:00:00\", \"2020-03-05T00:00:00\", \"2020-03-06T00:00:00\", \"2020-03-07T00:00:00\", \"2020-03-08T00:00:00\", \"2020-03-09T00:00:00\", \"2020-03-10T00:00:00\", \"2020-03-11T00:00:00\", \"2020-03-12T00:00:00\", \"2020-03-13T00:00:00\", \"2020-03-14T00:00:00\", \"2020-03-15T00:00:00\"], \"y\": [null, 1.473913043478261, 1.458702064896755, 1.3640040444893833, 1.3372868791697554, 1.2818736141906872, 1.2726486486486488, 1.2796466190961604, 1.211895910780669, 1.3292068361086766, 1.3120415396027365, 1.2986996670645141]}, {\"name\": \"Italy\", \"opacity\": 0.8, \"type\": \"scatter\", \"x\": [\"2020-02-25T00:00:00\", \"2020-02-26T00:00:00\", \"2020-02-27T00:00:00\", \"2020-02-28T00:00:00\", \"2020-02-29T00:00:00\", \"2020-03-01T00:00:00\", \"2020-03-02T00:00:00\", \"2020-03-03T00:00:00\", \"2020-03-04T00:00:00\", \"2020-03-05T00:00:00\", \"2020-03-06T00:00:00\", \"2020-03-07T00:00:00\", \"2020-03-08T00:00:00\", \"2020-03-09T00:00:00\", \"2020-03-10T00:00:00\", \"2020-03-11T00:00:00\", \"2020-03-12T00:00:00\", \"2020-03-13T00:00:00\", \"2020-03-14T00:00:00\", \"2020-03-15T00:00:00\"], \"y\": [null, 1.566750629722922, 1.5241157556270095, 1.4578059071729959, 1.385672937771346, 1.4018276762402089, 1.3365617433414043, 1.3037904124860649, 1.2817443351859767, 1.26709472981988, 1.2466600855544587, 1.2510162065142796, 1.2397248712971558, 1.242894584567208, 1.209420785978365, 1.212241293419682, 1.1607172877556737, 1.2095946185165516, 1.2032116866011202, 1.1920895208819398]}, {\"name\": \"Sweden\", \"opacity\": 0.8, \"type\": \"scatter\", \"x\": [\"2020-03-09T00:00:00\", \"2020-03-10T00:00:00\", \"2020-03-11T00:00:00\", \"2020-03-12T00:00:00\", \"2020-03-13T00:00:00\", \"2020-03-14T00:00:00\", \"2020-03-15T00:00:00\"], \"y\": [null, 1.3870220162224796, 1.3884711779448622, 1.3038507821901324, 1.3290263036455932, 1.2777777777777777, 1.222554347826087]}, {\"name\": \"Spain\", \"opacity\": 0.8, \"type\": \"scatter\", \"x\": [\"2020-03-05T00:00:00\", \"2020-03-06T00:00:00\", \"2020-03-07T00:00:00\", \"2020-03-08T00:00:00\", \"2020-03-09T00:00:00\", \"2020-03-10T00:00:00\", \"2020-03-11T00:00:00\", \"2020-03-12T00:00:00\", \"2020-03-13T00:00:00\", \"2020-03-14T00:00:00\", \"2020-03-15T00:00:00\"], \"y\": [null, 1.3969795037756203, 1.3513513513513513, 1.3365714285714287, 1.4074390765284308, 1.4647630619684084, 1.426171712982165, 1.2934419078086374, 1.5432265317594154, 1.4291542216070516, 1.3631868692017537]}, {\"name\": \"Belgium\", \"opacity\": 0.8, \"type\": \"scatter\", \"x\": [\"2020-03-09T00:00:00\", \"2020-03-10T00:00:00\", \"2020-03-11T00:00:00\", \"2020-03-12T00:00:00\", \"2020-03-13T00:00:00\", \"2020-03-14T00:00:00\", \"2020-03-15T00:00:00\"], \"y\": [null, 1.3163138231631384, 1.2753074739829708, 1.1958456973293767, 1.2791563275434243, 1.2521823472356934, 1.26568551510457]}, {\"name\": \"Bahrain\", \"opacity\": 0.8, \"type\": \"scatter\", \"x\": [\"2020-03-12T00:00:00\", \"2020-03-13T00:00:00\", \"2020-03-14T00:00:00\", \"2020-03-15T00:00:00\"], \"y\": [null, 1.1563636363636363, 1.131027253668763, 1.1195551436515292]}, {\"name\": \"Switzerland\", \"opacity\": 0.8, \"type\": \"scatter\", \"x\": [\"2020-03-07T00:00:00\", \"2020-03-08T00:00:00\", \"2020-03-09T00:00:00\", \"2020-03-10T00:00:00\", \"2020-03-11T00:00:00\", \"2020-03-12T00:00:00\", \"2020-03-13T00:00:00\", \"2020-03-14T00:00:00\", \"2020-03-15T00:00:00\"], \"y\": [null, 1.3822441430332921, 1.2961641391614631, 1.2993805918788712, 1.2976694915254237, 1.2195918367346938, 1.3095716198125837, 1.2788142090467673, 1.3723021582733812]}, {\"name\": \"Austria\", \"opacity\": 0.8, \"type\": \"scatter\", \"x\": [\"2020-03-11T00:00:00\", \"2020-03-12T00:00:00\", \"2020-03-13T00:00:00\", \"2020-03-14T00:00:00\", \"2020-03-15T00:00:00\"], \"y\": [null, 1.31145584725537, 1.4085532302092811, 1.372093023255814, 1.3559322033898304]}, {\"name\": \"Norway\", \"opacity\": 0.8, \"type\": \"scatter\", \"x\": [\"2020-03-09T00:00:00\", \"2020-03-10T00:00:00\", \"2020-03-11T00:00:00\", \"2020-03-12T00:00:00\", \"2020-03-13T00:00:00\", \"2020-03-14T00:00:00\", \"2020-03-15T00:00:00\"], \"y\": [null, 1.4537607891491984, 1.4597116200169638, 1.357350377687391, 1.3801369863013697, 1.2924937965260548, 1.2507799376049915]}, {\"name\": \"Netherlands\", \"opacity\": 0.8, \"type\": \"scatter\", \"x\": [\"2020-03-08T00:00:00\", \"2020-03-09T00:00:00\", \"2020-03-10T00:00:00\", \"2020-03-11T00:00:00\", \"2020-03-12T00:00:00\", \"2020-03-13T00:00:00\", \"2020-03-14T00:00:00\", \"2020-03-15T00:00:00\"], \"y\": [null, 1.4078061911170927, 1.3422562141491399, 1.3311965811965811, 1.2252541466024613, 1.2951965065502182, 1.2599460552933244, 1.2328070644902327]}, {\"name\": \"Qatar\", \"opacity\": 0.8, \"type\": \"scatter\", \"x\": [\"2020-03-13T00:00:00\", \"2020-03-14T00:00:00\", \"2020-03-15T00:00:00\"], \"y\": [null, 1.361936193619362, 1.3117932148626816]}, {\"name\": \"US\", \"opacity\": 0.8, \"type\": \"scatter\", \"x\": [\"2020-03-05T00:00:00\", \"2020-03-06T00:00:00\", \"2020-03-07T00:00:00\", \"2020-03-08T00:00:00\", \"2020-03-09T00:00:00\", \"2020-03-10T00:00:00\", \"2020-03-11T00:00:00\", \"2020-03-12T00:00:00\", \"2020-03-13T00:00:00\", \"2020-03-14T00:00:00\", \"2020-03-15T00:00:00\"], \"y\": [null, 1.2576530612244898, 1.3387423935091278, 1.3363636363636362, 1.2749433106575963, 1.3739439751000446, 1.3663430420711973, 1.3424917100900047, 1.3382145377558223, 1.3065260382333552, 1.3008072653884966]}, {\"name\": \"China\", \"opacity\": 0.8, \"type\": \"scatter\", \"x\": [\"2020-01-28T00:00:00\", \"2020-01-29T00:00:00\", \"2020-01-30T00:00:00\", \"2020-01-31T00:00:00\", \"2020-02-01T00:00:00\", \"2020-02-02T00:00:00\", \"2020-02-03T00:00:00\", \"2020-02-04T00:00:00\", \"2020-02-05T00:00:00\", \"2020-02-06T00:00:00\", \"2020-02-07T00:00:00\", \"2020-02-08T00:00:00\", \"2020-02-09T00:00:00\", \"2020-02-10T00:00:00\", \"2020-02-11T00:00:00\", \"2020-02-12T00:00:00\", \"2020-02-13T00:00:00\", \"2020-02-14T00:00:00\", \"2020-02-15T00:00:00\", \"2020-02-16T00:00:00\", \"2020-02-17T00:00:00\", \"2020-02-18T00:00:00\", \"2020-02-19T00:00:00\", \"2020-02-20T00:00:00\", \"2020-02-21T00:00:00\", \"2020-02-22T00:00:00\", \"2020-02-23T00:00:00\", \"2020-02-24T00:00:00\", \"2020-02-25T00:00:00\", \"2020-02-26T00:00:00\", \"2020-02-27T00:00:00\", \"2020-02-28T00:00:00\", \"2020-02-29T00:00:00\", \"2020-03-01T00:00:00\", \"2020-03-02T00:00:00\", \"2020-03-03T00:00:00\", \"2020-03-04T00:00:00\", \"2020-03-05T00:00:00\", \"2020-03-06T00:00:00\", \"2020-03-07T00:00:00\", \"2020-03-08T00:00:00\", \"2020-03-09T00:00:00\", \"2020-03-10T00:00:00\", \"2020-03-11T00:00:00\", \"2020-03-12T00:00:00\", \"2020-03-13T00:00:00\", \"2020-03-14T00:00:00\", \"2020-03-15T00:00:00\"], \"y\": [null, 1.3962655601659753, 1.3841778961930624, 1.3287803072367204, 1.2920856896119453, 1.3138070803328876, 1.2763345750529236, 1.2339796338202016, 1.222487340321337, 1.1913114628346415, 1.173910554971275, 1.1518944911354756, 1.1227434340013969, 1.1066808669057457, 1.0880553225373766, 1.0677794301815904, 1.10741866082195, 1.106729505836563, 1.0944960301439914, 1.0838374399580322, 1.0758297662083605, 1.0698873834819733, 1.065398843145715, 1.03121023429261, 1.018324445551956, 1.0168122830681046, 1.0125316467881518, 1.009140277687987, 1.0066758240205305, 1.0066390398754175, 1.006550628380602, 1.0062401400983496, 1.0043233855688878, 1.0053192753355622, 1.005263856488544, 1.00453450346554, 1.0039972703325117, 1.0034738225857651, 1.0031490377741556, 1.00251916094481, 1.001583403232915, 1.0012845921686009, 1.0011092859281943, 1.0009469814303136, 1.0006985117279235, 1.0004506231853583, 1.0003656352338122, 1.0003178274726536]}, {\"name\": \"Iran\", \"opacity\": 0.8, \"type\": \"scatter\", \"x\": [\"2020-02-28T00:00:00\", \"2020-02-29T00:00:00\", \"2020-03-01T00:00:00\", \"2020-03-02T00:00:00\", \"2020-03-03T00:00:00\", \"2020-03-04T00:00:00\", \"2020-03-05T00:00:00\", \"2020-03-06T00:00:00\", \"2020-03-07T00:00:00\", \"2020-03-08T00:00:00\", \"2020-03-09T00:00:00\", \"2020-03-10T00:00:00\", \"2020-03-11T00:00:00\", \"2020-03-12T00:00:00\", \"2020-03-13T00:00:00\", \"2020-03-14T00:00:00\", \"2020-03-15T00:00:00\"], \"y\": [null, 1.5655655655655654, 1.5978260869565217, 1.5762304921968786, 1.5689261233815692, 1.4503236245954692, 1.3646100635947787, 1.3563895020848664, 1.3152501506931888, 1.2560953253895508, 1.2065090484530063, 1.1725535260674973, 1.1567545262289163, 1.1463033978417907, 1.1287003539891858, 1.1190053592045632, 1.113525416942575]}, {\"name\": \"Korea, South\", \"opacity\": 0.8, \"type\": \"scatter\", \"x\": [\"2020-02-22T00:00:00\", \"2020-02-23T00:00:00\", \"2020-02-24T00:00:00\", \"2020-02-25T00:00:00\", \"2020-02-26T00:00:00\", \"2020-02-27T00:00:00\", \"2020-02-28T00:00:00\", \"2020-02-29T00:00:00\", \"2020-03-01T00:00:00\", \"2020-03-02T00:00:00\", \"2020-03-03T00:00:00\", \"2020-03-04T00:00:00\", \"2020-03-05T00:00:00\", \"2020-03-06T00:00:00\", \"2020-03-07T00:00:00\", \"2020-03-08T00:00:00\", \"2020-03-09T00:00:00\", \"2020-03-10T00:00:00\", \"2020-03-11T00:00:00\", \"2020-03-12T00:00:00\", \"2020-03-13T00:00:00\", \"2020-03-14T00:00:00\", \"2020-03-15T00:00:00\"], \"y\": [null, 1.6647331786542925, 1.559581881533101, 1.422698838248436, 1.3863065326633166, 1.3765292251925692, 1.3510533245556289, 1.3309781946643926, 1.2868387332967235, 1.2490753911806542, 1.239665186197472, 1.2002664094437554, 1.1653974206880717, 1.139756345844416, 1.1121034890086146, 1.0926943005181347, 1.0745175209825026, 1.0513448511727455, 1.0447867696440563, 1.0357759832871318, 1.026879739347982, 1.0197359723507526, 1.0157054487535653]}, {\"name\": \"France\", \"opacity\": 0.8, \"type\": \"scatter\", \"x\": [\"2020-03-03T00:00:00\", \"2020-03-04T00:00:00\", \"2020-03-05T00:00:00\", \"2020-03-06T00:00:00\", \"2020-03-07T00:00:00\", \"2020-03-08T00:00:00\", \"2020-03-09T00:00:00\", \"2020-03-10T00:00:00\", \"2020-03-11T00:00:00\", \"2020-03-12T00:00:00\", \"2020-03-13T00:00:00\", \"2020-03-14T00:00:00\", \"2020-03-15T00:00:00\"], \"y\": [null, 1.3658536585365852, 1.3392857142857144, 1.4437037037037037, 1.439712673165726, 1.3578047042052745, 1.2692913385826772, 1.3283705541770057, 1.3114881693648819, 1.2265875370919879, 1.291852138571705, 1.2638951310861424, 1.20026077164701]}, {\"name\": \"Cruise Ship\", \"opacity\": 0.8, \"type\": \"scatter\", \"x\": [\"2020-02-13T00:00:00\", \"2020-02-14T00:00:00\", \"2020-02-15T00:00:00\", \"2020-02-16T00:00:00\", \"2020-02-17T00:00:00\", \"2020-02-18T00:00:00\", \"2020-02-19T00:00:00\", \"2020-02-20T00:00:00\", \"2020-02-21T00:00:00\", \"2020-02-22T00:00:00\", \"2020-02-23T00:00:00\", \"2020-02-24T00:00:00\", \"2020-02-25T00:00:00\", \"2020-02-26T00:00:00\", \"2020-02-27T00:00:00\", \"2020-02-28T00:00:00\", \"2020-02-29T00:00:00\", \"2020-03-01T00:00:00\", \"2020-03-02T00:00:00\", \"2020-03-03T00:00:00\", \"2020-03-04T00:00:00\", \"2020-03-05T00:00:00\", \"2020-03-06T00:00:00\", \"2020-03-07T00:00:00\", \"2020-03-08T00:00:00\", \"2020-03-09T00:00:00\", \"2020-03-10T00:00:00\", \"2020-03-11T00:00:00\", \"2020-03-12T00:00:00\", \"2020-03-13T00:00:00\", \"2020-03-14T00:00:00\", \"2020-03-15T00:00:00\"], \"y\": [null, 1.1947890818858562, 1.2326064382139148, 1.2451558550968829, 1.215832205683356, 1.226488592097941, 1.2023593466424682, 1.1732075471698113, 1.133805082019942, 1.0990070921985817, 1.0867320598864223, 1.0562945368171022, 1.0335057342028333, 1.0182767624020888, 1.0151709401709401, 1.0149442222689962, 1.0147241808378267, 1.0028612303290414, 1.0028530670470757, 1.0030481609428978, 1.0002025931928689, 1.0002025521571805, 0.9981773997569866, 0.9981740718198419, 0.998170731707317, 0.9981673793524741, 0.9979600163198694, 0.9979558462796402, 0.9979516591560835, 1.0, 1.0, 1.0]}, {\"name\": \"Denmark\", \"opacity\": 0.8, \"type\": \"scatter\", \"x\": [\"2020-03-11T00:00:00\", \"2020-03-12T00:00:00\", \"2020-03-13T00:00:00\", \"2020-03-14T00:00:00\", \"2020-03-15T00:00:00\"], \"y\": [null, 1.6763392857142858, 1.5193075898801598, 1.3558282208588956, 1.270846800258565]}, {\"name\": \"United Kingdom\", \"opacity\": 0.8, \"type\": \"scatter\", \"x\": [\"2020-03-07T00:00:00\", \"2020-03-08T00:00:00\", \"2020-03-09T00:00:00\", \"2020-03-10T00:00:00\", \"2020-03-11T00:00:00\", \"2020-03-12T00:00:00\", \"2020-03-13T00:00:00\", \"2020-03-14T00:00:00\", \"2020-03-15T00:00:00\"], \"y\": [null, 1.34, 1.300639658848614, 1.2729508196721313, 1.2401802962009016, 1.1780893042575284, 1.2807404142794183, 1.3220922229869236, 1.2264445601249347]}, {\"line\": {\"width\": 8}, \"name\": \"Countries with less than 1500\", \"type\": \"scatter\", \"x\": [\"2020-02-28T00:00:00\", \"2020-02-29T00:00:00\", \"2020-03-01T00:00:00\", \"2020-03-02T00:00:00\", \"2020-03-03T00:00:00\", \"2020-03-04T00:00:00\", \"2020-03-05T00:00:00\", \"2020-03-06T00:00:00\", \"2020-03-07T00:00:00\", \"2020-03-08T00:00:00\", \"2020-03-09T00:00:00\", \"2020-03-10T00:00:00\", \"2020-03-11T00:00:00\", \"2020-03-12T00:00:00\", \"2020-03-13T00:00:00\", \"2020-03-14T00:00:00\", \"2020-03-15T00:00:00\"], \"y\": [null, 1.1747700394218135, 1.1946308724832215, 1.199438202247191, 1.189695550351288, 1.1981627296587924, 1.2015334063526837, 1.2283500455788514, 1.2048237476808905, 1.2380659069910689, 1.2019900497512437, 1.2274420529801324, 1.2384083628393188, 1.217562968005446, 1.2931902046293189, 1.3045395590142672, 1.2760654868429775]}, {\"line\": {\"width\": 8}, \"name\": \"Countries with more than 1500\", \"type\": \"scatter\", \"x\": [\"2020-01-28T00:00:00\", \"2020-01-29T00:00:00\", \"2020-01-30T00:00:00\", \"2020-01-31T00:00:00\", \"2020-02-01T00:00:00\", \"2020-02-02T00:00:00\", \"2020-02-03T00:00:00\", \"2020-02-04T00:00:00\", \"2020-02-05T00:00:00\", \"2020-02-06T00:00:00\", \"2020-02-07T00:00:00\", \"2020-02-08T00:00:00\", \"2020-02-09T00:00:00\", \"2020-02-10T00:00:00\", \"2020-02-11T00:00:00\", \"2020-02-12T00:00:00\", \"2020-02-13T00:00:00\", \"2020-02-14T00:00:00\", \"2020-02-15T00:00:00\", \"2020-02-16T00:00:00\", \"2020-02-17T00:00:00\", \"2020-02-18T00:00:00\", \"2020-02-19T00:00:00\", \"2020-02-20T00:00:00\", \"2020-02-21T00:00:00\", \"2020-02-22T00:00:00\", \"2020-02-23T00:00:00\", \"2020-02-24T00:00:00\", \"2020-02-25T00:00:00\", \"2020-02-26T00:00:00\", \"2020-02-27T00:00:00\", \"2020-02-28T00:00:00\", \"2020-02-29T00:00:00\", \"2020-03-01T00:00:00\", \"2020-03-02T00:00:00\", \"2020-03-03T00:00:00\", \"2020-03-04T00:00:00\", \"2020-03-05T00:00:00\", \"2020-03-06T00:00:00\", \"2020-03-07T00:00:00\", \"2020-03-08T00:00:00\", \"2020-03-09T00:00:00\", \"2020-03-10T00:00:00\", \"2020-03-11T00:00:00\", \"2020-03-12T00:00:00\", \"2020-03-13T00:00:00\", \"2020-03-14T00:00:00\", \"2020-03-15T00:00:00\"], \"y\": [null, 1.3950285996751643, 1.382839787395596, 1.3282451131122337, 1.2916356621193332, 1.3124799965860838, 1.275230849265184, 1.2331914025649524, 1.221762772138028, 1.19090247575855, 1.1736791997044365, 1.151707396802528, 1.1226991285334342, 1.1070375190778938, 1.0883528361970896, 1.06826421296818, 1.1074454115909662, 1.1066872495565918, 1.0946869194104625, 1.0842248526485307, 1.0762367720898596, 1.0704623605947956, 1.0660043800341634, 1.0322130077758347, 1.0195815037932137, 1.0184451086798805, 1.0146784215615319, 1.0117776787619863, 1.0097051090136318, 1.0104291510440147, 1.0117325295217574, 1.0128907468422959, 1.0129178295780954, 1.0161270032079281, 1.0180978124430413, 1.0205780569409562, 1.022213543261219, 1.0238953268123052, 1.027137151476629, 1.0296451601482106, 1.0308772192113622, 1.0325483519160934, 1.0346264103453653, 1.0398181433132778, 1.0376823703742386, 1.0513161503639827, 1.0559522741008012, 1.0606204504062404]}],\n",
       "                        {\"template\": {\"data\": {\"bar\": [{\"error_x\": {\"color\": \"#2a3f5f\"}, \"error_y\": {\"color\": \"#2a3f5f\"}, \"marker\": {\"line\": {\"color\": \"#E5ECF6\", \"width\": 0.5}}, \"type\": \"bar\"}], \"barpolar\": [{\"marker\": {\"line\": {\"color\": \"#E5ECF6\", \"width\": 0.5}}, \"type\": \"barpolar\"}], \"carpet\": [{\"aaxis\": {\"endlinecolor\": \"#2a3f5f\", \"gridcolor\": \"white\", \"linecolor\": \"white\", \"minorgridcolor\": \"white\", \"startlinecolor\": \"#2a3f5f\"}, \"baxis\": {\"endlinecolor\": \"#2a3f5f\", \"gridcolor\": \"white\", \"linecolor\": \"white\", \"minorgridcolor\": \"white\", \"startlinecolor\": \"#2a3f5f\"}, \"type\": \"carpet\"}], \"choropleth\": [{\"colorbar\": {\"outlinewidth\": 0, \"ticks\": \"\"}, \"type\": \"choropleth\"}], \"contour\": [{\"colorbar\": {\"outlinewidth\": 0, \"ticks\": \"\"}, \"colorscale\": [[0.0, \"#0d0887\"], [0.1111111111111111, \"#46039f\"], [0.2222222222222222, \"#7201a8\"], [0.3333333333333333, \"#9c179e\"], [0.4444444444444444, \"#bd3786\"], [0.5555555555555556, \"#d8576b\"], [0.6666666666666666, \"#ed7953\"], [0.7777777777777778, \"#fb9f3a\"], [0.8888888888888888, \"#fdca26\"], [1.0, \"#f0f921\"]], \"type\": \"contour\"}], \"contourcarpet\": [{\"colorbar\": {\"outlinewidth\": 0, \"ticks\": \"\"}, \"type\": \"contourcarpet\"}], \"heatmap\": [{\"colorbar\": {\"outlinewidth\": 0, \"ticks\": \"\"}, \"colorscale\": [[0.0, \"#0d0887\"], [0.1111111111111111, \"#46039f\"], [0.2222222222222222, \"#7201a8\"], [0.3333333333333333, \"#9c179e\"], [0.4444444444444444, \"#bd3786\"], [0.5555555555555556, \"#d8576b\"], [0.6666666666666666, \"#ed7953\"], [0.7777777777777778, \"#fb9f3a\"], [0.8888888888888888, \"#fdca26\"], [1.0, \"#f0f921\"]], \"type\": \"heatmap\"}], \"heatmapgl\": [{\"colorbar\": {\"outlinewidth\": 0, \"ticks\": \"\"}, \"colorscale\": [[0.0, \"#0d0887\"], [0.1111111111111111, \"#46039f\"], [0.2222222222222222, \"#7201a8\"], [0.3333333333333333, \"#9c179e\"], [0.4444444444444444, \"#bd3786\"], [0.5555555555555556, \"#d8576b\"], [0.6666666666666666, \"#ed7953\"], [0.7777777777777778, \"#fb9f3a\"], [0.8888888888888888, \"#fdca26\"], [1.0, \"#f0f921\"]], \"type\": \"heatmapgl\"}], \"histogram\": [{\"marker\": {\"colorbar\": {\"outlinewidth\": 0, \"ticks\": \"\"}}, \"type\": \"histogram\"}], \"histogram2d\": [{\"colorbar\": {\"outlinewidth\": 0, \"ticks\": \"\"}, \"colorscale\": [[0.0, \"#0d0887\"], [0.1111111111111111, \"#46039f\"], [0.2222222222222222, \"#7201a8\"], [0.3333333333333333, \"#9c179e\"], [0.4444444444444444, \"#bd3786\"], [0.5555555555555556, \"#d8576b\"], [0.6666666666666666, \"#ed7953\"], [0.7777777777777778, \"#fb9f3a\"], [0.8888888888888888, \"#fdca26\"], [1.0, \"#f0f921\"]], \"type\": \"histogram2d\"}], \"histogram2dcontour\": [{\"colorbar\": {\"outlinewidth\": 0, \"ticks\": \"\"}, \"colorscale\": [[0.0, \"#0d0887\"], [0.1111111111111111, \"#46039f\"], [0.2222222222222222, \"#7201a8\"], [0.3333333333333333, \"#9c179e\"], [0.4444444444444444, \"#bd3786\"], [0.5555555555555556, \"#d8576b\"], [0.6666666666666666, \"#ed7953\"], [0.7777777777777778, \"#fb9f3a\"], [0.8888888888888888, \"#fdca26\"], [1.0, \"#f0f921\"]], \"type\": \"histogram2dcontour\"}], \"mesh3d\": [{\"colorbar\": {\"outlinewidth\": 0, \"ticks\": \"\"}, \"type\": \"mesh3d\"}], \"parcoords\": [{\"line\": {\"colorbar\": {\"outlinewidth\": 0, \"ticks\": \"\"}}, \"type\": \"parcoords\"}], \"scatter\": [{\"marker\": {\"colorbar\": {\"outlinewidth\": 0, \"ticks\": \"\"}}, \"type\": \"scatter\"}], \"scatter3d\": [{\"line\": {\"colorbar\": {\"outlinewidth\": 0, \"ticks\": \"\"}}, \"marker\": {\"colorbar\": {\"outlinewidth\": 0, \"ticks\": \"\"}}, \"type\": \"scatter3d\"}], \"scattercarpet\": [{\"marker\": {\"colorbar\": {\"outlinewidth\": 0, \"ticks\": \"\"}}, \"type\": \"scattercarpet\"}], \"scattergeo\": [{\"marker\": {\"colorbar\": {\"outlinewidth\": 0, \"ticks\": \"\"}}, \"type\": \"scattergeo\"}], \"scattergl\": [{\"marker\": {\"colorbar\": {\"outlinewidth\": 0, \"ticks\": \"\"}}, \"type\": \"scattergl\"}], \"scattermapbox\": [{\"marker\": {\"colorbar\": {\"outlinewidth\": 0, \"ticks\": \"\"}}, \"type\": \"scattermapbox\"}], \"scatterpolar\": [{\"marker\": {\"colorbar\": {\"outlinewidth\": 0, \"ticks\": \"\"}}, \"type\": \"scatterpolar\"}], \"scatterpolargl\": [{\"marker\": {\"colorbar\": {\"outlinewidth\": 0, \"ticks\": \"\"}}, \"type\": \"scatterpolargl\"}], \"scatterternary\": [{\"marker\": {\"colorbar\": {\"outlinewidth\": 0, \"ticks\": \"\"}}, \"type\": \"scatterternary\"}], \"surface\": [{\"colorbar\": {\"outlinewidth\": 0, \"ticks\": \"\"}, \"colorscale\": [[0.0, \"#0d0887\"], [0.1111111111111111, \"#46039f\"], [0.2222222222222222, \"#7201a8\"], [0.3333333333333333, \"#9c179e\"], [0.4444444444444444, \"#bd3786\"], [0.5555555555555556, \"#d8576b\"], [0.6666666666666666, \"#ed7953\"], [0.7777777777777778, \"#fb9f3a\"], [0.8888888888888888, \"#fdca26\"], [1.0, \"#f0f921\"]], \"type\": \"surface\"}], \"table\": [{\"cells\": {\"fill\": {\"color\": \"#EBF0F8\"}, \"line\": {\"color\": \"white\"}}, \"header\": {\"fill\": {\"color\": \"#C8D4E3\"}, \"line\": {\"color\": \"white\"}}, \"type\": \"table\"}]}, \"layout\": {\"annotationdefaults\": {\"arrowcolor\": \"#2a3f5f\", \"arrowhead\": 0, \"arrowwidth\": 1}, \"colorscale\": {\"diverging\": [[0, \"#8e0152\"], [0.1, \"#c51b7d\"], [0.2, \"#de77ae\"], [0.3, \"#f1b6da\"], [0.4, \"#fde0ef\"], [0.5, \"#f7f7f7\"], [0.6, \"#e6f5d0\"], [0.7, \"#b8e186\"], [0.8, \"#7fbc41\"], [0.9, \"#4d9221\"], [1, \"#276419\"]], \"sequential\": [[0.0, \"#0d0887\"], [0.1111111111111111, \"#46039f\"], [0.2222222222222222, \"#7201a8\"], [0.3333333333333333, \"#9c179e\"], [0.4444444444444444, \"#bd3786\"], [0.5555555555555556, \"#d8576b\"], [0.6666666666666666, \"#ed7953\"], [0.7777777777777778, \"#fb9f3a\"], [0.8888888888888888, \"#fdca26\"], [1.0, \"#f0f921\"]], \"sequentialminus\": [[0.0, \"#0d0887\"], [0.1111111111111111, \"#46039f\"], [0.2222222222222222, \"#7201a8\"], [0.3333333333333333, \"#9c179e\"], [0.4444444444444444, \"#bd3786\"], [0.5555555555555556, \"#d8576b\"], [0.6666666666666666, \"#ed7953\"], [0.7777777777777778, \"#fb9f3a\"], [0.8888888888888888, \"#fdca26\"], [1.0, \"#f0f921\"]]}, \"colorway\": [\"#636efa\", \"#EF553B\", \"#00cc96\", \"#ab63fa\", \"#FFA15A\", \"#19d3f3\", \"#FF6692\", \"#B6E880\", \"#FF97FF\", \"#FECB52\"], \"font\": {\"color\": \"#2a3f5f\"}, \"geo\": {\"bgcolor\": \"white\", \"lakecolor\": \"white\", \"landcolor\": \"#E5ECF6\", \"showlakes\": true, \"showland\": true, \"subunitcolor\": \"white\"}, \"hoverlabel\": {\"align\": \"left\"}, \"hovermode\": \"closest\", \"mapbox\": {\"style\": \"light\"}, \"paper_bgcolor\": \"white\", \"plot_bgcolor\": \"#E5ECF6\", \"polar\": {\"angularaxis\": {\"gridcolor\": \"white\", \"linecolor\": \"white\", \"ticks\": \"\"}, \"bgcolor\": \"#E5ECF6\", \"radialaxis\": {\"gridcolor\": \"white\", \"linecolor\": \"white\", \"ticks\": \"\"}}, \"scene\": {\"xaxis\": {\"backgroundcolor\": \"#E5ECF6\", \"gridcolor\": \"white\", \"gridwidth\": 2, \"linecolor\": \"white\", \"showbackground\": true, \"ticks\": \"\", \"zerolinecolor\": \"white\"}, \"yaxis\": {\"backgroundcolor\": \"#E5ECF6\", \"gridcolor\": \"white\", \"gridwidth\": 2, \"linecolor\": \"white\", \"showbackground\": true, \"ticks\": \"\", \"zerolinecolor\": \"white\"}, \"zaxis\": {\"backgroundcolor\": \"#E5ECF6\", \"gridcolor\": \"white\", \"gridwidth\": 2, \"linecolor\": \"white\", \"showbackground\": true, \"ticks\": \"\", \"zerolinecolor\": \"white\"}}, \"shapedefaults\": {\"line\": {\"color\": \"#2a3f5f\"}}, \"ternary\": {\"aaxis\": {\"gridcolor\": \"white\", \"linecolor\": \"white\", \"ticks\": \"\"}, \"baxis\": {\"gridcolor\": \"white\", \"linecolor\": \"white\", \"ticks\": \"\"}, \"bgcolor\": \"#E5ECF6\", \"caxis\": {\"gridcolor\": \"white\", \"linecolor\": \"white\", \"ticks\": \"\"}}, \"title\": {\"x\": 0.05}, \"xaxis\": {\"automargin\": true, \"gridcolor\": \"white\", \"linecolor\": \"white\", \"ticks\": \"\", \"zerolinecolor\": \"white\", \"zerolinewidth\": 2}, \"yaxis\": {\"automargin\": true, \"gridcolor\": \"white\", \"linecolor\": \"white\", \"ticks\": \"\", \"zerolinecolor\": \"white\", \"zerolinewidth\": 2}}}},\n",
       "                        {\"responsive\": true}\n",
       "                    ).then(function(){\n",
       "                            \n",
       "var gd = document.getElementById('4cb39c71-9445-4f0b-b03c-70edf294cfb9');\n",
       "var x = new MutationObserver(function (mutations, observer) {{\n",
       "        var display = window.getComputedStyle(gd).display;\n",
       "        if (!display || display === 'none') {{\n",
       "            console.log([gd, 'removed!']);\n",
       "            Plotly.purge(gd);\n",
       "            observer.disconnect();\n",
       "        }}\n",
       "}});\n",
       "\n",
       "// Listen for the removal of the full notebook cells\n",
       "var notebookContainer = gd.closest('#notebook-container');\n",
       "if (notebookContainer) {{\n",
       "    x.observe(notebookContainer, {childList: true});\n",
       "}}\n",
       "\n",
       "// Listen for the clearing of the current output cell\n",
       "var outputEl = gd.closest('.output');\n",
       "if (outputEl) {{\n",
       "    x.observe(outputEl, {childList: true});\n",
       "}}\n",
       "\n",
       "                        })\n",
       "                };\n",
       "                });\n",
       "            </script>\n",
       "        </div>"
      ]
     },
     "metadata": {},
     "output_type": "display_data"
    }
   ],
   "source": [
    "fig = go.Figure()\n",
    "\n",
    "T = 1500\n",
    "\n",
    "for country in df.country.unique():\n",
    "    if cnt_by_country[country] < T: continue\n",
    "    rate = get_rate(df[df.country == country])\n",
    "    line = dict(width=8) if country == 'Mainland China' else None\n",
    "    plot_rate(fig, rate, country, opacity=0.8, line=line)\n",
    "\n",
    "rate = get_rate(df[df.country.isin([c for c, cnt in cnt_by_country.items() if cnt < T])])\n",
    "plot_rate(fig, rate, f'Countries with less than {T}', dict(width=8))\n",
    "\n",
    "rate = get_rate(df[df.country.isin([c for c, cnt in cnt_by_country.items() if cnt >= T and c != 'Mainland China'])])\n",
    "plot_rate(fig, rate, f'Countries with more than {T}', dict(width=8))\n",
    "\n",
    "fig.show()"
   ]
  }
 ],
 "metadata": {
  "kernelspec": {
   "display_name": "Python 3",
   "language": "python",
   "name": "python3"
  },
  "language_info": {
   "codemirror_mode": {
    "name": "ipython",
    "version": 3
   },
   "file_extension": ".py",
   "mimetype": "text/x-python",
   "name": "python",
   "nbconvert_exporter": "python",
   "pygments_lexer": "ipython3",
   "version": "3.7.4"
  }
 },
 "nbformat": 4,
 "nbformat_minor": 2
}
